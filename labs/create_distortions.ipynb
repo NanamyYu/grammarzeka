{
 "cells": [
  {
   "cell_type": "markdown",
   "id": "hindu-trinidad",
   "metadata": {},
   "source": [
    "# Реализация внесения искажений в слова (Гареева)"
   ]
  },
  {
   "cell_type": "markdown",
   "id": "standard-printer",
   "metadata": {},
   "source": [
    "### Функция сложности слова"
   ]
  },
  {
   "cell_type": "code",
   "execution_count": 1,
   "id": "smart-intranet",
   "metadata": {},
   "outputs": [],
   "source": [
    "%run scripts/word_difficulty.py"
   ]
  },
  {
   "cell_type": "markdown",
   "id": "specific-filter",
   "metadata": {},
   "source": [
    "### Получение морфем слова"
   ]
  },
  {
   "cell_type": "markdown",
   "id": "geological-millennium",
   "metadata": {},
   "source": [
    "Многие неочевидные места в правописании слова зависят от морфемы и ударения, поэтому было бы здорово учитывать их, если это возможно."
   ]
  },
  {
   "cell_type": "code",
   "execution_count": 2,
   "id": "behind-court",
   "metadata": {},
   "outputs": [],
   "source": [
    "def get_morphs_list(lemma: str) -> List[str]:\n",
    "    if lemma not in morph_df.index:\n",
    "        return []\n",
    "    return list(morph_df.loc[lemma]['analysis'].split('/'))"
   ]
  },
  {
   "cell_type": "markdown",
   "id": "biblical-vector",
   "metadata": {},
   "source": [
    "Протестируем"
   ]
  },
  {
   "cell_type": "code",
   "execution_count": 3,
   "id": "minute-source",
   "metadata": {},
   "outputs": [
    {
     "name": "stdout",
     "output_type": "stream",
     "text": [
      "['не', 'дисциплин', \"и'р\", 'ова', 'нн', 'ый']\n"
     ]
    }
   ],
   "source": [
    "word='недисциплинированный'\n",
    "print(get_morphs_list(lemma=word))"
   ]
  },
  {
   "cell_type": "markdown",
   "id": "virtual-advocate",
   "metadata": {},
   "source": [
    "### Безударные гласные"
   ]
  },
  {
   "cell_type": "markdown",
   "id": "thorough-calibration",
   "metadata": {},
   "source": [
    "Будем заменять безударные О и Е в слове на А и И. Определять безударность с помощью списка морфем с ударениями. Если определить морфемы не вышло, будем заменять в любом случае."
   ]
  },
  {
   "cell_type": "code",
   "execution_count": 4,
   "id": "adopted-weight",
   "metadata": {},
   "outputs": [],
   "source": [
    "stress_vowels_dict = {'о':'а', 'е':'и'}\n",
    "\n",
    "def stress_vowels_distortion(word: str, morphs_list: List[str]=[]) -> List[str]:  \n",
    "    def do_distortion(word: str) -> None:\n",
    "        stress_word = word\n",
    "        if morphs_list:\n",
    "            morphs_str = ''.join(morphs_list)\n",
    "            stress = 0\n",
    "            for i in range(len(morphs_str)):\n",
    "                if morphs_str[i] == '\\'':\n",
    "                    stress_word = stress_word[:i - stress - 1] + morphs_str[i - 1].upper() + morphs_str[i + 1:] \n",
    "                    stress += 1\n",
    "        for i in range(len(word) - 1):\n",
    "            if i < len(stress_word) and stress_word[i] in stress_vowels_dict and stress_word[i] == word[i]:\n",
    "                distortion = word[:i] + stress_vowels_dict[word[i]] + word[i + 1:]\n",
    "                if distortion not in distortions:\n",
    "                    distortions.add(distortion)\n",
    "                    do_distortion(distortion)\n",
    "        \n",
    "    distortions = set()\n",
    "    do_distortion(word)\n",
    "    return list(distortions)"
   ]
  },
  {
   "cell_type": "markdown",
   "id": "pursuant-humanity",
   "metadata": {},
   "source": [
    "Протестируем"
   ]
  },
  {
   "cell_type": "code",
   "execution_count": 5,
   "id": "prepared-husband",
   "metadata": {},
   "outputs": [
    {
     "name": "stdout",
     "output_type": "stream",
     "text": [
      "['музыкальна-литиратурный', 'музыкально-литиратурный', 'музыкальна-литературный']\n",
      "['снегауборачный', 'снигоуборочный', 'снигауборачный', 'снигауборочный', 'снегоуборачный', 'снегауборочный', 'снигоуборачный']\n",
      "[]\n"
     ]
    }
   ],
   "source": [
    "word='музыкально-литературный'\n",
    "print(stress_vowels_distortion(word, morphs_list=get_morphs_list(word)))\n",
    "word='снегоуборочный'\n",
    "print(stress_vowels_distortion(word, morphs_list=get_morphs_list(word)))\n",
    "word='гриб'\n",
    "print(stress_vowels_distortion(word, morphs_list=get_morphs_list(word)))"
   ]
  },
  {
   "cell_type": "markdown",
   "id": "approximate-messaging",
   "metadata": {},
   "source": [
    "### Парные по глухости/звонкости согласные"
   ]
  },
  {
   "cell_type": "markdown",
   "id": "visible-mayor",
   "metadata": {},
   "source": [
    "Заменим парные согласные в конце слова или перед глухими на их пару."
   ]
  },
  {
   "cell_type": "code",
   "execution_count": 6,
   "id": "amateur-guess",
   "metadata": {},
   "outputs": [],
   "source": [
    "deaf_consonants = set('пфктшсхцчщ')\n",
    "consonants_pairs = {\n",
    "    'б':'п', 'п':'б',\n",
    "    'в':'ф', 'ф':'в',\n",
    "    'г':'к', 'к':'г',\n",
    "    'д':'т', 'т':'д',\n",
    "    'ж':'ш', 'ш':'ж',\n",
    "    'з':'с', 'с':'з'\n",
    "}\n",
    "\n",
    "def consonants_distortion(word: str) -> List[str]:  \n",
    "    def do_distortion(word: str) -> None:\n",
    "        for i in range(len(word)):\n",
    "            distortion = None\n",
    "            c = word[i] \n",
    "            after_c = word[i + 1] if i < len(word) - 1 else None\n",
    "            if c in deaf_pairs and (i == len(word) - 1 or after_c in deaf_consonants):\n",
    "                distortion = word[:i] + consonants_pairs[c] + word[i + 1:]\n",
    "                if distortion not in distortions:\n",
    "                    distortions.add(distortion)\n",
    "                    do_distortion(distortion)\n",
    "        \n",
    "    distortions = set()\n",
    "    do_distortion(word)\n",
    "    return list(distortions)"
   ]
  },
  {
   "cell_type": "markdown",
   "id": "careful-melissa",
   "metadata": {},
   "source": [
    "Протестируем"
   ]
  },
  {
   "cell_type": "code",
   "execution_count": 7,
   "id": "freelance-champion",
   "metadata": {},
   "outputs": [
    {
     "name": "stdout",
     "output_type": "stream",
     "text": [
      "['случифшиеся']\n",
      "['грип']\n",
      "[]\n"
     ]
    }
   ],
   "source": [
    "word='случившиеся'\n",
    "print(consonants_distortion(word))\n",
    "word='гриб'\n",
    "print(consonants_distortion(word))\n",
    "word='отвориться'\n",
    "print(consonants_distortion(word))"
   ]
  },
  {
   "cell_type": "markdown",
   "id": "needed-checklist",
   "metadata": {},
   "source": [
    "### Гласные после шипящих и Ц"
   ]
  },
  {
   "cell_type": "markdown",
   "id": "threatened-maker",
   "metadata": {},
   "source": [
    "Заменим все возможные гласные после шипящих и Ц на их двойников."
   ]
  },
  {
   "cell_type": "code",
   "execution_count": 8,
   "id": "catholic-charleston",
   "metadata": {},
   "outputs": [],
   "source": [
    "hissing = set('жчшщ')\n",
    "vowels_pairs = {'ю':'у', 'у':'ю', 'я':'а', 'а':'я', 'ы':'и', 'и':'ы'}\n",
    "\n",
    "def vowels_hissing_distortion(word: str) -> List[str]:  \n",
    "    def do_distortion(word: str) -> None:\n",
    "        for i in range(len(word)):\n",
    "            distortion = None\n",
    "            c = word[i] \n",
    "            before_c = word[i - 1] if i > 0 else None\n",
    "            if before_c in hissing or before_c == 'ц':\n",
    "                if c in vowels_pairs:\n",
    "                    distortion = word[:i] + vowels_pairs[c] + word[i + 1:]\n",
    "            if before_c in hissing:\n",
    "                if c == 'ё':\n",
    "                    distortion = word[:i] + 'о' + word[i + 1:]\n",
    "            if distortion and distortion not in distortions:\n",
    "                distortions.add(distortion)\n",
    "                do_distortion(distortion)\n",
    "        \n",
    "    distortions = set()\n",
    "    do_distortion(word)\n",
    "    return list(distortions)"
   ]
  },
  {
   "cell_type": "markdown",
   "id": "incorrect-louisville",
   "metadata": {},
   "source": [
    "Протестируем"
   ]
  },
  {
   "cell_type": "code",
   "execution_count": 9,
   "id": "legendary-planet",
   "metadata": {},
   "outputs": [
    {
     "name": "stdout",
     "output_type": "stream",
     "text": [
      "['случывшыеся', 'случившиеся', 'случившыеся', 'случывшиеся']\n",
      "['чорное']\n",
      "[]\n"
     ]
    }
   ],
   "source": [
    "word='случившиеся'\n",
    "print(vowels_hissing_distortion(word))\n",
    "word='чёрное'\n",
    "print(vowels_hissing_distortion(word))\n",
    "word='отвориться'\n",
    "print(vowels_hissing_distortion(word))"
   ]
  },
  {
   "cell_type": "markdown",
   "id": "mobile-norman",
   "metadata": {},
   "source": [
    "### Чередование безударных гласных в корне"
   ]
  },
  {
   "cell_type": "markdown",
   "id": "twelve-conversion",
   "metadata": {},
   "source": [
    "Заменим корни с помощью спика морфем на их пару."
   ]
  },
  {
   "cell_type": "code",
   "execution_count": 10,
   "id": "secure-answer",
   "metadata": {},
   "outputs": [],
   "source": [
    "root_pairs = {'раст':'рост', 'ращ':'рощ', 'рос':'рас',\n",
    "               'лаг':'лог', 'лож':'лаж',\n",
    "               'скак':'скок', 'скоч':'скач',\n",
    "               'гар':'гор', 'гор':'гар', \n",
    "               'твар':'твор','твор':'твар', \n",
    "               'клан':'клон', 'клон':'клан',\n",
    "               'зар':'зор', 'зор':'зар',\n",
    "               'плав':'плов', 'плов':'плав',\n",
    "               'мак':'мок', 'моч':'мач',\n",
    "               'равн':'ровн', 'ровн':'равн',\n",
    "               'бер':'бир', 'бир':'бер',\n",
    "               'дер':'дир', 'дир':'дер',\n",
    "               'пер':'пир', 'пир':'пер',\n",
    "               'тер':'тир', 'тир':'тер',\n",
    "               'мер':'мир', 'мир':'мер',\n",
    "               'жег':'жиг', 'жиг':'жег',\n",
    "               'стел':'стил', 'стил':'стел',\n",
    "               'блест':'блист', 'блист':'блест',\n",
    "               'чет':'чит', 'чит':'чет',\n",
    "               'кас':'кос', 'кос':'кас'}\n",
    "\n",
    "    \n",
    "def roots_distortion(word: str, morphs_list: List[str]=[]) -> List[str]:\n",
    "    def do_distortion(word: str) -> None:\n",
    "        index = 0\n",
    "        for morph in morphs_list:\n",
    "            if morph in root_pairs and morph == word[index:index + len(morph)]:\n",
    "                distortion = word[:index] + root_pairs[morph] + word[index + len(morph):]\n",
    "                if distortion not in distortions:\n",
    "                    distortions.add(distortion)\n",
    "                    do_distortion(distortion)\n",
    "            index += len(morph.replace('\\'', ''))\n",
    "\n",
    "    distortions = set()\n",
    "    do_distortion(word)\n",
    "    return list(distortions)"
   ]
  },
  {
   "cell_type": "markdown",
   "id": "affiliated-palestinian",
   "metadata": {},
   "source": [
    "Протестируем"
   ]
  },
  {
   "cell_type": "code",
   "execution_count": 11,
   "id": "orange-bhutan",
   "metadata": {},
   "outputs": [
    {
     "name": "stdout",
     "output_type": "stream",
     "text": [
      "['отвариться']\n",
      "[]\n"
     ]
    }
   ],
   "source": [
    "word = 'отвориться'\n",
    "print(roots_distortion(word, morphs_list=get_morphs_list(word)))\n",
    "word = 'послушаться'\n",
    "print(roots_distortion(word, morphs_list=get_morphs_list(word)))"
   ]
  },
  {
   "cell_type": "markdown",
   "id": "prompt-voice",
   "metadata": {},
   "source": [
    "### Правописание приставок"
   ]
  },
  {
   "cell_type": "markdown",
   "id": "induced-occupation",
   "metadata": {},
   "source": [
    "Заменим приставки с помощью спика морфем на их пару. Если найти морфемы или приставки не удалось, попробуем заменить префикс слова."
   ]
  },
  {
   "cell_type": "code",
   "execution_count": 12,
   "id": "separated-validity",
   "metadata": {},
   "outputs": [],
   "source": [
    "prefix_pairs = {'пре':'при', 'при':'пре',\n",
    "                'без':'бес', 'бес':'без',\n",
    "                'воз':'вос', 'вос':'воз',\n",
    "                'вз':'вс', 'вс':'вз',\n",
    "                'из':'ис', 'ис':'из',\n",
    "                'низ':'нис', 'нис':'низ',\n",
    "                'раз':'рас', 'рас':'раз',\n",
    "                'чрез':'чрес', 'чрес':'чрез'}\n",
    "\n",
    "def prefixs_distortion(word: str, morphs_list: List[str]=[]) -> List[str]:\n",
    "    def do_distortion(word: str) -> None:\n",
    "        index = 0\n",
    "        for morph in morphs_list:\n",
    "            if morph in prefix_pairs and morph == word[index:index + len(morph)]:\n",
    "                distortion = word[:index] + prefix_pairs[morph] + word[index + len(morph):]\n",
    "                if distortion not in distortions:\n",
    "                    distortions.add(distortion)\n",
    "                    do_distortion(distortion)\n",
    "            index += len(morph.replace('\\'', ''))\n",
    "        if len(distortions) == 0:\n",
    "            for key, value in prefix_pairs.items():\n",
    "                distortion = word.replace(value, key, 1)\n",
    "                if distortion != word:\n",
    "                    distortions.add(distortion)\n",
    "            \n",
    "    distortions = set()\n",
    "    do_distortion(word)\n",
    "    return list(distortions)"
   ]
  },
  {
   "cell_type": "markdown",
   "id": "negative-pipeline",
   "metadata": {},
   "source": [
    "Протестируем"
   ]
  },
  {
   "cell_type": "code",
   "execution_count": 13,
   "id": "facial-worse",
   "metadata": {},
   "outputs": [
    {
     "name": "stdout",
     "output_type": "stream",
     "text": [
      "['преподняться']\n",
      "['беспреданница', 'безприданница', 'безпреданница']\n",
      "['преключениях']\n",
      "[]\n"
     ]
    }
   ],
   "source": [
    "word = 'приподняться'\n",
    "print(prefixs_distortion(word, morphs_list=get_morphs_list(word)))\n",
    "word = 'бесприданница'\n",
    "print(prefixs_distortion(word, morphs_list=get_morphs_list(word)))\n",
    "word = 'приключениях'\n",
    "print(prefixs_distortion(word, morphs_list=get_morphs_list(word)))\n",
    "word = 'отвориться'\n",
    "print(prefixs_distortion(word, morphs_list=get_morphs_list(word)))"
   ]
  },
  {
   "cell_type": "markdown",
   "id": "fixed-mainland",
   "metadata": {},
   "source": [
    "### Правописание ться/тся"
   ]
  },
  {
   "cell_type": "markdown",
   "id": "independent-cincinnati",
   "metadata": {},
   "source": [
    "Заменим постфикс слова ться на тся и наоборот."
   ]
  },
  {
   "cell_type": "code",
   "execution_count": 14,
   "id": "conditional-graph",
   "metadata": {},
   "outputs": [],
   "source": [
    "postfix_pairs = {'тся':'ться', 'ться':'тся'}\n",
    "\n",
    "def postfixs_distortion(word: str) -> List[str]:\n",
    "    for postfix in postfix_pairs:\n",
    "        if word[-len(postfix):] == postfix:\n",
    "            return [word[:-len(postfix)] + postfix_pairs[postfix]]\n",
    "    return []"
   ]
  },
  {
   "cell_type": "markdown",
   "id": "recent-calculator",
   "metadata": {},
   "source": [
    "Протестируем"
   ]
  },
  {
   "cell_type": "code",
   "execution_count": 15,
   "id": "experimental-cleaner",
   "metadata": {},
   "outputs": [
    {
     "name": "stdout",
     "output_type": "stream",
     "text": [
      "['приподнятся']\n",
      "['приподняться']\n",
      "[]\n"
     ]
    }
   ],
   "source": [
    "word = 'приподняться'\n",
    "print(postfixs_distortion(word))\n",
    "word = 'приподнятся'\n",
    "print(postfixs_distortion(word))\n",
    "word = 'приподнялась'\n",
    "print(postfixs_distortion(word))"
   ]
  },
  {
   "cell_type": "markdown",
   "id": "professional-ranch",
   "metadata": {},
   "source": [
    "### Двойные согласные"
   ]
  },
  {
   "cell_type": "markdown",
   "id": "excited-resistance",
   "metadata": {},
   "source": [
    "Удалим двойные согласные и добавим лишнюю н у суффиксов ан, ян, ын, ин."
   ]
  },
  {
   "cell_type": "code",
   "execution_count": 16,
   "id": "danish-august",
   "metadata": {},
   "outputs": [],
   "source": [
    "vowels = set('аяоёуюыиэе')\n",
    "\n",
    "def two_in_row_distortion(word: str) -> List[str]:\n",
    "    def do_distortion(word: str) -> None:\n",
    "        for i in range(len(word) - 2):\n",
    "            if i > 0 and word[i - 1] == word[i] and word[i] not in vowels:\n",
    "                distortion = word[:i] + word[i + 1:]\n",
    "                if distortion not in distortions:\n",
    "                    distortions.add(distortion)\n",
    "                    do_distortion(distortion)\n",
    "            \n",
    "    distortions = set()\n",
    "    do_distortion(word)\n",
    "    return list(distortions)\n",
    "\n",
    "single_suffixs = set(['ан', 'ян', 'ын', 'ин'])\n",
    "\n",
    "def duplicate_distortion(word: str, morphs_list: List[str]) -> List[str]:\n",
    "    def do_distortion(word: str) -> None:\n",
    "        index = 0\n",
    "        for morph in morphs_list:\n",
    "            morph = morph.replace('\\'', '')\n",
    "            if morph in single_suffixs and morph == word[index:index + len(morph)] and\\\n",
    "                index + len(morph) < len(word) and word[index + len(morph) - 1] != word[index + len(morph)]:\n",
    "                    distortion = word[:index] + morph + 'н' + word[index + len(morph):]\n",
    "                    if distortion not in distortions:\n",
    "                        distortions.add(distortion)\n",
    "                        do_distortion(distortion)\n",
    "            index += len(morph)\n",
    "            \n",
    "    distortions = set()\n",
    "    do_distortion(word)\n",
    "    return list(distortions)"
   ]
  },
  {
   "cell_type": "markdown",
   "id": "first-limit",
   "metadata": {},
   "source": [
    "Протестируем"
   ]
  },
  {
   "cell_type": "code",
   "execution_count": 17,
   "id": "promising-strand",
   "metadata": {},
   "outputs": [
    {
     "name": "stdout",
     "output_type": "stream",
     "text": [
      "['безаконый', 'безаконный', 'беззаконый']\n",
      "[]\n",
      "[]\n",
      "['костянной']\n"
     ]
    }
   ],
   "source": [
    "word = 'беззаконный'\n",
    "print(two_in_row_distortion(word))\n",
    "word = 'костяной'\n",
    "print(two_in_row_distortion(word))\n",
    "word = 'беззаконный'\n",
    "print(duplicate_distortion(word, morphs_list=get_morphs_list(word)))\n",
    "word = 'костяной'\n",
    "print(duplicate_distortion(word, morphs_list=get_morphs_list(word)))"
   ]
  },
  {
   "cell_type": "markdown",
   "id": "cooperative-luxembourg",
   "metadata": {},
   "source": [
    "### Непроизносимые согласные"
   ]
  },
  {
   "cell_type": "markdown",
   "id": "needed-louisiana",
   "metadata": {},
   "source": [
    "Удалим непроизносимую букву в наборе подряд идущих согласных. Если таких не нашлось. Поробуем добавить эту лишнюю букву."
   ]
  },
  {
   "cell_type": "code",
   "execution_count": 18,
   "id": "driven-intranet",
   "metadata": {},
   "outputs": [],
   "source": [
    "silent_consonants_dict = {'стн':'сн',\n",
    "                          'стл':'сл',\n",
    "                          'ндш':'нш',\n",
    "                          'ндц':'нц',\n",
    "                          'нтг':'нг',\n",
    "                          'здн':'зн',\n",
    "                          'здц':'зц',\n",
    "                          'рдц':'рц',\n",
    "                          'рдч':'рч',\n",
    "                          'лнц':'нц',\n",
    "                          'вств':'ств'}\n",
    "\n",
    "def silent_consonants_distortion(word: str) -> List[str]:\n",
    "    def do_distortion(word: str) -> None:\n",
    "        for key, value in silent_consonants_dict.items():\n",
    "            distortion = word.replace(key, value, 1)\n",
    "            if distortion != word and distortion not in distortions:\n",
    "                distortions.add(distortion)\n",
    "                do_distortion(distortion)\n",
    "        if len(distortions) == 0:\n",
    "            for key, value in silent_consonants_dict.items():\n",
    "                distortion = word.replace(value, key, 1)\n",
    "                if distortion != word:\n",
    "                    distortions.add(distortion)\n",
    "    \n",
    "    distortions = set()\n",
    "    do_distortion(word)\n",
    "    return list(distortions)"
   ]
  },
  {
   "cell_type": "markdown",
   "id": "compound-intention",
   "metadata": {},
   "source": [
    "Протестируем"
   ]
  },
  {
   "cell_type": "code",
   "execution_count": 19,
   "id": "little-emission",
   "metadata": {},
   "outputs": [
    {
     "name": "stdout",
     "output_type": "stream",
     "text": [
      "['сонце']\n",
      "['чуство']\n",
      "['ужастный']\n",
      "['снстл', 'снсл', 'стнсл']\n",
      "[]\n"
     ]
    }
   ],
   "source": [
    "word = 'солнце'\n",
    "print(silent_consonants_distortion(word))\n",
    "word = 'чувство'\n",
    "print(silent_consonants_distortion(word))\n",
    "word = 'ужасный'\n",
    "print(silent_consonants_distortion(word))\n",
    "word = 'стнстл'\n",
    "print(silent_consonants_distortion(word))\n",
    "word = 'костяной'\n",
    "print(silent_consonants_distortion(word))"
   ]
  },
  {
   "cell_type": "markdown",
   "id": "equal-working",
   "metadata": {},
   "source": [
    "### Твердый знак"
   ]
  },
  {
   "cell_type": "markdown",
   "id": "deadly-skating",
   "metadata": {},
   "source": [
    "Заменим твердый знак на мягкий."
   ]
  },
  {
   "cell_type": "code",
   "execution_count": 20,
   "id": "traditional-death",
   "metadata": {},
   "outputs": [],
   "source": [
    "def hard_sign_distortion(word: str) -> List[str]:\n",
    "    if 'ъ' in set(word):\n",
    "        return [word.replace('ъ', 'ь', 1)]\n",
    "    return []"
   ]
  },
  {
   "cell_type": "markdown",
   "id": "binding-salon",
   "metadata": {},
   "source": [
    "Протестируем"
   ]
  },
  {
   "cell_type": "code",
   "execution_count": 21,
   "id": "armed-maximum",
   "metadata": {},
   "outputs": [
    {
     "name": "stdout",
     "output_type": "stream",
     "text": [
      "['обьём']\n",
      "[]\n"
     ]
    }
   ],
   "source": [
    "word = 'объём'\n",
    "print(hard_sign_distortion(word))\n",
    "word = 'солнце'\n",
    "print(hard_sign_distortion(word))"
   ]
  },
  {
   "cell_type": "markdown",
   "id": "guilty-crawford",
   "metadata": {},
   "source": [
    "### Дефисные написания"
   ]
  },
  {
   "cell_type": "markdown",
   "id": "pregnant-scholarship",
   "metadata": {},
   "source": [
    "Уберем дефисы или заменим на пробел."
   ]
  },
  {
   "cell_type": "code",
   "execution_count": 22,
   "id": "fifteen-tribune",
   "metadata": {},
   "outputs": [],
   "source": [
    "def hyphen_distortion(word: str) -> List[str]:\n",
    "    if '-' in set(word):\n",
    "        return [word.replace('-', ' '), word.replace('-', '')]\n",
    "    return []"
   ]
  },
  {
   "cell_type": "markdown",
   "id": "material-pixel",
   "metadata": {},
   "source": [
    "Протестируем"
   ]
  },
  {
   "cell_type": "code",
   "execution_count": 23,
   "id": "closed-capture",
   "metadata": {},
   "outputs": [
    {
     "name": "stdout",
     "output_type": "stream",
     "text": [
      "['все таки', 'всетаки']\n",
      "[]\n"
     ]
    }
   ],
   "source": [
    "word = 'все-таки'\n",
    "print(hyphen_distortion(word))\n",
    "word = 'костяной'\n",
    "print(hyphen_distortion(word))"
   ]
  },
  {
   "cell_type": "markdown",
   "id": "possible-worker",
   "metadata": {},
   "source": [
    "### Финальная функция внесения искажений в слова"
   ]
  },
  {
   "cell_type": "markdown",
   "id": "serious-frederick",
   "metadata": {},
   "source": [
    "Скомбинируем все созданные искажения, начиная с более узких правил, которые зависят от морфем, заканчивая самыми простыми заменями согласных и гласных. Ограничим количество полученных искажений переменной **max_amount**."
   ]
  },
  {
   "cell_type": "code",
   "execution_count": 24,
   "id": "occupational-schema",
   "metadata": {},
   "outputs": [],
   "source": [
    "def create_distortions(word: str, lemma: str, max_amount: int=6) -> List[str]:\n",
    "    morphs_list=get_morphs_list(lemma)    \n",
    "    distortions = set([word])\n",
    "    \n",
    "    def do_function(func, morphs=False) -> None:\n",
    "        result = set()\n",
    "        for distortion in distortions:     \n",
    "            result.update(func(distortion, morphs_list) if morphs else func(distortion))\n",
    "        if len(distortions | result) <= max_amount:\n",
    "            distortions.update(result)     \n",
    "\n",
    "    do_function(roots_distortion, morphs=True)\n",
    "    do_function(prefixs_distortion, morphs=True)\n",
    "    do_function(postfixs_distortion)\n",
    "    do_function(two_in_row_distortion)\n",
    "    do_function(duplicate_distortion, morphs=True)\n",
    "    do_function(silent_consonants_distortion)\n",
    "    do_function(hard_sign_distortion)\n",
    "    do_function(hyphen_distortion)\n",
    "    do_function(stress_vowels_distortion, morphs=True)\n",
    "    do_function(consonants_distortion)\n",
    "    do_function(vowels_hissing_distortion)\n",
    "    \n",
    "    distortions.remove(word)\n",
    "    return list(distortions)"
   ]
  },
  {
   "cell_type": "markdown",
   "id": "victorian-facing",
   "metadata": {},
   "source": [
    "Протестируем"
   ]
  },
  {
   "cell_type": "code",
   "execution_count": 25,
   "id": "multiple-rubber",
   "metadata": {},
   "outputs": [
    {
     "name": "stdout",
     "output_type": "stream",
     "text": [
      "['собераеться', 'соберается', 'собираеться']\n",
      "['пристаринного', 'престариного', 'пристариного']\n"
     ]
    }
   ],
   "source": [
    "print(create_distortions(word='собирается', lemma='собираться'))\n",
    "print(create_distortions(word='престаринного', lemma='престаринный'))"
   ]
  },
  {
   "cell_type": "markdown",
   "id": "pleased-bunny",
   "metadata": {},
   "source": [
    "### Проверка работы функции"
   ]
  },
  {
   "cell_type": "markdown",
   "id": "aging-graphic",
   "metadata": {},
   "source": [
    "Напишем функции для создания датасета слов повышенной сложности с искажениями из текстового документа со словами и визуализации количества полученных искажений."
   ]
  },
  {
   "cell_type": "code",
   "execution_count": 26,
   "id": "informed-following",
   "metadata": {},
   "outputs": [],
   "source": [
    "def countplot_distortions_df(distortions_df: pd.DataFrame) -> None:\n",
    "    print('Всего слов: {}'.format(len(distortions_df)))\n",
    "    print('Слов без искажений: {}'.format(len(distortions_df[distortions_df['distortions_amount'] == 0])))\n",
    "    print('Слов с искажениями: {}'.format(len(distortions_df[distortions_df['distortions_amount'] != 0])))\n",
    "    \n",
    "    fig, ax = plt.subplots(figsize=(8, 4))\n",
    "    \n",
    "    sns.countplot(x=distortions_df[distortions_df['distortions_amount'] != 0]['distortions_amount'])\n",
    "    ax.set_title('Количество слов с определенном количеством искажений')\n",
    "    ax.set_ylabel('Количество слов')\n",
    "    ax.set_xlabel('Количество искажений')\n",
    "    \n",
    "    plt.show()\n",
    "    \n",
    "def analyze_distortions(filepath: str, stop=None, show_plot=True) -> pd.DataFrame:\n",
    "    distortions_df = pd.DataFrame(columns=['distortions', 'distortions_amount'])\n",
    "    with open(filepath, 'rb') as f:\n",
    "        for i, word in enumerate(tqdm(f.read().decode('utf-8').split())):\n",
    "            word = transform_word(word)[0]\n",
    "            if word and word not in distortions_df.index:\n",
    "                difficulty = word_difficulty(word)\n",
    "                if 0.5 <= difficulty['difficulty']:\n",
    "                    distortions = create_distortions(word, difficulty['lemma'])\n",
    "                    info = {'distortions': distortions,\n",
    "                            'distortions_amount': len(distortions),\n",
    "                            'difficulty': difficulty['difficulty']}\n",
    "                    row = pd.Series(info, name=word)\n",
    "                    distortions_df = distortions_df.append(row)\n",
    "            if stop and stop <= i:\n",
    "                break\n",
    "    if show_plot:\n",
    "        countplot_distortions_df(distortions_df)\n",
    "    return distortions_df"
   ]
  },
  {
   "cell_type": "markdown",
   "id": "rotary-gender",
   "metadata": {},
   "source": [
    "Возьмем небольшой текст, чтобы мы могли протестировать внесение искажений. Например, отрывок из 'Алисы в стране чудес' Льюиса Кэрролла."
   ]
  },
  {
   "cell_type": "code",
   "execution_count": 27,
   "id": "indian-technology",
   "metadata": {},
   "outputs": [],
   "source": [
    "alice_in_wonderland_fullname = save_zip_txt(url='https://royallib.com/get/txt/keroll_lyuis/alisa_v_strane_chudes.zip',\n",
    "                                     dirname='datasets/texts/alice_in_wonderland/',\n",
    "                                     new_filename='alice_in_wonderland.txt')"
   ]
  },
  {
   "cell_type": "code",
   "execution_count": 28,
   "id": "resident-lobby",
   "metadata": {},
   "outputs": [
    {
     "name": "stderr",
     "output_type": "stream",
     "text": [
      "100%|██████████████████████████████████████████████████████████████████████████| 28613/28613 [00:27<00:00, 1033.66it/s]\n"
     ]
    },
    {
     "name": "stdout",
     "output_type": "stream",
     "text": [
      "Всего слов: 1431\n",
      "Слов без искажений: 152\n",
      "Слов с искажениями: 1279\n"
     ]
    },
    {
     "data": {
      "image/png": "[encoded data removed]",
      "text/plain": [
       "<Figure size 576x288 with 1 Axes>"
      ]
     },
     "metadata": {
      "needs_background": "light"
     },
     "output_type": "display_data"
    },
    {
     "data": {
      "text/html": [
       "<div>\n",
       "<style scoped>\n",
       "    .dataframe tbody tr th:only-of-type {\n",
       "        vertical-align: middle;\n",
       "    }\n",
       "\n",
       "    .dataframe tbody tr th {\n",
       "        vertical-align: top;\n",
       "    }\n",
       "\n",
       "    .dataframe thead th {\n",
       "        text-align: right;\n",
       "    }\n",
       "</style>\n",
       "<table border=\"1\" class=\"dataframe\">\n",
       "  <thead>\n",
       "    <tr style=\"text-align: right;\">\n",
       "      <th></th>\n",
       "      <th>distortions</th>\n",
       "      <th>distortions_amount</th>\n",
       "      <th>difficulty</th>\n",
       "    </tr>\n",
       "    <tr>\n",
       "      <th>word</th>\n",
       "      <th></th>\n",
       "      <th></th>\n",
       "      <th></th>\n",
       "    </tr>\n",
       "  </thead>\n",
       "  <tbody>\n",
       "    <tr>\n",
       "      <th>большинство</th>\n",
       "      <td>[большиннфство, большиннство, большинвство, бо...</td>\n",
       "      <td>5</td>\n",
       "      <td>0.5</td>\n",
       "    </tr>\n",
       "    <tr>\n",
       "      <th>вернуться</th>\n",
       "      <td>[вернутся, вирнутся, вирнуться]</td>\n",
       "      <td>3</td>\n",
       "      <td>0.5</td>\n",
       "    </tr>\n",
       "    <tr>\n",
       "      <th>вперед</th>\n",
       "      <td>[впирид, впиред, вперид]</td>\n",
       "      <td>3</td>\n",
       "      <td>0.5</td>\n",
       "    </tr>\n",
       "    <tr>\n",
       "      <th>все-таки</th>\n",
       "      <td>[взе-таки, все таки, всетаки, взе таки, взетаки]</td>\n",
       "      <td>5</td>\n",
       "      <td>0.5</td>\n",
       "    </tr>\n",
       "    <tr>\n",
       "      <th>доджсона</th>\n",
       "      <td>[даджсона, доджсана, даджсана]</td>\n",
       "      <td>3</td>\n",
       "      <td>0.5</td>\n",
       "    </tr>\n",
       "    <tr>\n",
       "      <th>...</th>\n",
       "      <td>...</td>\n",
       "      <td>...</td>\n",
       "      <td>...</td>\n",
       "    </tr>\n",
       "    <tr>\n",
       "      <th>поспешно-остановилась</th>\n",
       "      <td>[поспешно остановилась, поспешноостановилась]</td>\n",
       "      <td>2</td>\n",
       "      <td>1.0</td>\n",
       "    </tr>\n",
       "    <tr>\n",
       "      <th>постепенностью</th>\n",
       "      <td>[постепеностью]</td>\n",
       "      <td>1</td>\n",
       "      <td>1.0</td>\n",
       "    </tr>\n",
       "    <tr>\n",
       "      <th>противоречащее</th>\n",
       "      <td>[противоречящее]</td>\n",
       "      <td>1</td>\n",
       "      <td>1.0</td>\n",
       "    </tr>\n",
       "    <tr>\n",
       "      <th>соотносительности</th>\n",
       "      <td>[]</td>\n",
       "      <td>0</td>\n",
       "      <td>1.0</td>\n",
       "    </tr>\n",
       "    <tr>\n",
       "      <th>ученым-исследователем</th>\n",
       "      <td>[ученым-изстледователем, ученым-истледователем...</td>\n",
       "      <td>5</td>\n",
       "      <td>1.0</td>\n",
       "    </tr>\n",
       "  </tbody>\n",
       "</table>\n",
       "<p>1431 rows × 3 columns</p>\n",
       "</div>"
      ],
      "text/plain": [
       "                                                             distortions  \\\n",
       "word                                                                       \n",
       "большинство            [большиннфство, большиннство, большинвство, бо...   \n",
       "вернуться                                [вернутся, вирнутся, вирнуться]   \n",
       "вперед                                          [впирид, впиред, вперид]   \n",
       "все-таки                [взе-таки, все таки, всетаки, взе таки, взетаки]   \n",
       "доджсона                                  [даджсона, доджсана, даджсана]   \n",
       "...                                                                  ...   \n",
       "поспешно-остановилась      [поспешно остановилась, поспешноостановилась]   \n",
       "постепенностью                                           [постепеностью]   \n",
       "противоречащее                                          [противоречящее]   \n",
       "соотносительности                                                     []   \n",
       "ученым-исследователем  [ученым-изстледователем, ученым-истледователем...   \n",
       "\n",
       "                      distortions_amount  difficulty  \n",
       "word                                                  \n",
       "большинство                            5         0.5  \n",
       "вернуться                              3         0.5  \n",
       "вперед                                 3         0.5  \n",
       "все-таки                               5         0.5  \n",
       "доджсона                               3         0.5  \n",
       "...                                  ...         ...  \n",
       "поспешно-остановилась                  2         1.0  \n",
       "постепенностью                         1         1.0  \n",
       "противоречащее                         1         1.0  \n",
       "соотносительности                      0         1.0  \n",
       "ученым-исследователем                  5         1.0  \n",
       "\n",
       "[1431 rows x 3 columns]"
      ]
     },
     "execution_count": 28,
     "metadata": {},
     "output_type": "execute_result"
    }
   ],
   "source": [
    "distortions_df = analyze_distortions(filepath=alice_in_wonderland_fullname, stop=None)\n",
    "distortions_df.rename_axis('word').sort_values(by=['difficulty', 'word'])"
   ]
  },
  {
   "cell_type": "markdown",
   "id": "interested-thumbnail",
   "metadata": {},
   "source": [
    "# Весь нужный код"
   ]
  },
  {
   "cell_type": "code",
   "execution_count": 29,
   "id": "smoking-spelling",
   "metadata": {},
   "outputs": [],
   "source": [
    "# Функция сложности слова\n",
    "exec(open('scripts/word_difficulty.py').read())\n",
    "\n",
    "\n",
    "# Вспомогательные функции\n",
    "def get_morphs_list(lemma: str) -> List[str]:\n",
    "    if lemma not in morph_df.index:\n",
    "        return []\n",
    "    return list(morph_df.loc[lemma]['analysis'].split('/'))\n",
    "\n",
    "stress_vowels_dict = {'о':'а', 'е':'и'}\n",
    "\n",
    "def stress_vowels_distortion(word: str, morphs_list: List[str]=[]) -> List[str]:  \n",
    "    def do_distortion(word: str) -> None:\n",
    "        stress_word = word\n",
    "        if morphs_list:\n",
    "            morphs_str = ''.join(morphs_list)\n",
    "            stress = 0\n",
    "            for i in range(len(morphs_str)):\n",
    "                if morphs_str[i] == '\\'':\n",
    "                    stress_word = stress_word[:i - stress - 1] + morphs_str[i - 1].upper() + morphs_str[i + 1:] \n",
    "                    stress += 1\n",
    "        for i in range(len(word) - 1):\n",
    "            if i < len(stress_word) and stress_word[i] in stress_vowels_dict and stress_word[i] == word[i]:\n",
    "                distortion = word[:i] + stress_vowels_dict[word[i]] + word[i + 1:]\n",
    "                if distortion not in distortions:\n",
    "                    distortions.add(distortion)\n",
    "                    do_distortion(distortion)\n",
    "        \n",
    "    distortions = set()\n",
    "    do_distortion(word)\n",
    "    return list(distortions)\n",
    "\n",
    "deaf_consonants = set('пфктшсхцчщ')\n",
    "consonants_pairs = {\n",
    "    'б':'п', 'п':'б',\n",
    "    'в':'ф', 'ф':'в',\n",
    "    'г':'к', 'к':'г',\n",
    "    'д':'т', 'т':'д',\n",
    "    'ж':'ш', 'ш':'ж',\n",
    "    'з':'с', 'с':'з'\n",
    "}\n",
    "\n",
    "def consonants_distortion(word: str) -> List[str]:  \n",
    "    def do_distortion(word: str) -> None:\n",
    "        for i in range(len(word)):\n",
    "            distortion = None\n",
    "            c = word[i] \n",
    "            after_c = word[i + 1] if i < len(word) - 1 else None\n",
    "            if c in deaf_pairs and (i == len(word) - 1 or after_c in deaf_consonants):\n",
    "                distortion = word[:i] + consonants_pairs[c] + word[i + 1:]\n",
    "                if distortion not in distortions:\n",
    "                    distortions.add(distortion)\n",
    "                    do_distortion(distortion)\n",
    "        \n",
    "    distortions = set()\n",
    "    do_distortion(word)\n",
    "    return list(distortions)\n",
    "\n",
    "hissing = set('жчшщ')\n",
    "vowels_pairs = {'ю':'у', 'у':'ю', 'я':'а', 'а':'я', 'ы':'и', 'и':'ы'}\n",
    "\n",
    "def vowels_hissing_distortion(word: str) -> List[str]:  \n",
    "    def do_distortion(word: str) -> None:\n",
    "        for i in range(len(word)):\n",
    "            distortion = None\n",
    "            c = word[i] \n",
    "            before_c = word[i - 1] if i > 0 else None\n",
    "            if before_c in hissing or before_c == 'ц':\n",
    "                if c in vowels_pairs:\n",
    "                    distortion = word[:i] + vowels_pairs[c] + word[i + 1:]\n",
    "            if before_c in hissing:\n",
    "                if c == 'ё':\n",
    "                    distortion = word[:i] + 'о' + word[i + 1:]\n",
    "            if distortion and distortion not in distortions:\n",
    "                distortions.add(distortion)\n",
    "                do_distortion(distortion)\n",
    "        \n",
    "    distortions = set()\n",
    "    do_distortion(word)\n",
    "    return list(distortions)\n",
    "\n",
    "root_pairs = {'раст':'рост', 'ращ':'рощ', 'рос':'рас',\n",
    "               'лаг':'лог', 'лож':'лаж',\n",
    "               'скак':'скок', 'скоч':'скач',\n",
    "               'гар':'гор', 'гор':'гар', \n",
    "               'твар':'твор','твор':'твар', \n",
    "               'клан':'клон', 'клон':'клан',\n",
    "               'зар':'зор', 'зор':'зар',\n",
    "               'плав':'плов', 'плов':'плав',\n",
    "               'мак':'мок', 'моч':'мач',\n",
    "               'равн':'ровн', 'ровн':'равн',\n",
    "               'бер':'бир', 'бир':'бер',\n",
    "               'дер':'дир', 'дир':'дер',\n",
    "               'пер':'пир', 'пир':'пер',\n",
    "               'тер':'тир', 'тир':'тер',\n",
    "               'мер':'мир', 'мир':'мер',\n",
    "               'жег':'жиг', 'жиг':'жег',\n",
    "               'стел':'стил', 'стил':'стел',\n",
    "               'блест':'блист', 'блист':'блест',\n",
    "               'чет':'чит', 'чит':'чет',\n",
    "               'кас':'кос', 'кос':'кас'}\n",
    "\n",
    "    \n",
    "def roots_distortion(word: str, morphs_list: List[str]=[]) -> List[str]:\n",
    "    def do_distortion(word: str) -> None:\n",
    "        index = 0\n",
    "        for morph in morphs_list:\n",
    "            if morph in root_pairs and morph == word[index:index + len(morph)]:\n",
    "                distortion = word[:index] + root_pairs[morph] + word[index + len(morph):]\n",
    "                if distortion not in distortions:\n",
    "                    distortions.add(distortion)\n",
    "                    do_distortion(distortion)\n",
    "            index += len(morph.replace('\\'', ''))\n",
    "\n",
    "    distortions = set()\n",
    "    do_distortion(word)\n",
    "    return list(distortions)\n",
    "\n",
    "prefix_pairs = {'пре':'при', 'при':'пре',\n",
    "                'без':'бес', 'бес':'без',\n",
    "                'воз':'вос', 'вос':'воз',\n",
    "                'вз':'вс', 'вс':'вз',\n",
    "                'из':'ис', 'ис':'из',\n",
    "                'низ':'нис', 'нис':'низ',\n",
    "                'раз':'рас', 'рас':'раз',\n",
    "                'чрез':'чрес', 'чрес':'чрез'}\n",
    "\n",
    "def prefixs_distortion(word: str, morphs_list: List[str]=[]) -> List[str]:\n",
    "    def do_distortion(word: str) -> None:\n",
    "        index = 0\n",
    "        for morph in morphs_list:\n",
    "            if morph in prefix_pairs and morph == word[index:index + len(morph)]:\n",
    "                distortion = word[:index] + prefix_pairs[morph] + word[index + len(morph):]\n",
    "                if distortion not in distortions:\n",
    "                    distortions.add(distortion)\n",
    "                    do_distortion(distortion)\n",
    "            index += len(morph.replace('\\'', ''))\n",
    "        if len(distortions) == 0:\n",
    "            for key, value in prefix_pairs.items():\n",
    "                distortion = word.replace(value, key, 1)\n",
    "                if distortion != word:\n",
    "                    distortions.add(distortion)\n",
    "            \n",
    "    distortions = set()\n",
    "    do_distortion(word)\n",
    "    return list(distortions)\n",
    "\n",
    "postfix_pairs = {'тся':'ться', 'ться':'тся'}\n",
    "\n",
    "def postfixs_distortion(word: str) -> List[str]:\n",
    "    for postfix in postfix_pairs:\n",
    "        if word[-len(postfix):] == postfix:\n",
    "            return [word[:-len(postfix)] + postfix_pairs[postfix]]\n",
    "    return []\n",
    "\n",
    "vowels = set('аяоёуюыиэе')\n",
    "\n",
    "def two_in_row_distortion(word: str) -> List[str]:\n",
    "    def do_distortion(word: str) -> None:\n",
    "        for i in range(len(word) - 2):\n",
    "            if i > 0 and word[i - 1] == word[i] and word[i] not in vowels:\n",
    "                distortion = word[:i] + word[i + 1:]\n",
    "                if distortion not in distortions:\n",
    "                    distortions.add(distortion)\n",
    "                    do_distortion(distortion)\n",
    "            \n",
    "    distortions = set()\n",
    "    do_distortion(word)\n",
    "    return list(distortions)\n",
    "\n",
    "single_suffixs = set(['ан', 'ян', 'ын', 'ин'])\n",
    "\n",
    "def duplicate_distortion(word: str, morphs_list: List[str]) -> List[str]:\n",
    "    def do_distortion(word: str) -> None:\n",
    "        index = 0\n",
    "        for morph in morphs_list:\n",
    "            morph = morph.replace('\\'', '')\n",
    "            if morph in single_suffixs and morph == word[index:index + len(morph)] and\\\n",
    "                index + len(morph) < len(word) and word[index + len(morph) - 1] != word[index + len(morph)]:\n",
    "                    distortion = word[:index] + morph + 'н' + word[index + len(morph):]\n",
    "                    if distortion not in distortions:\n",
    "                        distortions.add(distortion)\n",
    "                        do_distortion(distortion)\n",
    "            index += len(morph)\n",
    "            \n",
    "    distortions = set()\n",
    "    do_distortion(word)\n",
    "    return list(distortions)\n",
    "\n",
    "silent_consonants_dict = {'стн':'сн',\n",
    "                          'стл':'сл',\n",
    "                          'ндш':'нш',\n",
    "                          'ндц':'нц',\n",
    "                          'нтг':'нг',\n",
    "                          'здн':'зн',\n",
    "                          'здц':'зц',\n",
    "                          'рдц':'рц',\n",
    "                          'рдч':'рч',\n",
    "                          'лнц':'нц',\n",
    "                          'вств':'ств'}\n",
    "\n",
    "def silent_consonants_distortion(word: str) -> List[str]:\n",
    "    def do_distortion(word: str) -> None:\n",
    "        for key, value in silent_consonants_dict.items():\n",
    "            distortion = word.replace(key, value, 1)\n",
    "            if distortion != word and distortion not in distortions:\n",
    "                distortions.add(distortion)\n",
    "                do_distortion(distortion)\n",
    "        if len(distortions) == 0:\n",
    "            for key, value in silent_consonants_dict.items():\n",
    "                distortion = word.replace(value, key, 1)\n",
    "                if distortion != word:\n",
    "                    distortions.add(distortion)\n",
    "    \n",
    "    distortions = set()\n",
    "    do_distortion(word)\n",
    "    return list(distortions)\n",
    "\n",
    "def hard_sign_distortion(word: str) -> List[str]:\n",
    "    if 'ъ' in set(word):\n",
    "        return [word.replace('ъ', 'ь', 1)]\n",
    "    return []\n",
    "\n",
    "def hyphen_distortion(word: str) -> List[str]:\n",
    "    if '-' in set(word):\n",
    "        return [word.replace('-', ' '), word.replace('-', '')]\n",
    "    return []\n",
    "\n",
    "\n",
    "# Основная функция сложности слова\n",
    "def create_distortions(word: str, lemma: str, max_amount: int=6) -> List[str]:\n",
    "    morphs_list=get_morphs_list(lemma)    \n",
    "    distortions = set([word])\n",
    "    \n",
    "    def do_function(func, morphs=False) -> None:\n",
    "        result = set()\n",
    "        for distortion in distortions:     \n",
    "            result.update(func(distortion, morphs_list) if morphs else func(distortion))\n",
    "        if len(distortions | result) <= max_amount:\n",
    "            distortions.update(result)     \n",
    "\n",
    "    do_function(roots_distortion, morphs=True)\n",
    "    do_function(prefixs_distortion, morphs=True)\n",
    "    do_function(postfixs_distortion)\n",
    "    do_function(two_in_row_distortion)\n",
    "    do_function(duplicate_distortion, morphs=True)\n",
    "    do_function(silent_consonants_distortion)\n",
    "    do_function(hard_sign_distortion)\n",
    "    do_function(hyphen_distortion)\n",
    "    do_function(stress_vowels_distortion, morphs=True)\n",
    "    do_function(consonants_distortion)\n",
    "    do_function(vowels_hissing_distortion)\n",
    "    \n",
    "    distortions.remove(word)\n",
    "    return list(distortions)\n",
    "\n",
    "\n",
    "# Функции анализа искажений .txt\n",
    "def countplot_distortions_df(distortions_df: pd.DataFrame) -> None:\n",
    "    print('Всего слов: {}'.format(len(distortions_df)))\n",
    "    print('Слов без искажений: {}'.format(len(distortions_df[distortions_df['distortions_amount'] == 0])))\n",
    "    print('Слов с искажениями: {}'.format(len(distortions_df[distortions_df['distortions_amount'] != 0])))\n",
    "    \n",
    "    fig, ax = plt.subplots(figsize=(8, 4))\n",
    "    \n",
    "    sns.countplot(x=distortions_df[distortions_df['distortions_amount'] != 0]['distortions_amount'])\n",
    "    ax.set_title('Количество слов с определенном количеством искажений')\n",
    "    ax.set_ylabel('Количество слов')\n",
    "    ax.set_xlabel('Количество искажений')\n",
    "    \n",
    "    plt.show()\n",
    "    \n",
    "def analyze_distortions(filepath: str, stop=None, show_plot=True) -> pd.DataFrame:\n",
    "    distortions_df = pd.DataFrame(columns=['distortions', 'distortions_amount'])\n",
    "    with open(filepath, 'rb') as f:\n",
    "        for i, word in enumerate(tqdm(f.read().decode('utf-8').split())):\n",
    "            word = transform_word(word)[0]\n",
    "            if word and word not in distortions_df.index:\n",
    "                difficulty = word_difficulty(word)\n",
    "                if 0.5 <= difficulty['difficulty']:\n",
    "                    distortions = create_distortions(word, difficulty['lemma'])\n",
    "                    info = {'distortions': distortions,\n",
    "                            'distortions_amount': len(distortions),\n",
    "                            'difficulty': difficulty['difficulty']}\n",
    "                    row = pd.Series(info, name=word)\n",
    "                    distortions_df = distortions_df.append(row)\n",
    "            if stop and stop <= i:\n",
    "                break\n",
    "    if show_plot:\n",
    "        countplot_distortions_df(distortions_df)\n",
    "    return distortions_df"
   ]
  }
 ],
 "metadata": {
  "kernelspec": {
   "display_name": "Python 3",
   "language": "python",
   "name": "python3"
  },
  "language_info": {
   "codemirror_mode": {
    "name": "ipython",
    "version": 3
   },
   "file_extension": ".py",
   "mimetype": "text/x-python",
   "name": "python",
   "nbconvert_exporter": "python",
   "pygments_lexer": "ipython3",
   "version": "3.8.8"
  }
 },
 "nbformat": 4,
 "nbformat_minor": 5
}
