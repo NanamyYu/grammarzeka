{
 "cells": [
  {
   "cell_type": "markdown",
   "id": "technological-collect",
   "metadata": {},
   "source": [
    "# Реализация отбора предложений (Гареева)"
   ]
  },
  {
   "cell_type": "markdown",
   "id": "optical-blink",
   "metadata": {},
   "source": [
    "### Функция сложности слова"
   ]
  },
  {
   "cell_type": "code",
   "execution_count": 1,
   "id": "neither-lithuania",
   "metadata": {},
   "outputs": [],
   "source": [
    "%run scripts/word_difficulty.py"
   ]
  },
  {
   "cell_type": "markdown",
   "id": "blond-adobe",
   "metadata": {},
   "source": [
    "### Функция создания искажений"
   ]
  },
  {
   "cell_type": "code",
   "execution_count": 2,
   "id": "union-store",
   "metadata": {},
   "outputs": [],
   "source": [
    "%run scripts/create_distortions.py"
   ]
  },
  {
   "cell_type": "markdown",
   "id": "elder-nirvana",
   "metadata": {},
   "source": [
    "### Белый список слов"
   ]
  },
  {
   "cell_type": "markdown",
   "id": "extensive-bathroom",
   "metadata": {},
   "source": [
    "Для того, чтобы определять существуемость слова, будем использовать большой датасет русских слов. (https://github.com/danakt/russian-words)"
   ]
  },
  {
   "cell_type": "code",
   "execution_count": 3,
   "id": "instant-meeting",
   "metadata": {},
   "outputs": [],
   "source": [
    "dirname = 'datasets/white_list'\n",
    "fullname = os.path.join(dirname, 'russian.txt')\n",
    "\n",
    "if not os.path.exists(fullname):\n",
    "    url = 'https://github.com/danakt/russian-words/raw/master/russian.txt'\n",
    "    r = requests.get(url)\n",
    "    os.makedirs(dirname, exist_ok=True)\n",
    "    with open(fullname, 'wb') as ru:\n",
    "        ru.write(r.content)\n",
    "    \n",
    "white_list_df = pd.read_csv(fullname, sep='\\n', encoding='cp1251', names=['word'])\n",
    "white_list_df = white_list_df.set_index('word')"
   ]
  },
  {
   "cell_type": "markdown",
   "id": "detected-longitude",
   "metadata": {},
   "source": [
    "### Спискок сложных слов"
   ]
  },
  {
   "cell_type": "markdown",
   "id": "prospective-equivalent",
   "metadata": {},
   "source": [
    "Реализация функции, которая будет на вход получать список слов, а на выход получать список словарей для каждого сложного слова, отобранного по критериям, со всей нужной информацией: индексом в предложении, самим словом, сложностью и пока пустым списком искажений."
   ]
  },
  {
   "cell_type": "code",
   "execution_count": 4,
   "id": "laughing-buyer",
   "metadata": {},
   "outputs": [],
   "source": [
    "def get_complex_word_list(sentence_words: List[str]) -> List[dict]:\n",
    "    complex_words = dict()\n",
    "    for index, word in enumerate(sentence_words):\n",
    "        word, is_capitalized = transform_word(word)\n",
    "        if word in white_list_df.index:\n",
    "            difficulty = word_difficulty(word)\n",
    "            if difficulty['difficulty'] < 0.5 or difficulty['lemma'] in complex_words:\n",
    "                complex_words[difficulty['lemma']] = None\n",
    "                continue\n",
    "            word = {'index': index,\n",
    "                    'word': word.capitalize() if is_capitalized else word,\n",
    "                    'difficulty': round(difficulty['difficulty'], 2),\n",
    "                    'distortions': list(distortion.capitalize() if is_capitalized else distortion \\\n",
    "                                        for distortion in create_distortions(word))}\n",
    "            complex_words[difficulty['lemma']] = word\n",
    "    return list(word for word in complex_words.values() if word is not None)"
   ]
  },
  {
   "cell_type": "markdown",
   "id": "exotic-account",
   "metadata": {},
   "source": [
    "Протестируем"
   ]
  },
  {
   "cell_type": "code",
   "execution_count": 5,
   "id": "streaming-monitoring",
   "metadata": {
    "scrolled": true
   },
   "outputs": [
    {
     "data": {
      "text/plain": [
       "[{'index': 3,\n",
       "  'word': 'произведения',\n",
       "  'difficulty': 0.53,\n",
       "  'distortions': ['произведения0', 'произведения1']},\n",
       " {'index': 5,\n",
       "  'word': 'необыкновенных',\n",
       "  'difficulty': 0.74,\n",
       "  'distortions': ['необыкновенных0']},\n",
       " {'index': 6,\n",
       "  'word': 'приключениях',\n",
       "  'difficulty': 0.56,\n",
       "  'distortions': ['приключениях0', 'приключениях1', 'приключениях2']},\n",
       " {'index': 9,\n",
       "  'word': 'погружают',\n",
       "  'difficulty': 0.61,\n",
       "  'distortions': ['погружают0', 'погружают1', 'погружают2']}]"
      ]
     },
     "execution_count": 5,
     "metadata": {},
     "output_type": "execute_result"
    }
   ],
   "source": [
    "complex_words = get_complex_word_list(sentence_words=('Написанные для детей произведения о необыкновенных приключениях земной' +\n",
    "                                                      'девочки Алисы погружают читателя в мир фантастики и сказок.').split())\n",
    "complex_words"
   ]
  },
  {
   "cell_type": "markdown",
   "id": "computational-selection",
   "metadata": {},
   "source": [
    "### Выбор проверяемых слов"
   ]
  },
  {
   "cell_type": "markdown",
   "id": "stretch-caution",
   "metadata": {},
   "source": [
    "Функция выбора проверяемого слова принимает на вход список сложных слов в предложении и предполагаемый сет уже использованных слов и возвращает индекс выбранного слова в списке, если его вообще можно выбрать."
   ]
  },
  {
   "cell_type": "code",
   "execution_count": 6,
   "id": "intended-effort",
   "metadata": {},
   "outputs": [],
   "source": [
    "from typing import Set\n",
    "\n",
    "def choose_word_id(complex_words: List[dict], used_words: Set[str]=set()) -> Optional[int]:\n",
    "    for complex_words in sorted(enumerate(complex_words), key=(lambda word: word[1]['difficulty']), reverse=True):\n",
    "        if complex_words[1]['word'] not in used_words:\n",
    "            return complex_words[0]\n",
    "    return None"
   ]
  },
  {
   "cell_type": "markdown",
   "id": "positive-lincoln",
   "metadata": {},
   "source": [
    "Протестируем"
   ]
  },
  {
   "cell_type": "code",
   "execution_count": 7,
   "id": "christian-founder",
   "metadata": {},
   "outputs": [
    {
     "name": "stdout",
     "output_type": "stream",
     "text": [
      "{'index': 5, 'word': 'необыкновенных', 'difficulty': 0.74, 'distortions': ['необыкновенных0']}\n",
      "{'index': 9, 'word': 'погружают', 'difficulty': 0.61, 'distortions': ['погружают0', 'погружают1', 'погружают2']}\n",
      "{'index': 6, 'word': 'приключениях', 'difficulty': 0.56, 'distortions': ['приключениях0', 'приключениях1', 'приключениях2']}\n",
      "None\n"
     ]
    }
   ],
   "source": [
    "print(complex_words[choose_word_id(complex_words=complex_words)])\n",
    "print(complex_words[choose_word_id(complex_words=complex_words, used_words={'необыкновенных', 'приключениях'})])\n",
    "print(complex_words[choose_word_id(complex_words=complex_words, used_words={'необыкновенных', 'погружают'})])\n",
    "print(choose_word_id(complex_words=complex_words, used_words={'необыкновенных', 'погружают','приключениях', 'произведения'}))"
   ]
  },
  {
   "cell_type": "markdown",
   "id": "diagnostic-scope",
   "metadata": {},
   "source": [
    "### Анализ предложения"
   ]
  },
  {
   "cell_type": "markdown",
   "id": "liquid-lawrence",
   "metadata": {},
   "source": [
    "Функция, делающая полный анализ предложения, принимает на вход само предложение, обрабатывает его и возвращает словарь JSON со всей нужной информацией, который в последствие будет строкой в файле всех предложений. Если предложение не подходит по длине - его не рассматриваем."
   ]
  },
  {
   "cell_type": "code",
   "execution_count": 8,
   "id": "friendly-yield",
   "metadata": {},
   "outputs": [],
   "source": [
    "def analyze_sentence(sentence: str, used_words: Set[str]=set()) -> Optional[dict]:\n",
    "    sentence = re.sub('«|»', '', sentence)\n",
    "    sentence = re.sub('\\xa0', ' ', sentence).strip()\n",
    "    sentence_words = sentence.split()\n",
    "    if 8 <= len(sentence_words) <= 25:\n",
    "        complex_words = get_complex_word_list(sentence_words=sentence_words)\n",
    "        using_word_id = choose_word_id(complex_words, used_words)\n",
    "        if using_word_id is not None:\n",
    "            return {\n",
    "                'sentence': sentence,\n",
    "                'using_word_id': using_word_id,\n",
    "                'complex_words': complex_words\n",
    "            }\n",
    "    return None"
   ]
  },
  {
   "cell_type": "markdown",
   "id": "continental-hawaii",
   "metadata": {},
   "source": [
    "Протестируем"
   ]
  },
  {
   "cell_type": "code",
   "execution_count": 9,
   "id": "constant-maximum",
   "metadata": {},
   "outputs": [
    {
     "name": "stdout",
     "output_type": "stream",
     "text": [
      "{'sentence': 'Написанные для детей произведения о необыкновенных приключениях земнойдевочки Алисы погружают читателя в мир фантастики и сказок.', 'using_word_id': 3, 'complex_words': [{'index': 3, 'word': 'произведения', 'difficulty': 0.53, 'distortions': ['произведения0']}, {'index': 5, 'word': 'необыкновенных', 'difficulty': 0.74, 'distortions': ['необыкновенных0', 'необыкновенных1']}, {'index': 6, 'word': 'приключениях', 'difficulty': 0.56, 'distortions': ['приключениях0', 'приключениях1']}, {'index': 9, 'word': 'погружают', 'difficulty': 0.61, 'distortions': ['погружают0']}]}\n",
      "None\n"
     ]
    }
   ],
   "source": [
    "print(analyze_sentence(sentence='Написанные для детей произведения о необыкновенных приключениях земной' +\n",
    "                            'девочки Алисы погружают читателя в мир фантастики и сказок.',\n",
    "                      used_words={'необыкновенных'}))\n",
    "print(analyze_sentence(sentence='Простые слова.'))"
   ]
  },
  {
   "cell_type": "markdown",
   "id": "developed-pakistan",
   "metadata": {},
   "source": [
    "### Хранение предложений"
   ]
  },
  {
   "cell_type": "markdown",
   "id": "printable-disco",
   "metadata": {},
   "source": [
    "Напишем примеры классов с реализацией сохранения и чтения информации о предложениях в выбранном формате."
   ]
  },
  {
   "cell_type": "code",
   "execution_count": 10,
   "id": "normal-decline",
   "metadata": {},
   "outputs": [],
   "source": [
    "import json\n",
    "from itertools import islice\n",
    "\n",
    "class JSONLCreator:\n",
    "    fullname = ''\n",
    "    number_of_sentences = 0\n",
    "    \n",
    "    def __init__(self, dirname: str='jsonl', filename: str='output.jsonl'):\n",
    "        self.fullname = os.path.join(dirname, filename)\n",
    "        os.makedirs(dirname, exist_ok=True)\n",
    "        open(self.fullname, 'w').close()\n",
    "        \n",
    "    def _add_content(self, content: Optional[dict]) -> None:\n",
    "        with open(self.fullname, 'a') as outfile:\n",
    "            json.dump(content, outfile, ensure_ascii=False)\n",
    "            outfile.write('\\n')\n",
    "\n",
    "    def add_sentence_info(self, sentence: Optional[dict]) -> None:\n",
    "        self._add_content(content=sentence)\n",
    "        self.number_of_sentences += 1\n",
    "            \n",
    "    def end_file(self): \n",
    "        meta_info = {'number_of_sentences': self.number_of_sentences}\n",
    "        self._add_content(content=meta_info)\n",
    "        \n",
    "        \n",
    "class JSONLReader:\n",
    "    fullname = ''\n",
    "    number_of_sentences = 0\n",
    "    \n",
    "    def __init__(self, dirname: str='jsonl', filename: str='output.jsonl'):\n",
    "        self.fullname = os.path.join(dirname, filename)\n",
    "        meta_info = json.loads(self._get_last_line())\n",
    "        self.number_of_sentences = meta_info['number_of_sentences']\n",
    "                                     \n",
    "    def _get_last_line(self) -> str:                             \n",
    "        with open(self.fullname, 'rb') as file:\n",
    "            try:\n",
    "                file.seek(-2, os.SEEK_END)\n",
    "                while file.read(1) != b'\\n':\n",
    "                    file.seek(-2, os.SEEK_CUR)\n",
    "            except OSError:\n",
    "                \n",
    "                file.seek(0)\n",
    "            last_line = file.readline().decode()\n",
    "        return last_line\n",
    "    \n",
    "    def get_n_sentence_info(self, n) -> dict:\n",
    "        if not (0 <= n < self.number_of_sentences):\n",
    "            return None\n",
    "        with open(self.fullname, 'r') as file:\n",
    "            sentence_info = json.loads(next(islice(file, n, None)))\n",
    "        return sentence_info"
   ]
  },
  {
   "cell_type": "markdown",
   "id": "least-collectible",
   "metadata": {},
   "source": [
    "Протестируем"
   ]
  },
  {
   "cell_type": "code",
   "execution_count": 11,
   "id": "directed-roots",
   "metadata": {},
   "outputs": [
    {
     "name": "stdout",
     "output_type": "stream",
     "text": [
      "2\n",
      "{'sentence': 'Написанные для детей произведения о необыкновенных приключениях земнойдевочки Алисы погружают читателя в мир фантастики и сказок.', 'using_word_id': 1, 'complex_words': [{'index': 3, 'word': 'произведения', 'difficulty': 0.53, 'distortions': ['произведения0', 'произведения1', 'произведения2']}, {'index': 5, 'word': 'необыкновенных', 'difficulty': 0.74, 'distortions': ['необыкновенных0', 'необыкновенных1']}, {'index': 6, 'word': 'приключениях', 'difficulty': 0.56, 'distortions': ['приключениях0', 'приключениях1', 'приключениях2']}, {'index': 9, 'word': 'погружают', 'difficulty': 0.61, 'distortions': ['погружают0', 'погружают1', 'погружают2']}]}\n",
      "{'sentence': 'Тогда я позвонил в Минералогический музей Фридману, с которым я когда-то встречался на Памире.', 'using_word_id': 0, 'complex_words': [{'index': 4, 'word': 'Минералогический', 'difficulty': 0.78, 'distortions': ['Минералогический0', 'Минералогический1']}]}\n",
      "None\n",
      "None\n"
     ]
    }
   ],
   "source": [
    "sentences = ['Написанные для детей произведения о необыкновенных приключениях земной' +\n",
    "                            'девочки Алисы погружают читателя в мир фантастики и сказок.',\n",
    "            'Тогда я позвонил в Минералогический музей Фридману, с которым я когда-то встречался на Памире.']\n",
    "\n",
    "jsonl_creator = JSONLCreator(filename='test.jsonl')\n",
    "for sentence in sentences:\n",
    "    jsonl_creator.add_sentence_info(analyze_sentence(sentence))\n",
    "jsonl_creator.end_file()\n",
    "\n",
    "jsonl_reader = JSONLReader(filename='test.jsonl')\n",
    "print(jsonl_reader.number_of_sentences)\n",
    "print(jsonl_reader.get_n_sentence_info(n=0))\n",
    "print(jsonl_reader.get_n_sentence_info(n=1))\n",
    "print(jsonl_reader.get_n_sentence_info(n=-1))\n",
    "print(jsonl_reader.get_n_sentence_info(n=2))"
   ]
  },
  {
   "cell_type": "markdown",
   "id": "peripheral-buyer",
   "metadata": {},
   "source": [
    "### Корпус текстов"
   ]
  },
  {
   "cell_type": "markdown",
   "id": "nasty-washer",
   "metadata": {},
   "source": [
    "Для нашего бота с говорящим названием \"Граммазека\": грамматика и Громозека - имя персонажа из серии книг об Алисе Селезнёвой Кира Булычёва, будем использовать корпус текста из вышеупомянутых книг.\n",
    "\n",
    "Скачаем и преобразуем нужный текст."
   ]
  },
  {
   "cell_type": "code",
   "execution_count": 12,
   "id": "outer-consolidation",
   "metadata": {},
   "outputs": [],
   "source": [
    "def save_alisa_selezneva_txt(dirname: str, new_filename: str) -> None:\n",
    "    fullname = os.path.join(dirname, new_filename)\n",
    "    \n",
    "    if not os.path.exists(fullname):\n",
    "        with open(os.path.join(dirname, 'alisa-selezneva-kompilyaciya-knigi-1-21.txt'), 'rb') as f:\n",
    "            text = f.read().decode('Windows-1251')\n",
    "            with open(fullname, 'wb') as ru:\n",
    "                ru.write(text.encode('utf-8'))\n",
    "    return fullname\n",
    "\n",
    "alisa_selezneva_fullname = save_alisa_selezneva_txt(dirname='datasets/texts/alisa_selezneva', \n",
    "                                                    new_filename='alisa_selezneva.txt')"
   ]
  },
  {
   "cell_type": "markdown",
   "id": "steady-smith",
   "metadata": {},
   "source": [
    "### Отбор предложений"
   ]
  },
  {
   "cell_type": "markdown",
   "id": "decent-frank",
   "metadata": {},
   "source": [
    "Проанализируем корпус текстов и сохраним подходящие предложения и информацию о них в обговоренным формате."
   ]
  },
  {
   "cell_type": "code",
   "execution_count": 13,
   "id": "sought-marriage",
   "metadata": {},
   "outputs": [],
   "source": [
    "def get_output_jsonl(filepath: str) -> str:\n",
    "    return '.'.join(os.path.basename(filepath).split('.')[:-1]) + '.jsonl'\n",
    "\n",
    "def save_sentences(filepath: str, output_jsonl: str=None, stop=None) -> str:\n",
    "    output_jsonl = output_jsonl if output_jsonl else get_output_jsonl(filepath)\n",
    "    jsonl_creator = JSONLCreator(filename=output_jsonl)\n",
    "    used_words = set()\n",
    "    with open(filepath, 'rb') as f:\n",
    "        for i, sentence in enumerate(tqdm(re.findall(r'.*?[.!\\?]', f.read().decode('utf-8')))):\n",
    "            sentence_info = analyze_sentence(sentence, used_words)\n",
    "            if sentence_info is None:\n",
    "                continue\n",
    "            used_words.add(sentence_info['complex_words'][sentence_info['using_word_id']]['word'])\n",
    "            jsonl_creator.add_sentence_info(sentence_info)\n",
    "            if stop and stop <= i:\n",
    "                break\n",
    "    jsonl_creator.end_file()\n",
    "    return output_jsonl"
   ]
  },
  {
   "cell_type": "code",
   "execution_count": 14,
   "id": "pursuant-willow",
   "metadata": {},
   "outputs": [
    {
     "name": "stderr",
     "output_type": "stream",
     "text": [
      "  0%|                                                                             | 52/129073 [00:00<07:03, 304.90it/s]\n"
     ]
    },
    {
     "data": {
      "text/plain": [
       "9"
      ]
     },
     "execution_count": 14,
     "metadata": {},
     "output_type": "execute_result"
    }
   ],
   "source": [
    "# example_jsonl = save_sentences(filepath=alisa_selezneva_fullname, output_jsonl='example.jsonl', stop=50)\n",
    "example_jsonl = 'example.jsonl'\n",
    "jsonl_reader = JSONLReader(filename=example_jsonl)\n",
    "jsonl_reader.number_of_sentences"
   ]
  },
  {
   "cell_type": "code",
   "execution_count": 15,
   "id": "related-perspective",
   "metadata": {},
   "outputs": [
    {
     "name": "stderr",
     "output_type": "stream",
     "text": [
      "100%|█████████████████████████████████████████████████████████████████████████| 129073/129073 [13:46<00:00, 156.25it/s]\n"
     ]
    }
   ],
   "source": [
    "# alisa_selezneva_jsonl = save_sentences(filepath=alisa_selezneva_fullname)\n",
    "alisa_selezneva_jsonl = get_output_jsonl(filepath=alisa_selezneva_fullname)"
   ]
  },
  {
   "cell_type": "markdown",
   "id": "endless-moldova",
   "metadata": {},
   "source": [
    "### Анализ результатов"
   ]
  },
  {
   "cell_type": "markdown",
   "id": "popular-timing",
   "metadata": {},
   "source": [
    "Посмотрим, что вышло в результате."
   ]
  },
  {
   "cell_type": "code",
   "execution_count": 16,
   "id": "linear-guyana",
   "metadata": {},
   "outputs": [],
   "source": [
    "def get_sentence_info_df(filename: str) -> pd.DataFrame:\n",
    "    jsonl_reader = JSONLReader(filename=filename)\n",
    "    print('number_of_sentences:', jsonl_reader.number_of_sentences)\n",
    "    text_df = pd.DataFrame(columns=list(['sentence', 'using_word', 'word_difficulty']))\n",
    "    for n in tqdm(range(jsonl_reader.number_of_sentences)):\n",
    "        sentence_info = jsonl_reader.get_n_sentence_info(n)\n",
    "        using_word = sentence_info['complex_words'][sentence_info['using_word_id']]\n",
    "        row = {'sentence': sentence_info['sentence'],\n",
    "               'using_word': using_word['word'],\n",
    "               'word_difficulty':  using_word['difficulty']}\n",
    "        text_df = text_df.append(row, ignore_index=True)\n",
    "    return text_df"
   ]
  },
  {
   "cell_type": "code",
   "execution_count": 17,
   "id": "decimal-picture",
   "metadata": {},
   "outputs": [
    {
     "name": "stderr",
     "output_type": "stream",
     "text": [
      "  0%|                                                                              | 16/15546 [00:00<01:44, 148.80it/s]"
     ]
    },
    {
     "name": "stdout",
     "output_type": "stream",
     "text": [
      "number_of_sentences: 15546\n"
     ]
    },
    {
     "name": "stderr",
     "output_type": "stream",
     "text": [
      "100%|████████████████████████████████████████████████████████████████████████████| 15546/15546 [11:51<00:00, 21.84it/s]\n"
     ]
    },
    {
     "data": {
      "text/html": [
       "<div>\n",
       "<style scoped>\n",
       "    .dataframe tbody tr th:only-of-type {\n",
       "        vertical-align: middle;\n",
       "    }\n",
       "\n",
       "    .dataframe tbody tr th {\n",
       "        vertical-align: top;\n",
       "    }\n",
       "\n",
       "    .dataframe thead th {\n",
       "        text-align: right;\n",
       "    }\n",
       "</style>\n",
       "<table border=\"1\" class=\"dataframe\">\n",
       "  <thead>\n",
       "    <tr style=\"text-align: right;\">\n",
       "      <th></th>\n",
       "      <th>sentence</th>\n",
       "      <th>using_word</th>\n",
       "      <th>word_difficulty</th>\n",
       "    </tr>\n",
       "  </thead>\n",
       "  <tbody>\n",
       "    <tr>\n",
       "      <th>0</th>\n",
       "      <td>Повести и рассказы о девочке из будущего — Али...</td>\n",
       "      <td>Селезнёвой</td>\n",
       "      <td>0.70</td>\n",
       "    </tr>\n",
       "    <tr>\n",
       "      <th>1</th>\n",
       "      <td>Написанные для детей произведения о необыкнове...</td>\n",
       "      <td>необыкновенных</td>\n",
       "      <td>0.74</td>\n",
       "    </tr>\n",
       "    <tr>\n",
       "      <th>2</th>\n",
       "      <td>Сегодня с утра видеофонят ее друзья и знакомые...</td>\n",
       "      <td>поздравляют</td>\n",
       "      <td>0.51</td>\n",
       "    </tr>\n",
       "    <tr>\n",
       "      <th>3</th>\n",
       "      <td>Шуша сказал, что пойдет в школу вместе с Алисо...</td>\n",
       "      <td>достанется</td>\n",
       "      <td>0.51</td>\n",
       "    </tr>\n",
       "    <tr>\n",
       "      <th>4</th>\n",
       "      <td>По-моему, когда я уходил в первый раз в школу,...</td>\n",
       "      <td>По-моему</td>\n",
       "      <td>0.64</td>\n",
       "    </tr>\n",
       "    <tr>\n",
       "      <th>...</th>\n",
       "      <td>...</td>\n",
       "      <td>...</td>\n",
       "      <td>...</td>\n",
       "    </tr>\n",
       "    <tr>\n",
       "      <th>15541</th>\n",
       "      <td>А раз он сбежал, значит, он был самозванцем и ...</td>\n",
       "      <td>самозванцем</td>\n",
       "      <td>0.68</td>\n",
       "    </tr>\n",
       "    <tr>\n",
       "      <th>15542</th>\n",
       "      <td>Мы поддались обманщику, а он со своими друзьям...</td>\n",
       "      <td>поддались</td>\n",
       "      <td>0.54</td>\n",
       "    </tr>\n",
       "    <tr>\n",
       "      <th>15543</th>\n",
       "      <td>Но я думаю, что рано или поздно они появятся в...</td>\n",
       "      <td>проговорятся</td>\n",
       "      <td>0.83</td>\n",
       "    </tr>\n",
       "    <tr>\n",
       "      <th>15544</th>\n",
       "      <td>Но главное: совет ученых решил, что существ из...</td>\n",
       "      <td>генетически</td>\n",
       "      <td>0.70</td>\n",
       "    </tr>\n",
       "    <tr>\n",
       "      <th>15545</th>\n",
       "      <td>Читайте об этих приключениях Коры Орват в рома...</td>\n",
       "      <td>Галактическая</td>\n",
       "      <td>0.71</td>\n",
       "    </tr>\n",
       "  </tbody>\n",
       "</table>\n",
       "<p>15546 rows × 3 columns</p>\n",
       "</div>"
      ],
      "text/plain": [
       "                                                sentence      using_word  \\\n",
       "0      Повести и рассказы о девочке из будущего — Али...      Селезнёвой   \n",
       "1      Написанные для детей произведения о необыкнове...  необыкновенных   \n",
       "2      Сегодня с утра видеофонят ее друзья и знакомые...     поздравляют   \n",
       "3      Шуша сказал, что пойдет в школу вместе с Алисо...      достанется   \n",
       "4      По-моему, когда я уходил в первый раз в школу,...        По-моему   \n",
       "...                                                  ...             ...   \n",
       "15541  А раз он сбежал, значит, он был самозванцем и ...     самозванцем   \n",
       "15542  Мы поддались обманщику, а он со своими друзьям...       поддались   \n",
       "15543  Но я думаю, что рано или поздно они появятся в...    проговорятся   \n",
       "15544  Но главное: совет ученых решил, что существ из...     генетически   \n",
       "15545  Читайте об этих приключениях Коры Орват в рома...   Галактическая   \n",
       "\n",
       "       word_difficulty  \n",
       "0                 0.70  \n",
       "1                 0.74  \n",
       "2                 0.51  \n",
       "3                 0.51  \n",
       "4                 0.64  \n",
       "...                ...  \n",
       "15541             0.68  \n",
       "15542             0.54  \n",
       "15543             0.83  \n",
       "15544             0.70  \n",
       "15545             0.71  \n",
       "\n",
       "[15546 rows x 3 columns]"
      ]
     },
     "execution_count": 17,
     "metadata": {},
     "output_type": "execute_result"
    }
   ],
   "source": [
    "alisa_selezneva_df = get_sentence_info_df(alisa_selezneva_jsonl)\n",
    "alisa_selezneva_df"
   ]
  },
  {
   "cell_type": "code",
   "execution_count": 18,
   "id": "medieval-pottery",
   "metadata": {},
   "outputs": [
    {
     "data": {
      "text/html": [
       "<div>\n",
       "<style scoped>\n",
       "    .dataframe tbody tr th:only-of-type {\n",
       "        vertical-align: middle;\n",
       "    }\n",
       "\n",
       "    .dataframe tbody tr th {\n",
       "        vertical-align: top;\n",
       "    }\n",
       "\n",
       "    .dataframe thead th {\n",
       "        text-align: right;\n",
       "    }\n",
       "</style>\n",
       "<table border=\"1\" class=\"dataframe\">\n",
       "  <thead>\n",
       "    <tr style=\"text-align: right;\">\n",
       "      <th></th>\n",
       "      <th>sentence</th>\n",
       "      <th>using_word</th>\n",
       "      <th>word_difficulty</th>\n",
       "    </tr>\n",
       "  </thead>\n",
       "  <tbody>\n",
       "    <tr>\n",
       "      <th>14947</th>\n",
       "      <td>Мы все поворачиваем наоборот, а наши жители, о...</td>\n",
       "      <td>обыкновенность</td>\n",
       "      <td>1.0</td>\n",
       "    </tr>\n",
       "    <tr>\n",
       "      <th>14776</th>\n",
       "      <td>Как только мы создадим правила и законы, как у...</td>\n",
       "      <td>переименовываться</td>\n",
       "      <td>1.0</td>\n",
       "    </tr>\n",
       "    <tr>\n",
       "      <th>9673</th>\n",
       "      <td>Со временем он научится полезному ремеслу и ве...</td>\n",
       "      <td>перековавшимся</td>\n",
       "      <td>1.0</td>\n",
       "    </tr>\n",
       "    <tr>\n",
       "      <th>265</th>\n",
       "      <td>Часто Всеволод Михайлович рассказывал ей удиви...</td>\n",
       "      <td>перемешивалась</td>\n",
       "      <td>1.0</td>\n",
       "    </tr>\n",
       "    <tr>\n",
       "      <th>719</th>\n",
       "      <td>Из воды, метрах в двадцати от берега, черным у...</td>\n",
       "      <td>полузатопленной</td>\n",
       "      <td>1.0</td>\n",
       "    </tr>\n",
       "    <tr>\n",
       "      <th>763</th>\n",
       "      <td>На обратном пути заехали на полузатопленную ба...</td>\n",
       "      <td>полузатопленную</td>\n",
       "      <td>1.0</td>\n",
       "    </tr>\n",
       "    <tr>\n",
       "      <th>3771</th>\n",
       "      <td>Две руки трудились, две другие были предостере...</td>\n",
       "      <td>предостерегающе</td>\n",
       "      <td>1.0</td>\n",
       "    </tr>\n",
       "    <tr>\n",
       "      <th>6962</th>\n",
       "      <td>— вдруг кричит Громозека, предупреждающе подня...</td>\n",
       "      <td>предупреждающе</td>\n",
       "      <td>1.0</td>\n",
       "    </tr>\n",
       "    <tr>\n",
       "      <th>7264</th>\n",
       "      <td>— Погляди, кто там в яйце, не хочет проклевыва...</td>\n",
       "      <td>проклевываться</td>\n",
       "      <td>1.0</td>\n",
       "    </tr>\n",
       "    <tr>\n",
       "      <th>9956</th>\n",
       "      <td>Сейчас соберутся все взрослые и начнется неспр...</td>\n",
       "      <td>путешественницей</td>\n",
       "      <td>1.0</td>\n",
       "    </tr>\n",
       "    <tr>\n",
       "      <th>1899</th>\n",
       "      <td>Археолог был светло-зеленый, пушистый, у него ...</td>\n",
       "      <td>светло-зеленый</td>\n",
       "      <td>1.0</td>\n",
       "    </tr>\n",
       "    <tr>\n",
       "      <th>9964</th>\n",
       "      <td>Тут из кухни выскочила шустрая симферопольская...</td>\n",
       "      <td>симферопольская</td>\n",
       "      <td>1.0</td>\n",
       "    </tr>\n",
       "    <tr>\n",
       "      <th>10048</th>\n",
       "      <td>На экране видеофона виднелось большеглазое тре...</td>\n",
       "      <td>симферопольской</td>\n",
       "      <td>1.0</td>\n",
       "    </tr>\n",
       "    <tr>\n",
       "      <th>9988</th>\n",
       "      <td>Вы бы видели, какая радость охватила родных Ал...</td>\n",
       "      <td>симферопольскую</td>\n",
       "      <td>1.0</td>\n",
       "    </tr>\n",
       "    <tr>\n",
       "      <th>12969</th>\n",
       "      <td>Как-то богомол задумался, вышел на улицу и сто...</td>\n",
       "      <td>снегоуборочным</td>\n",
       "      <td>1.0</td>\n",
       "    </tr>\n",
       "    <tr>\n",
       "      <th>11657</th>\n",
       "      <td>— Досье на детей с неустойчивой психикой соста...</td>\n",
       "      <td>суперкомпьютером</td>\n",
       "      <td>1.0</td>\n",
       "    </tr>\n",
       "    <tr>\n",
       "      <th>7482</th>\n",
       "      <td>На стометровке, на двухсотметровке и по трехки...</td>\n",
       "      <td>трехкилометровому</td>\n",
       "      <td>1.0</td>\n",
       "    </tr>\n",
       "    <tr>\n",
       "      <th>8665</th>\n",
       "      <td>Он был в скафандре, шлем откинут за спину, вид...</td>\n",
       "      <td>целеустремленный</td>\n",
       "      <td>1.0</td>\n",
       "    </tr>\n",
       "    <tr>\n",
       "      <th>688</th>\n",
       "      <td>В яме было совсем темно, и только в неровном ч...</td>\n",
       "      <td>четырехугольнике</td>\n",
       "      <td>1.0</td>\n",
       "    </tr>\n",
       "    <tr>\n",
       "      <th>2352</th>\n",
       "      <td>Только наивные люди полагают, что день — это с...</td>\n",
       "      <td>четырехэтажного</td>\n",
       "      <td>1.0</td>\n",
       "    </tr>\n",
       "  </tbody>\n",
       "</table>\n",
       "</div>"
      ],
      "text/plain": [
       "                                                sentence         using_word  \\\n",
       "14947  Мы все поворачиваем наоборот, а наши жители, о...     обыкновенность   \n",
       "14776  Как только мы создадим правила и законы, как у...  переименовываться   \n",
       "9673   Со временем он научится полезному ремеслу и ве...     перековавшимся   \n",
       "265    Часто Всеволод Михайлович рассказывал ей удиви...     перемешивалась   \n",
       "719    Из воды, метрах в двадцати от берега, черным у...    полузатопленной   \n",
       "763    На обратном пути заехали на полузатопленную ба...    полузатопленную   \n",
       "3771   Две руки трудились, две другие были предостере...    предостерегающе   \n",
       "6962   — вдруг кричит Громозека, предупреждающе подня...     предупреждающе   \n",
       "7264   — Погляди, кто там в яйце, не хочет проклевыва...     проклевываться   \n",
       "9956   Сейчас соберутся все взрослые и начнется неспр...   путешественницей   \n",
       "1899   Археолог был светло-зеленый, пушистый, у него ...     светло-зеленый   \n",
       "9964   Тут из кухни выскочила шустрая симферопольская...    симферопольская   \n",
       "10048  На экране видеофона виднелось большеглазое тре...    симферопольской   \n",
       "9988   Вы бы видели, какая радость охватила родных Ал...    симферопольскую   \n",
       "12969  Как-то богомол задумался, вышел на улицу и сто...     снегоуборочным   \n",
       "11657  — Досье на детей с неустойчивой психикой соста...   суперкомпьютером   \n",
       "7482   На стометровке, на двухсотметровке и по трехки...  трехкилометровому   \n",
       "8665   Он был в скафандре, шлем откинут за спину, вид...   целеустремленный   \n",
       "688    В яме было совсем темно, и только в неровном ч...   четырехугольнике   \n",
       "2352   Только наивные люди полагают, что день — это с...    четырехэтажного   \n",
       "\n",
       "       word_difficulty  \n",
       "14947              1.0  \n",
       "14776              1.0  \n",
       "9673               1.0  \n",
       "265                1.0  \n",
       "719                1.0  \n",
       "763                1.0  \n",
       "3771               1.0  \n",
       "6962               1.0  \n",
       "7264               1.0  \n",
       "9956               1.0  \n",
       "1899               1.0  \n",
       "9964               1.0  \n",
       "10048              1.0  \n",
       "9988               1.0  \n",
       "12969              1.0  \n",
       "11657              1.0  \n",
       "7482               1.0  \n",
       "8665               1.0  \n",
       "688                1.0  \n",
       "2352               1.0  "
      ]
     },
     "execution_count": 18,
     "metadata": {},
     "output_type": "execute_result"
    }
   ],
   "source": [
    "alisa_selezneva_df.sort_values(by=['word_difficulty', 'using_word']).tail(20)"
   ]
  },
  {
   "cell_type": "markdown",
   "id": "varied-railway",
   "metadata": {},
   "source": [
    "Всего отобралось 15546 предложений с таким распределением сложности выбранного слова:"
   ]
  },
  {
   "cell_type": "code",
   "execution_count": 19,
   "id": "ranging-photographer",
   "metadata": {},
   "outputs": [
    {
     "data": {
      "image/png": "[encoded data removed]",
      "text/plain": [
       "<Figure size 576x288 with 1 Axes>"
      ]
     },
     "metadata": {
      "needs_background": "light"
     },
     "output_type": "display_data"
    }
   ],
   "source": [
    "fig, ax = plt.subplots(figsize=(8, 4))\n",
    "\n",
    "sns.distplot(x=alisa_selezneva_df['word_difficulty'], label='1')\n",
    "\n",
    "ax.set_title('График распределения сложности выбранных слов')\n",
    "ax.set_ylabel('Плотность распределения')\n",
    "ax.set_xlabel('Сложность слова')\n",
    "\n",
    "plt.xlim(0.5, 1)\n",
    "plt.show()"
   ]
  }
 ],
 "metadata": {
  "kernelspec": {
   "display_name": "Python 3",
   "language": "python",
   "name": "python3"
  },
  "language_info": {
   "codemirror_mode": {
    "name": "ipython",
    "version": 3
   },
   "file_extension": ".py",
   "mimetype": "text/x-python",
   "name": "python",
   "nbconvert_exporter": "python",
   "pygments_lexer": "ipython3",
   "version": "3.8.8"
  }
 },
 "nbformat": 4,
 "nbformat_minor": 5
}
