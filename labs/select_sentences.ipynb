{
 "cells": [
  {
   "cell_type": "markdown",
   "id": "technological-collect",
   "metadata": {},
   "source": [
    "# Реализация отбора предложений (Гареева)"
   ]
  },
  {
   "cell_type": "markdown",
   "id": "optical-blink",
   "metadata": {},
   "source": [
    "### Функция сложности слова"
   ]
  },
  {
   "cell_type": "code",
   "execution_count": 1,
   "id": "neither-lithuania",
   "metadata": {},
   "outputs": [],
   "source": [
    "%run scripts/word_difficulty.py"
   ]
  },
  {
   "cell_type": "markdown",
   "id": "blond-adobe",
   "metadata": {},
   "source": [
    "### Функция создания искажений"
   ]
  },
  {
   "cell_type": "code",
   "execution_count": 2,
   "id": "union-store",
   "metadata": {},
   "outputs": [],
   "source": [
    "%run scripts/create_distortions.py"
   ]
  },
  {
   "cell_type": "markdown",
   "id": "elder-nirvana",
   "metadata": {},
   "source": [
    "### Белый список слов"
   ]
  },
  {
   "cell_type": "markdown",
   "id": "extensive-bathroom",
   "metadata": {},
   "source": [
    "Для того, чтобы определять существуемость слова, будем использовать большой датасет русских слов. (https://github.com/danakt/russian-words)"
   ]
  },
  {
   "cell_type": "code",
   "execution_count": 3,
   "id": "instant-meeting",
   "metadata": {},
   "outputs": [],
   "source": [
    "dirname = 'datasets/white_list'\n",
    "fullname = os.path.join(dirname, 'russian.txt')\n",
    "\n",
    "if not os.path.exists(fullname):\n",
    "    url = 'https://github.com/danakt/russian-words/raw/master/russian.txt'\n",
    "    r = requests.get(url)\n",
    "    os.makedirs(dirname, exist_ok=True)\n",
    "    with open(fullname, 'wb') as ru:\n",
    "        ru.write(r.content)\n",
    "    \n",
    "white_list_df = pd.read_csv(fullname, sep='\\n', encoding='cp1251', names=['word'])\n",
    "white_list_df =  white_list_df[~white_list_df['word'].str.istitle()]\n",
    "white_list_df = white_list_df.set_index('word')"
   ]
  },
  {
   "cell_type": "markdown",
   "id": "detected-longitude",
   "metadata": {},
   "source": [
    "### Список сложных слов"
   ]
  },
  {
   "cell_type": "markdown",
   "id": "prospective-equivalent",
   "metadata": {},
   "source": [
    "Реализация функции, которая будет на вход получать список слов, а на выход получать список словарей для каждого сложного слова, отобранного по критериям, со всей нужной информацией: индексом в предложении, самим словом, сложностью и списком искажений."
   ]
  },
  {
   "cell_type": "code",
   "execution_count": 4,
   "id": "laughing-buyer",
   "metadata": {},
   "outputs": [],
   "source": [
    "def get_complex_word_list(sentence_words: List[str]) -> List[dict]:\n",
    "    complex_words = dict()\n",
    "    for index, word in enumerate(sentence_words):\n",
    "        word, is_capitalized = transform_word(word)\n",
    "        if word in white_list_df.index:\n",
    "            difficulty = word_difficulty(word)\n",
    "            if difficulty['difficulty'] < 0.5 or difficulty['lemma'] in complex_words:\n",
    "                complex_words[difficulty['lemma']] = None\n",
    "                continue\n",
    "            distortions = create_distortions(word=word, lemma=difficulty['lemma'] , max_amount=6)\n",
    "            if len(distortions) == 0:\n",
    "                continue\n",
    "            word = {'index': index,\n",
    "                    'word': word.capitalize() if is_capitalized else word,\n",
    "                    'difficulty': round(difficulty['difficulty'], 2),\n",
    "                    'distortions': list(distortion.capitalize() if is_capitalized else distortion \\\n",
    "                                        for distortion in distortions)}\n",
    "            complex_words[difficulty['lemma']] = word\n",
    "    return list(word for word in complex_words.values() if word is not None)"
   ]
  },
  {
   "cell_type": "markdown",
   "id": "exotic-account",
   "metadata": {},
   "source": [
    "Протестируем"
   ]
  },
  {
   "cell_type": "code",
   "execution_count": 5,
   "id": "streaming-monitoring",
   "metadata": {
    "scrolled": false
   },
   "outputs": [
    {
     "data": {
      "text/plain": [
       "[{'index': 0,\n",
       "  'word': 'Написанные',\n",
       "  'difficulty': 0.52,\n",
       "  'distortions': ['Напизаные', 'Написаные', 'Напизанные']},\n",
       " {'index': 6,\n",
       "  'word': 'приключениях',\n",
       "  'difficulty': 0.61,\n",
       "  'distortions': ['преключениях']},\n",
       " {'index': 9,\n",
       "  'word': 'погружают',\n",
       "  'difficulty': 0.71,\n",
       "  'distortions': ['погружяют', 'пагружяют', 'пагружают']}]"
      ]
     },
     "execution_count": 5,
     "metadata": {},
     "output_type": "execute_result"
    }
   ],
   "source": [
    "complex_words = get_complex_word_list(sentence_words=('Написанные для детей произведения о необыкновенных приключениях земной' +\n",
    "                                                      'девочки Алисы погружают читателя в мир фантастики и сказок.').split())\n",
    "complex_words"
   ]
  },
  {
   "cell_type": "markdown",
   "id": "computational-selection",
   "metadata": {},
   "source": [
    "### Выбор проверяемых слов"
   ]
  },
  {
   "cell_type": "markdown",
   "id": "stretch-caution",
   "metadata": {},
   "source": [
    "Функция выбора проверяемого слова принимает на вход список сложных слов в предложении и предполагаемый сет уже использованных слов и возвращает индекс выбранного слова в списке, если его вообще можно выбрать."
   ]
  },
  {
   "cell_type": "code",
   "execution_count": 6,
   "id": "intended-effort",
   "metadata": {},
   "outputs": [],
   "source": [
    "from typing import Set\n",
    "\n",
    "def choose_word_id(complex_words: List[dict], used_words: Set[str]=set()) -> Optional[int]:\n",
    "    for complex_words in sorted(enumerate(complex_words), key=(lambda word: word[1]['difficulty']), reverse=True):\n",
    "        if complex_words[1]['word'] not in used_words:\n",
    "            return complex_words[0]\n",
    "    return None"
   ]
  },
  {
   "cell_type": "markdown",
   "id": "positive-lincoln",
   "metadata": {},
   "source": [
    "Протестируем"
   ]
  },
  {
   "cell_type": "code",
   "execution_count": 7,
   "id": "christian-founder",
   "metadata": {},
   "outputs": [
    {
     "name": "stdout",
     "output_type": "stream",
     "text": [
      "{'index': 9, 'word': 'погружают', 'difficulty': 0.71, 'distortions': ['погружяют', 'пагружяют', 'пагружают']}\n",
      "{'index': 9, 'word': 'погружают', 'difficulty': 0.71, 'distortions': ['погружяют', 'пагружяют', 'пагружают']}\n",
      "{'index': 6, 'word': 'приключениях', 'difficulty': 0.61, 'distortions': ['преключениях']}\n",
      "0\n"
     ]
    }
   ],
   "source": [
    "print(complex_words[choose_word_id(complex_words=complex_words)])\n",
    "print(complex_words[choose_word_id(complex_words=complex_words, used_words={'необыкновенных', 'приключениях'})])\n",
    "print(complex_words[choose_word_id(complex_words=complex_words, used_words={'необыкновенных', 'погружают'})])\n",
    "print(choose_word_id(complex_words=complex_words, used_words={'необыкновенных', 'погружают','приключениях', 'произведения'}))"
   ]
  },
  {
   "cell_type": "markdown",
   "id": "diagnostic-scope",
   "metadata": {},
   "source": [
    "### Анализ предложения"
   ]
  },
  {
   "cell_type": "markdown",
   "id": "liquid-lawrence",
   "metadata": {},
   "source": [
    "Функция, делающая полный анализ предложения, принимает на вход само предложение, обрабатывает его и возвращает словарь JSON со всей нужной информацией, который в последствие будет строкой в файле всех предложений. Если предложение не подходит по длине - его не рассматриваем."
   ]
  },
  {
   "cell_type": "code",
   "execution_count": 8,
   "id": "friendly-yield",
   "metadata": {},
   "outputs": [],
   "source": [
    "def analyze_sentence(sentence: str, used_words: Set[str]=set()) -> Optional[dict]:\n",
    "    sentence = re.sub('«|»', '', sentence)\n",
    "    sentence = re.sub('\\xa0', ' ', sentence).strip()\n",
    "    sentence_words = sentence.split()\n",
    "    if 8 <= len(sentence_words) <= 25:\n",
    "        complex_words = get_complex_word_list(sentence_words=sentence_words)\n",
    "        using_word_id = choose_word_id(complex_words, used_words)\n",
    "        if using_word_id is not None:\n",
    "            return {\n",
    "                'sentence': sentence,\n",
    "                'using_word_id': using_word_id,\n",
    "                'complex_words': complex_words\n",
    "            }\n",
    "    return None"
   ]
  },
  {
   "cell_type": "markdown",
   "id": "continental-hawaii",
   "metadata": {},
   "source": [
    "Протестируем"
   ]
  },
  {
   "cell_type": "code",
   "execution_count": 9,
   "id": "constant-maximum",
   "metadata": {},
   "outputs": [
    {
     "name": "stdout",
     "output_type": "stream",
     "text": [
      "{'sentence': 'Написанные для детей произведения о необыкновенных приключениях земнойдевочки Алисы погружают читателя в мир фантастики и сказок.', 'using_word_id': 2, 'complex_words': [{'index': 0, 'word': 'Написанные', 'difficulty': 0.52, 'distortions': ['Напизаные', 'Написаные', 'Напизанные']}, {'index': 6, 'word': 'приключениях', 'difficulty': 0.61, 'distortions': ['преключениях']}, {'index': 9, 'word': 'погружают', 'difficulty': 0.71, 'distortions': ['погружяют', 'пагружяют', 'пагружают']}]}\n",
      "None\n"
     ]
    }
   ],
   "source": [
    "print(analyze_sentence(sentence='Написанные для детей произведения о необыкновенных приключениях земной' +\n",
    "                            'девочки Алисы погружают читателя в мир фантастики и сказок.',\n",
    "                      used_words={'приключениях'}))\n",
    "print(analyze_sentence(sentence='Простые слова.'))"
   ]
  },
  {
   "cell_type": "markdown",
   "id": "developed-pakistan",
   "metadata": {},
   "source": [
    "### Хранение предложений"
   ]
  },
  {
   "cell_type": "markdown",
   "id": "printable-disco",
   "metadata": {},
   "source": [
    "Напишем примеры классов с реализацией сохранения и чтения информации о предложениях в выбранном формате."
   ]
  },
  {
   "cell_type": "code",
   "execution_count": 10,
   "id": "normal-decline",
   "metadata": {},
   "outputs": [],
   "source": [
    "import json\n",
    "from itertools import islice\n",
    "\n",
    "class JSONLCreator:\n",
    "    fullname = ''\n",
    "    number_of_sentences = 0\n",
    "    \n",
    "    def __init__(self, dirname: str='jsonl', filename: str='output.jsonl'):\n",
    "        self.fullname = os.path.join(dirname, filename)\n",
    "        os.makedirs(dirname, exist_ok=True)\n",
    "        open(self.fullname, 'w').close()\n",
    "        \n",
    "    def _add_content(self, content: Optional[dict]) -> None:\n",
    "        with open(self.fullname, 'a') as outfile:\n",
    "            json.dump(content, outfile, ensure_ascii=False)\n",
    "            outfile.write('\\n')\n",
    "\n",
    "    def add_sentence_info(self, sentence: Optional[dict]) -> None:\n",
    "        self._add_content(content=sentence)\n",
    "        self.number_of_sentences += 1\n",
    "            \n",
    "    def end_file(self): \n",
    "        meta_info = {'number_of_sentences': self.number_of_sentences}\n",
    "        self._add_content(content=meta_info)\n",
    "        \n",
    "        \n",
    "class JSONLReader:\n",
    "    fullname = ''\n",
    "    number_of_sentences = 0\n",
    "    \n",
    "    def __init__(self, dirname: str='jsonl', filename: str='output.jsonl'):\n",
    "        self.fullname = os.path.join(dirname, filename)\n",
    "        meta_info = json.loads(self._get_last_line())\n",
    "        self.number_of_sentences = meta_info['number_of_sentences']\n",
    "                                     \n",
    "    def _get_last_line(self) -> str:                             \n",
    "        with open(self.fullname, 'rb') as file:\n",
    "            try:\n",
    "                file.seek(-2, os.SEEK_END)\n",
    "                while file.read(1) != b'\\n':\n",
    "                    file.seek(-2, os.SEEK_CUR)\n",
    "            except OSError:\n",
    "                \n",
    "                file.seek(0)\n",
    "            last_line = file.readline().decode()\n",
    "        return last_line\n",
    "    \n",
    "    def get_n_sentence_info(self, n) -> dict:\n",
    "        if not (0 <= n < self.number_of_sentences):\n",
    "            return None\n",
    "        with open(self.fullname, 'r') as file:\n",
    "            sentence_info = json.loads(next(islice(file, n, None)))\n",
    "        return sentence_info"
   ]
  },
  {
   "cell_type": "markdown",
   "id": "least-collectible",
   "metadata": {},
   "source": [
    "Протестируем"
   ]
  },
  {
   "cell_type": "code",
   "execution_count": 11,
   "id": "directed-roots",
   "metadata": {},
   "outputs": [
    {
     "name": "stdout",
     "output_type": "stream",
     "text": [
      "2\n",
      "{'sentence': 'Написанные для детей произведения о необыкновенных приключениях земнойдевочки Алисы погружают читателя в мир фантастики и сказок.', 'using_word_id': 2, 'complex_words': [{'index': 0, 'word': 'Написанные', 'difficulty': 0.52, 'distortions': ['Напизаные', 'Написаные', 'Напизанные']}, {'index': 6, 'word': 'приключениях', 'difficulty': 0.61, 'distortions': ['преключениях']}, {'index': 9, 'word': 'погружают', 'difficulty': 0.71, 'distortions': ['погружяют', 'пагружяют', 'пагружают']}]}\n",
      "None\n",
      "None\n",
      "None\n"
     ]
    }
   ],
   "source": [
    "sentences = ['Написанные для детей произведения о необыкновенных приключениях земной' +\n",
    "                            'девочки Алисы погружают читателя в мир фантастики и сказок.',\n",
    "            'Тогда я позвонил в Минералогический музей Фридману, с которым я когда-то встречался на Памире.']\n",
    "\n",
    "jsonl_creator = JSONLCreator(filename='test.jsonl')\n",
    "for sentence in sentences:\n",
    "    jsonl_creator.add_sentence_info(analyze_sentence(sentence))\n",
    "jsonl_creator.end_file()\n",
    "\n",
    "jsonl_reader = JSONLReader(filename='test.jsonl')\n",
    "print(jsonl_reader.number_of_sentences)\n",
    "print(jsonl_reader.get_n_sentence_info(n=0))\n",
    "print(jsonl_reader.get_n_sentence_info(n=1))\n",
    "print(jsonl_reader.get_n_sentence_info(n=-1))\n",
    "print(jsonl_reader.get_n_sentence_info(n=2))"
   ]
  },
  {
   "cell_type": "markdown",
   "id": "peripheral-buyer",
   "metadata": {},
   "source": [
    "### Корпус текстов"
   ]
  },
  {
   "cell_type": "markdown",
   "id": "nasty-washer",
   "metadata": {},
   "source": [
    "Для нашего бота с говорящим названием \"Граммазека\": грамматика и Громозека - имя персонажа из серии книг об Алисе Селезнёвой Кира Булычёва, будем использовать корпус текста из вышеупомянутых книг.\n",
    "\n",
    "Скачаем и преобразуем нужный текст."
   ]
  },
  {
   "cell_type": "code",
   "execution_count": 12,
   "id": "outer-consolidation",
   "metadata": {},
   "outputs": [],
   "source": [
    "def save_alisa_selezneva_txt(dirname: str, new_filename: str) -> None:\n",
    "    fullname = os.path.join(dirname, new_filename)\n",
    "    \n",
    "    if not os.path.exists(fullname):\n",
    "        with open(os.path.join(dirname, 'alisa-selezneva-kompilyaciya-knigi-1-21.txt'), 'rb') as f:\n",
    "            text = f.read().decode('Windows-1251')\n",
    "            with open(fullname, 'wb') as ru:\n",
    "                ru.write(text.encode('utf-8'))\n",
    "    return fullname\n",
    "\n",
    "alisa_selezneva_fullname = save_alisa_selezneva_txt(dirname='datasets/texts/alisa_selezneva', \n",
    "                                                    new_filename='alisa_selezneva.txt')"
   ]
  },
  {
   "cell_type": "markdown",
   "id": "steady-smith",
   "metadata": {},
   "source": [
    "### Отбор предложений"
   ]
  },
  {
   "cell_type": "markdown",
   "id": "decent-frank",
   "metadata": {},
   "source": [
    "Проанализируем корпус текстов и сохраним подходящие предложения и информацию о них в обговоренным формате."
   ]
  },
  {
   "cell_type": "code",
   "execution_count": 13,
   "id": "sought-marriage",
   "metadata": {},
   "outputs": [],
   "source": [
    "def get_output_jsonl(filepath: str) -> str:\n",
    "    return '.'.join(os.path.basename(filepath).split('.')[:-1]) + '.jsonl'\n",
    "\n",
    "def save_sentences(filepath: str, output_jsonl: str=None, stop=None) -> str:\n",
    "    output_jsonl = output_jsonl if output_jsonl else get_output_jsonl(filepath)\n",
    "    jsonl_creator = JSONLCreator(filename=output_jsonl)\n",
    "    used_words = set()\n",
    "    with open(filepath, 'rb') as f:\n",
    "        for i, sentence in enumerate(tqdm(re.findall(r'.*?[.!\\?]', f.read().decode('utf-8')))):\n",
    "            sentence_info = analyze_sentence(sentence, used_words)\n",
    "            if sentence_info is None:\n",
    "                continue\n",
    "            used_words.add(sentence_info['complex_words'][sentence_info['using_word_id']]['word'])\n",
    "            jsonl_creator.add_sentence_info(sentence_info)\n",
    "            if stop and stop <= i:\n",
    "                break\n",
    "    jsonl_creator.end_file()\n",
    "    return output_jsonl"
   ]
  },
  {
   "cell_type": "code",
   "execution_count": 14,
   "id": "pursuant-willow",
   "metadata": {},
   "outputs": [
    {
     "data": {
      "text/plain": [
       "6"
      ]
     },
     "execution_count": 14,
     "metadata": {},
     "output_type": "execute_result"
    }
   ],
   "source": [
    "# example_jsonl = save_sentences(filepath=alisa_selezneva_fullname, output_jsonl='example.jsonl', stop=50)\n",
    "example_jsonl = 'example.jsonl'\n",
    "jsonl_reader = JSONLReader(filename=example_jsonl)\n",
    "jsonl_reader.number_of_sentences"
   ]
  },
  {
   "cell_type": "code",
   "execution_count": 15,
   "id": "related-perspective",
   "metadata": {},
   "outputs": [],
   "source": [
    "# alisa_selezneva_jsonl = save_sentences(filepath=alisa_selezneva_fullname)\n",
    "alisa_selezneva_jsonl = get_output_jsonl(filepath=alisa_selezneva_fullname)"
   ]
  },
  {
   "cell_type": "markdown",
   "id": "endless-moldova",
   "metadata": {},
   "source": [
    "### Анализ результатов"
   ]
  },
  {
   "cell_type": "markdown",
   "id": "popular-timing",
   "metadata": {},
   "source": [
    "Посмотрим, что вышло в результате."
   ]
  },
  {
   "cell_type": "code",
   "execution_count": 16,
   "id": "linear-guyana",
   "metadata": {},
   "outputs": [],
   "source": [
    "def get_sentence_info_df(filename: str) -> pd.DataFrame:\n",
    "    jsonl_reader = JSONLReader(filename=filename)\n",
    "    print('number_of_sentences:', jsonl_reader.number_of_sentences)\n",
    "    text_df = pd.DataFrame(columns=list(['sentence', 'using_word', 'word_difficulty', 'distortions', 'distortions_amount']))\n",
    "    for n in tqdm(range(jsonl_reader.number_of_sentences)):\n",
    "        sentence_info = jsonl_reader.get_n_sentence_info(n)\n",
    "        using_word = sentence_info['complex_words'][sentence_info['using_word_id']]\n",
    "        row = {'sentence': sentence_info['sentence'],\n",
    "               'using_word': using_word['word'],\n",
    "               'word_difficulty':  using_word['difficulty'],\n",
    "               'distortions': using_word['distortions'],\n",
    "               'distortions_amount': len(using_word['distortions'])}\n",
    "        text_df = text_df.append(row, ignore_index=True)\n",
    "    return text_df"
   ]
  },
  {
   "cell_type": "code",
   "execution_count": 17,
   "id": "decimal-picture",
   "metadata": {},
   "outputs": [
    {
     "name": "stderr",
     "output_type": "stream",
     "text": [
      "\r",
      "  0%|                                                                                        | 0/13978 [00:00<?, ?it/s]"
     ]
    },
    {
     "name": "stdout",
     "output_type": "stream",
     "text": [
      "number_of_sentences: 13978\n"
     ]
    },
    {
     "name": "stderr",
     "output_type": "stream",
     "text": [
      "100%|████████████████████████████████████████████████████████████████████████████| 13978/13978 [04:52<00:00, 47.85it/s]\n"
     ]
    },
    {
     "data": {
      "text/html": [
       "<div>\n",
       "<style scoped>\n",
       "    .dataframe tbody tr th:only-of-type {\n",
       "        vertical-align: middle;\n",
       "    }\n",
       "\n",
       "    .dataframe tbody tr th {\n",
       "        vertical-align: top;\n",
       "    }\n",
       "\n",
       "    .dataframe thead th {\n",
       "        text-align: right;\n",
       "    }\n",
       "</style>\n",
       "<table border=\"1\" class=\"dataframe\">\n",
       "  <thead>\n",
       "    <tr style=\"text-align: right;\">\n",
       "      <th></th>\n",
       "      <th>sentence</th>\n",
       "      <th>using_word</th>\n",
       "      <th>word_difficulty</th>\n",
       "      <th>distortions</th>\n",
       "      <th>distortions_amount</th>\n",
       "    </tr>\n",
       "  </thead>\n",
       "  <tbody>\n",
       "    <tr>\n",
       "      <th>0</th>\n",
       "      <td>Написанные для детей произведения о необыкнове...</td>\n",
       "      <td>погружают</td>\n",
       "      <td>0.71</td>\n",
       "      <td>[пагружяют, погружяют, пагружают]</td>\n",
       "      <td>3</td>\n",
       "    </tr>\n",
       "    <tr>\n",
       "      <th>1</th>\n",
       "      <td>Шуша сказал, что пойдет в школу вместе с Алисо...</td>\n",
       "      <td>учительница</td>\n",
       "      <td>0.65</td>\n",
       "      <td>[учитильница]</td>\n",
       "      <td>1</td>\n",
       "    </tr>\n",
       "    <tr>\n",
       "      <th>2</th>\n",
       "      <td>По-моему, когда я уходил в первый раз в школу,...</td>\n",
       "      <td>По-моему</td>\n",
       "      <td>0.59</td>\n",
       "      <td>[Помоему, По моему]</td>\n",
       "      <td>2</td>\n",
       "    </tr>\n",
       "    <tr>\n",
       "      <th>3</th>\n",
       "      <td>Ей полезно будет знать, с каким несерьезным че...</td>\n",
       "      <td>несерьезным</td>\n",
       "      <td>0.85</td>\n",
       "      <td>[несерьездным]</td>\n",
       "      <td>1</td>\n",
       "    </tr>\n",
       "    <tr>\n",
       "      <th>4</th>\n",
       "      <td>Может быть, эти записки помогут учительнице во...</td>\n",
       "      <td>учительнице</td>\n",
       "      <td>0.65</td>\n",
       "      <td>[учытильнице, учитильнице, учытельнице]</td>\n",
       "      <td>3</td>\n",
       "    </tr>\n",
       "    <tr>\n",
       "      <th>...</th>\n",
       "      <td>...</td>\n",
       "      <td>...</td>\n",
       "      <td>...</td>\n",
       "      <td>...</td>\n",
       "      <td>...</td>\n",
       "    </tr>\n",
       "    <tr>\n",
       "      <th>13973</th>\n",
       "      <td>— Ты сердишься, — сказал Чжан Цзолинь, — значи...</td>\n",
       "      <td>сердишься</td>\n",
       "      <td>0.57</td>\n",
       "      <td>[сирдишься]</td>\n",
       "      <td>1</td>\n",
       "    </tr>\n",
       "    <tr>\n",
       "      <th>13974</th>\n",
       "      <td>Лишь шум крыльев в коридоре напомнил о беглеце.</td>\n",
       "      <td>беглеце</td>\n",
       "      <td>0.57</td>\n",
       "      <td>[биглеце]</td>\n",
       "      <td>1</td>\n",
       "    </tr>\n",
       "    <tr>\n",
       "      <th>13975</th>\n",
       "      <td>Мы поддались обманщику, а он со своими друзьям...</td>\n",
       "      <td>поддались</td>\n",
       "      <td>0.64</td>\n",
       "      <td>[подализь, поддализь, подались]</td>\n",
       "      <td>3</td>\n",
       "    </tr>\n",
       "    <tr>\n",
       "      <th>13976</th>\n",
       "      <td>А друиды острова Элис — вовсе не друидами, а п...</td>\n",
       "      <td>тамошними</td>\n",
       "      <td>0.61</td>\n",
       "      <td>[тамашними]</td>\n",
       "      <td>1</td>\n",
       "    </tr>\n",
       "    <tr>\n",
       "      <th>13977</th>\n",
       "      <td>Читайте об этих приключениях Коры Орват в рома...</td>\n",
       "      <td>Галактическая</td>\n",
       "      <td>0.81</td>\n",
       "      <td>[Галактичыская, Галактичиская]</td>\n",
       "      <td>2</td>\n",
       "    </tr>\n",
       "  </tbody>\n",
       "</table>\n",
       "<p>13978 rows × 5 columns</p>\n",
       "</div>"
      ],
      "text/plain": [
       "                                                sentence     using_word  \\\n",
       "0      Написанные для детей произведения о необыкнове...      погружают   \n",
       "1      Шуша сказал, что пойдет в школу вместе с Алисо...    учительница   \n",
       "2      По-моему, когда я уходил в первый раз в школу,...       По-моему   \n",
       "3      Ей полезно будет знать, с каким несерьезным че...    несерьезным   \n",
       "4      Может быть, эти записки помогут учительнице во...    учительнице   \n",
       "...                                                  ...            ...   \n",
       "13973  — Ты сердишься, — сказал Чжан Цзолинь, — значи...      сердишься   \n",
       "13974    Лишь шум крыльев в коридоре напомнил о беглеце.        беглеце   \n",
       "13975  Мы поддались обманщику, а он со своими друзьям...      поддались   \n",
       "13976  А друиды острова Элис — вовсе не друидами, а п...      тамошними   \n",
       "13977  Читайте об этих приключениях Коры Орват в рома...  Галактическая   \n",
       "\n",
       "       word_difficulty                              distortions  \\\n",
       "0                 0.71        [пагружяют, погружяют, пагружают]   \n",
       "1                 0.65                            [учитильница]   \n",
       "2                 0.59                      [Помоему, По моему]   \n",
       "3                 0.85                           [несерьездным]   \n",
       "4                 0.65  [учытильнице, учитильнице, учытельнице]   \n",
       "...                ...                                      ...   \n",
       "13973             0.57                              [сирдишься]   \n",
       "13974             0.57                                [биглеце]   \n",
       "13975             0.64          [подализь, поддализь, подались]   \n",
       "13976             0.61                              [тамашними]   \n",
       "13977             0.81           [Галактичыская, Галактичиская]   \n",
       "\n",
       "      distortions_amount  \n",
       "0                      3  \n",
       "1                      1  \n",
       "2                      2  \n",
       "3                      1  \n",
       "4                      3  \n",
       "...                  ...  \n",
       "13973                  1  \n",
       "13974                  1  \n",
       "13975                  3  \n",
       "13976                  1  \n",
       "13977                  2  \n",
       "\n",
       "[13978 rows x 5 columns]"
      ]
     },
     "execution_count": 17,
     "metadata": {},
     "output_type": "execute_result"
    }
   ],
   "source": [
    "alisa_selezneva_df = get_sentence_info_df(alisa_selezneva_jsonl)\n",
    "alisa_selezneva_df"
   ]
  },
  {
   "cell_type": "code",
   "execution_count": 18,
   "id": "medieval-pottery",
   "metadata": {},
   "outputs": [
    {
     "data": {
      "text/html": [
       "<div>\n",
       "<style scoped>\n",
       "    .dataframe tbody tr th:only-of-type {\n",
       "        vertical-align: middle;\n",
       "    }\n",
       "\n",
       "    .dataframe tbody tr th {\n",
       "        vertical-align: top;\n",
       "    }\n",
       "\n",
       "    .dataframe thead th {\n",
       "        text-align: right;\n",
       "    }\n",
       "</style>\n",
       "<table border=\"1\" class=\"dataframe\">\n",
       "  <thead>\n",
       "    <tr style=\"text-align: right;\">\n",
       "      <th></th>\n",
       "      <th>sentence</th>\n",
       "      <th>using_word</th>\n",
       "      <th>word_difficulty</th>\n",
       "      <th>distortions</th>\n",
       "      <th>distortions_amount</th>\n",
       "    </tr>\n",
       "  </thead>\n",
       "  <tbody>\n",
       "    <tr>\n",
       "      <th>9533</th>\n",
       "      <td>Потребовались вся моя деликатность и дипломати...</td>\n",
       "      <td>дипломатичность</td>\n",
       "      <td>1.0</td>\n",
       "      <td>[дипламатичность, дипламатичнасть, дипломатичн...</td>\n",
       "      <td>3</td>\n",
       "    </tr>\n",
       "    <tr>\n",
       "      <th>1453</th>\n",
       "      <td>Полосков вынул из кармана портативный металлои...</td>\n",
       "      <td>металлоискатель</td>\n",
       "      <td>1.0</td>\n",
       "      <td>[металоискатель, металлоизкатель, металоизкатель]</td>\n",
       "      <td>3</td>\n",
       "    </tr>\n",
       "    <tr>\n",
       "      <th>1425</th>\n",
       "      <td>— Странно, но кто-то разбил в нем индикатор ме...</td>\n",
       "      <td>металлоискателя</td>\n",
       "      <td>1.0</td>\n",
       "      <td>[металлоизкателя, металоискателя, металоизкателя]</td>\n",
       "      <td>3</td>\n",
       "    </tr>\n",
       "    <tr>\n",
       "      <th>137</th>\n",
       "      <td>Девушки из оранжереи Красная роза украсили его...</td>\n",
       "      <td>музыкально-литературный</td>\n",
       "      <td>1.0</td>\n",
       "      <td>[музыкальнолитературный, музыкально литературный]</td>\n",
       "      <td>2</td>\n",
       "    </tr>\n",
       "    <tr>\n",
       "      <th>13370</th>\n",
       "      <td>— Ты же знаешь, так неблагоприятно расположили...</td>\n",
       "      <td>неблагоприятно</td>\n",
       "      <td>1.0</td>\n",
       "      <td>[неблагопреятно]</td>\n",
       "      <td>1</td>\n",
       "    </tr>\n",
       "    <tr>\n",
       "      <th>3007</th>\n",
       "      <td>— Здесь мастеров нет, разница между Ларисой и ...</td>\n",
       "      <td>непринципиальная</td>\n",
       "      <td>1.0</td>\n",
       "      <td>[неприлнципиальная, непрелнципиальная, непренц...</td>\n",
       "      <td>5</td>\n",
       "    </tr>\n",
       "    <tr>\n",
       "      <th>705</th>\n",
       "      <td>Из воды, метрах в двадцати от берега, черным у...</td>\n",
       "      <td>полузатопленной</td>\n",
       "      <td>1.0</td>\n",
       "      <td>[полузатопленой]</td>\n",
       "      <td>1</td>\n",
       "    </tr>\n",
       "    <tr>\n",
       "      <th>747</th>\n",
       "      <td>На обратном пути заехали на полузатопленную ба...</td>\n",
       "      <td>полузатопленную</td>\n",
       "      <td>1.0</td>\n",
       "      <td>[полузатопленую]</td>\n",
       "      <td>1</td>\n",
       "    </tr>\n",
       "    <tr>\n",
       "      <th>10235</th>\n",
       "      <td>Флаер опустился у полуразрушенной крепости, на...</td>\n",
       "      <td>полуразрушенной</td>\n",
       "      <td>1.0</td>\n",
       "      <td>[полурасрушеной, полуразрушеной, полурасрушенной]</td>\n",
       "      <td>3</td>\n",
       "    </tr>\n",
       "    <tr>\n",
       "      <th>3453</th>\n",
       "      <td>Там, посередине, на небольшом холмике, стоял п...</td>\n",
       "      <td>полуразрушенный</td>\n",
       "      <td>1.0</td>\n",
       "      <td>[полуразрушеный, полурасрушенный, полурасрушеный]</td>\n",
       "      <td>3</td>\n",
       "    </tr>\n",
       "    <tr>\n",
       "      <th>11462</th>\n",
       "      <td>Подвал, оказывается, находился под большим пол...</td>\n",
       "      <td>полуразрушенным</td>\n",
       "      <td>1.0</td>\n",
       "      <td>[полурасрушеным, полуразрушеным, полурасрушенным]</td>\n",
       "      <td>3</td>\n",
       "    </tr>\n",
       "    <tr>\n",
       "      <th>8797</th>\n",
       "      <td>Минут через десять они выехали на большой плац...</td>\n",
       "      <td>полуразрушенными</td>\n",
       "      <td>1.0</td>\n",
       "      <td>[полуразрушеными, полурасрушенными, полурасруш...</td>\n",
       "      <td>3</td>\n",
       "    </tr>\n",
       "    <tr>\n",
       "      <th>3746</th>\n",
       "      <td>Две руки трудились, две другие были предостере...</td>\n",
       "      <td>предостерегающе</td>\n",
       "      <td>1.0</td>\n",
       "      <td>[придостерегающе]</td>\n",
       "      <td>1</td>\n",
       "    </tr>\n",
       "    <tr>\n",
       "      <th>6712</th>\n",
       "      <td>— вдруг кричит Громозека, предупреждающе подня...</td>\n",
       "      <td>предупреждающе</td>\n",
       "      <td>1.0</td>\n",
       "      <td>[придуприждающе, предуприждающе, придупреждающе]</td>\n",
       "      <td>3</td>\n",
       "    </tr>\n",
       "    <tr>\n",
       "      <th>1330</th>\n",
       "      <td>Вокруг большой, с длинными, как спутанные воло...</td>\n",
       "      <td>протуберанцами</td>\n",
       "      <td>1.0</td>\n",
       "      <td>[протуберандцями, протубералнцами, протуберанд...</td>\n",
       "      <td>5</td>\n",
       "    </tr>\n",
       "    <tr>\n",
       "      <th>785</th>\n",
       "      <td>Так получилось, что я с детства люблю всяких ж...</td>\n",
       "      <td>радиоприемники</td>\n",
       "      <td>1.0</td>\n",
       "      <td>[радиопреемники]</td>\n",
       "      <td>1</td>\n",
       "    </tr>\n",
       "    <tr>\n",
       "      <th>13112</th>\n",
       "      <td>— Он обернулся к столу, за которым уже сидел О...</td>\n",
       "      <td>скатерть-самобранка</td>\n",
       "      <td>1.0</td>\n",
       "      <td>[скатерть самобранка, скатертьсамобранка]</td>\n",
       "      <td>2</td>\n",
       "    </tr>\n",
       "    <tr>\n",
       "      <th>11817</th>\n",
       "      <td>Как-то богомол задумался, вышел на улицу и сто...</td>\n",
       "      <td>снегоуборочным</td>\n",
       "      <td>1.0</td>\n",
       "      <td>[стнегоуборочным]</td>\n",
       "      <td>1</td>\n",
       "    </tr>\n",
       "    <tr>\n",
       "      <th>1885</th>\n",
       "      <td>Ведь им тоже соблазнительно испытать свою маши...</td>\n",
       "      <td>соблазнительно</td>\n",
       "      <td>1.0</td>\n",
       "      <td>[соблазднительно]</td>\n",
       "      <td>1</td>\n",
       "    </tr>\n",
       "    <tr>\n",
       "      <th>8230</th>\n",
       "      <td>Он был в скафандре, шлем откинут за спину, вид...</td>\n",
       "      <td>целеустремленный</td>\n",
       "      <td>1.0</td>\n",
       "      <td>[целеустремленый]</td>\n",
       "      <td>1</td>\n",
       "    </tr>\n",
       "  </tbody>\n",
       "</table>\n",
       "</div>"
      ],
      "text/plain": [
       "                                                sentence  \\\n",
       "9533   Потребовались вся моя деликатность и дипломати...   \n",
       "1453   Полосков вынул из кармана портативный металлои...   \n",
       "1425   — Странно, но кто-то разбил в нем индикатор ме...   \n",
       "137    Девушки из оранжереи Красная роза украсили его...   \n",
       "13370  — Ты же знаешь, так неблагоприятно расположили...   \n",
       "3007   — Здесь мастеров нет, разница между Ларисой и ...   \n",
       "705    Из воды, метрах в двадцати от берега, черным у...   \n",
       "747    На обратном пути заехали на полузатопленную ба...   \n",
       "10235  Флаер опустился у полуразрушенной крепости, на...   \n",
       "3453   Там, посередине, на небольшом холмике, стоял п...   \n",
       "11462  Подвал, оказывается, находился под большим пол...   \n",
       "8797   Минут через десять они выехали на большой плац...   \n",
       "3746   Две руки трудились, две другие были предостере...   \n",
       "6712   — вдруг кричит Громозека, предупреждающе подня...   \n",
       "1330   Вокруг большой, с длинными, как спутанные воло...   \n",
       "785    Так получилось, что я с детства люблю всяких ж...   \n",
       "13112  — Он обернулся к столу, за которым уже сидел О...   \n",
       "11817  Как-то богомол задумался, вышел на улицу и сто...   \n",
       "1885   Ведь им тоже соблазнительно испытать свою маши...   \n",
       "8230   Он был в скафандре, шлем откинут за спину, вид...   \n",
       "\n",
       "                    using_word  word_difficulty  \\\n",
       "9533           дипломатичность              1.0   \n",
       "1453           металлоискатель              1.0   \n",
       "1425           металлоискателя              1.0   \n",
       "137    музыкально-литературный              1.0   \n",
       "13370           неблагоприятно              1.0   \n",
       "3007          непринципиальная              1.0   \n",
       "705            полузатопленной              1.0   \n",
       "747            полузатопленную              1.0   \n",
       "10235          полуразрушенной              1.0   \n",
       "3453           полуразрушенный              1.0   \n",
       "11462          полуразрушенным              1.0   \n",
       "8797          полуразрушенными              1.0   \n",
       "3746           предостерегающе              1.0   \n",
       "6712            предупреждающе              1.0   \n",
       "1330            протуберанцами              1.0   \n",
       "785             радиоприемники              1.0   \n",
       "13112      скатерть-самобранка              1.0   \n",
       "11817           снегоуборочным              1.0   \n",
       "1885            соблазнительно              1.0   \n",
       "8230          целеустремленный              1.0   \n",
       "\n",
       "                                             distortions distortions_amount  \n",
       "9533   [дипламатичность, дипламатичнасть, дипломатичн...                  3  \n",
       "1453   [металоискатель, металлоизкатель, металоизкатель]                  3  \n",
       "1425   [металлоизкателя, металоискателя, металоизкателя]                  3  \n",
       "137    [музыкальнолитературный, музыкально литературный]                  2  \n",
       "13370                                   [неблагопреятно]                  1  \n",
       "3007   [неприлнципиальная, непрелнципиальная, непренц...                  5  \n",
       "705                                     [полузатопленой]                  1  \n",
       "747                                     [полузатопленую]                  1  \n",
       "10235  [полурасрушеной, полуразрушеной, полурасрушенной]                  3  \n",
       "3453   [полуразрушеный, полурасрушенный, полурасрушеный]                  3  \n",
       "11462  [полурасрушеным, полуразрушеным, полурасрушенным]                  3  \n",
       "8797   [полуразрушеными, полурасрушенными, полурасруш...                  3  \n",
       "3746                                   [придостерегающе]                  1  \n",
       "6712    [придуприждающе, предуприждающе, придупреждающе]                  3  \n",
       "1330   [протуберандцями, протубералнцами, протуберанд...                  5  \n",
       "785                                     [радиопреемники]                  1  \n",
       "13112          [скатерть самобранка, скатертьсамобранка]                  2  \n",
       "11817                                  [стнегоуборочным]                  1  \n",
       "1885                                   [соблазднительно]                  1  \n",
       "8230                                   [целеустремленый]                  1  "
      ]
     },
     "execution_count": 18,
     "metadata": {},
     "output_type": "execute_result"
    }
   ],
   "source": [
    "alisa_selezneva_df.sort_values(by=['word_difficulty', 'using_word']).tail(20)"
   ]
  },
  {
   "cell_type": "markdown",
   "id": "varied-railway",
   "metadata": {},
   "source": [
    "Всего отобралось 13978 предложений с таким распределением сложности выбранного слова:"
   ]
  },
  {
   "cell_type": "code",
   "execution_count": 19,
   "id": "ranging-photographer",
   "metadata": {},
   "outputs": [
    {
     "data": {
      "image/png": "[encoded data removed]",
      "text/plain": [
       "<Figure size 576x288 with 1 Axes>"
      ]
     },
     "metadata": {
      "needs_background": "light"
     },
     "output_type": "display_data"
    }
   ],
   "source": [
    "fig, ax = plt.subplots(figsize=(8, 4))\n",
    "\n",
    "sns.distplot(x=alisa_selezneva_df['word_difficulty'], label='1')\n",
    "\n",
    "ax.set_title('График распределения сложности выбранных слов')\n",
    "ax.set_ylabel('Плотность распределения')\n",
    "ax.set_xlabel('Сложность слова')\n",
    "\n",
    "plt.xlim(0.5, 1)\n",
    "plt.show()"
   ]
  },
  {
   "cell_type": "code",
   "execution_count": 20,
   "id": "reflected-blocking",
   "metadata": {},
   "outputs": [
    {
     "name": "stdout",
     "output_type": "stream",
     "text": [
      "Всего слов: 13978\n",
      "Слов без искажений: 0\n",
      "Слов с искажениями: 13978\n"
     ]
    },
    {
     "data": {
      "image/png": "[encoded data removed]",
      "text/plain": [
       "<Figure size 576x288 with 1 Axes>"
      ]
     },
     "metadata": {
      "needs_background": "light"
     },
     "output_type": "display_data"
    }
   ],
   "source": [
    "countplot_distortions_df(alisa_selezneva_df)"
   ]
  }
 ],
 "metadata": {
  "kernelspec": {
   "display_name": "Python 3",
   "language": "python",
   "name": "python3"
  },
  "language_info": {
   "codemirror_mode": {
    "name": "ipython",
    "version": 3
   },
   "file_extension": ".py",
   "mimetype": "text/x-python",
   "name": "python",
   "nbconvert_exporter": "python",
   "pygments_lexer": "ipython3",
   "version": "3.8.8"
  }
 },
 "nbformat": 4,
 "nbformat_minor": 5
}
