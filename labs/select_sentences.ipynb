{
 "cells": [
  {
   "cell_type": "markdown",
   "id": "technological-collect",
   "metadata": {},
   "source": [
    "# Реализация отбора предложений (Гареева)"
   ]
  },
  {
   "cell_type": "markdown",
   "id": "optical-blink",
   "metadata": {},
   "source": [
    "### Функция сложности слова"
   ]
  },
  {
   "cell_type": "code",
   "execution_count": 1,
   "id": "neither-lithuania",
   "metadata": {},
   "outputs": [],
   "source": [
    "%run scripts/word_difficulty.py"
   ]
  },
  {
   "cell_type": "markdown",
   "id": "blond-adobe",
   "metadata": {},
   "source": [
    "### Функция создания искажений"
   ]
  },
  {
   "cell_type": "code",
   "execution_count": 2,
   "id": "union-store",
   "metadata": {},
   "outputs": [],
   "source": [
    "%run scripts/create_distortions.py"
   ]
  },
  {
   "cell_type": "markdown",
   "id": "elder-nirvana",
   "metadata": {},
   "source": [
    "### Белый список слов"
   ]
  },
  {
   "cell_type": "markdown",
   "id": "extensive-bathroom",
   "metadata": {},
   "source": [
    "Для того, чтобы определять существуемость слова, будем использовать большой датасет русских слов. (https://github.com/danakt/russian-words)"
   ]
  },
  {
   "cell_type": "code",
   "execution_count": 3,
   "id": "instant-meeting",
   "metadata": {},
   "outputs": [
    {
     "data": {
      "text/html": [
       "<div>\n",
       "<style scoped>\n",
       "    .dataframe tbody tr th:only-of-type {\n",
       "        vertical-align: middle;\n",
       "    }\n",
       "\n",
       "    .dataframe tbody tr th {\n",
       "        vertical-align: top;\n",
       "    }\n",
       "\n",
       "    .dataframe thead th {\n",
       "        text-align: right;\n",
       "    }\n",
       "</style>\n",
       "<table border=\"1\" class=\"dataframe\">\n",
       "  <thead>\n",
       "    <tr style=\"text-align: right;\">\n",
       "      <th></th>\n",
       "    </tr>\n",
       "    <tr>\n",
       "      <th>word</th>\n",
       "    </tr>\n",
       "  </thead>\n",
       "  <tbody>\n",
       "    <tr>\n",
       "      <th>-де</th>\n",
       "    </tr>\n",
       "    <tr>\n",
       "      <th>-ка</th>\n",
       "    </tr>\n",
       "    <tr>\n",
       "      <th>-либо</th>\n",
       "    </tr>\n",
       "    <tr>\n",
       "      <th>-нибудь</th>\n",
       "    </tr>\n",
       "    <tr>\n",
       "      <th>-с</th>\n",
       "    </tr>\n",
       "    <tr>\n",
       "      <th>...</th>\n",
       "    </tr>\n",
       "    <tr>\n",
       "      <th>посмурневшему</th>\n",
       "    </tr>\n",
       "    <tr>\n",
       "      <th>посмурневшею</th>\n",
       "    </tr>\n",
       "    <tr>\n",
       "      <th>посмурневши</th>\n",
       "    </tr>\n",
       "    <tr>\n",
       "      <th>посмурневшие</th>\n",
       "    </tr>\n",
       "    <tr>\n",
       "      <th>посмурневший</th>\n",
       "    </tr>\n",
       "  </tbody>\n",
       "</table>\n",
       "<p>1507676 rows × 0 columns</p>\n",
       "</div>"
      ],
      "text/plain": [
       "Empty DataFrame\n",
       "Columns: []\n",
       "Index: [-де, -ка, -либо, -нибудь, -с, -таки, -то, а, а-конто, а-ля, а.л., аарона, ааронов, аб, аба, абажур, абажура, абажурам, абажурами, абажурах, абажуре, абажурная, абажурного, абажурное, абажурной, абажурном, абажурному, абажурною, абажурную, абажурные, абажурный, абажурным, абажурными, абажурных, абажуров, абажуродержателе, абажуродержателей, абажуродержателем, абажуродержатели, абажуродержатель, абажуродержателю, абажуродержателя, абажуродержателям, абажуродержателями, абажуродержателях, абажуром, абажуру, абажурчик, абажурчика, абажурчикам, абажурчиками, абажурчиках, абажурчике, абажурчики, абажурчиков, абажурчиком, абажурчику, абажуры, абаз, абаза, абазам, абазами, абазах, абазе, абазией, абазиею, абазии, абазин, абазина, абазинам, абазинами, абазинах, абазине, абазинец, абазинка, абазинкам, абазинками, абазинках, абазинке, абазинки, абазинкой, абазинкою, абазинку, абазинов, абазинок, абазином, абазинская, абазинские, абазинский, абазинским, абазинскими, абазинских, абазинского, абазинское, абазинской, абазинском, абазинскому, абазинскою, абазинскую, абазину, ...]\n",
       "\n",
       "[1507676 rows x 0 columns]"
      ]
     },
     "execution_count": 3,
     "metadata": {},
     "output_type": "execute_result"
    }
   ],
   "source": [
    "dirname = 'datasets/white_list'\n",
    "fullname = os.path.join(dirname, 'russian.txt')\n",
    "\n",
    "if not os.path.exists(fullname):\n",
    "    url = 'https://github.com/danakt/russian-words/raw/master/russian.txt'\n",
    "    r = requests.get(url)\n",
    "    os.makedirs(dirname, exist_ok=True)\n",
    "    with open(fullname, 'wb') as ru:\n",
    "        ru.write(r.content)\n",
    "    \n",
    "white_list_df = pd.read_csv(fullname, sep='\\n', encoding='cp1251', names=['word'])\n",
    "white_list_df = white_list_df[~white_list_df['word'].str.lower().duplicated(keep=False)]\n",
    "white_list_df = white_list_df[~white_list_df['word'].str.contains('[А-Я]', regex=True)]\n",
    "white_list_df = white_list_df.set_index('word')\n",
    "white_list_df"
   ]
  },
  {
   "cell_type": "markdown",
   "id": "detected-longitude",
   "metadata": {},
   "source": [
    "### Список сложных слов"
   ]
  },
  {
   "cell_type": "markdown",
   "id": "prospective-equivalent",
   "metadata": {},
   "source": [
    "Реализация функции, которая будет на вход получать список слов, а на выход получать список словарей для каждого сложного слова, отобранного по критериям, со всей нужной информацией: индексом в предложении, самим словом, сложностью и списком искажений."
   ]
  },
  {
   "cell_type": "code",
   "execution_count": 4,
   "id": "laughing-buyer",
   "metadata": {},
   "outputs": [],
   "source": [
    "def get_complex_word_list(sentence_words: List[str]) -> List[dict]:\n",
    "    complex_words = dict()\n",
    "    for index, word in enumerate(sentence_words):\n",
    "        word, is_capitalized = transform_word(word)\n",
    "        if word in white_list_df.index:\n",
    "            difficulty = word_difficulty(word)\n",
    "            if difficulty['difficulty'] < 0.5 or difficulty['lemma'] in complex_words:\n",
    "                complex_words[difficulty['lemma']] = None\n",
    "                continue\n",
    "            distortions = create_distortions(word=word, lemma=difficulty['lemma'] , max_amount=6)\n",
    "            if len(distortions) == 0:\n",
    "                continue\n",
    "            word = {'index': index,\n",
    "                    'word': word.capitalize() if is_capitalized else word,\n",
    "                    'difficulty': round(difficulty['difficulty'], 2),\n",
    "                    'distortions': list(distortion.capitalize() if is_capitalized else distortion \\\n",
    "                                        for distortion in distortions)}\n",
    "            complex_words[difficulty['lemma']] = word\n",
    "    return list(word for word in complex_words.values() if word is not None)"
   ]
  },
  {
   "cell_type": "markdown",
   "id": "exotic-account",
   "metadata": {},
   "source": [
    "Протестируем"
   ]
  },
  {
   "cell_type": "code",
   "execution_count": 5,
   "id": "streaming-monitoring",
   "metadata": {
    "scrolled": false
   },
   "outputs": [
    {
     "data": {
      "text/plain": [
       "[{'index': 0,\n",
       "  'word': 'Написанные',\n",
       "  'difficulty': 0.52,\n",
       "  'distortions': ['Нописанные',\n",
       "   'Написаные',\n",
       "   'Нописаные',\n",
       "   'Написонные',\n",
       "   'Написоные']},\n",
       " {'index': 6,\n",
       "  'word': 'приключениях',\n",
       "  'difficulty': 0.61,\n",
       "  'distortions': ['преключениях']},\n",
       " {'index': 9,\n",
       "  'word': 'погружают',\n",
       "  'difficulty': 0.71,\n",
       "  'distortions': ['пагружают']},\n",
       " {'index': 13,\n",
       "  'word': 'фантастики',\n",
       "  'difficulty': 0.63,\n",
       "  'distortions': ['фонтастики', 'фонтастыки', 'фантастыки']}]"
      ]
     },
     "execution_count": 5,
     "metadata": {},
     "output_type": "execute_result"
    }
   ],
   "source": [
    "complex_words = get_complex_word_list(sentence_words=('Написанные для детей произведения о необыкновенных приключениях земной' +\n",
    "                                                      'девочки Алисы погружают читателя в мир фантастики и сказок.').split())\n",
    "complex_words"
   ]
  },
  {
   "cell_type": "markdown",
   "id": "computational-selection",
   "metadata": {},
   "source": [
    "### Выбор проверяемых слов"
   ]
  },
  {
   "cell_type": "markdown",
   "id": "stretch-caution",
   "metadata": {},
   "source": [
    "Функция выбора проверяемого слова принимает на вход список сложных слов в предложении и предполагаемый сет уже использованных слов и возвращает индекс выбранного слова в списке, если его вообще можно выбрать."
   ]
  },
  {
   "cell_type": "code",
   "execution_count": 6,
   "id": "intended-effort",
   "metadata": {},
   "outputs": [],
   "source": [
    "from typing import Set\n",
    "\n",
    "def choose_word_id(complex_words: List[dict], used_words: Set[str]=set()) -> Optional[int]:\n",
    "    for complex_words in sorted(enumerate(complex_words), key=(lambda word: word[1]['difficulty']), reverse=True):\n",
    "        if complex_words[1]['word'] not in used_words:\n",
    "            return complex_words[0]\n",
    "    return None"
   ]
  },
  {
   "cell_type": "markdown",
   "id": "positive-lincoln",
   "metadata": {},
   "source": [
    "Протестируем"
   ]
  },
  {
   "cell_type": "code",
   "execution_count": 7,
   "id": "christian-founder",
   "metadata": {},
   "outputs": [
    {
     "name": "stdout",
     "output_type": "stream",
     "text": [
      "{'index': 9, 'word': 'погружают', 'difficulty': 0.71, 'distortions': ['пагружают']}\n",
      "{'index': 9, 'word': 'погружают', 'difficulty': 0.71, 'distortions': ['пагружают']}\n",
      "{'index': 13, 'word': 'фантастики', 'difficulty': 0.63, 'distortions': ['фонтастики', 'фонтастыки', 'фантастыки']}\n",
      "3\n"
     ]
    }
   ],
   "source": [
    "print(complex_words[choose_word_id(complex_words=complex_words)])\n",
    "print(complex_words[choose_word_id(complex_words=complex_words, used_words={'необыкновенных', 'приключениях'})])\n",
    "print(complex_words[choose_word_id(complex_words=complex_words, used_words={'необыкновенных', 'погружают'})])\n",
    "print(choose_word_id(complex_words=complex_words, used_words={'необыкновенных', 'погружают','приключениях', 'произведения'}))"
   ]
  },
  {
   "cell_type": "markdown",
   "id": "diagnostic-scope",
   "metadata": {},
   "source": [
    "### Анализ предложения"
   ]
  },
  {
   "cell_type": "markdown",
   "id": "liquid-lawrence",
   "metadata": {},
   "source": [
    "Функция, делающая полный анализ предложения, принимает на вход само предложение, обрабатывает его и возвращает словарь JSON со всей нужной информацией, который в последствие будет строкой в файле всех предложений. Если предложение не подходит по длине - его не рассматриваем."
   ]
  },
  {
   "cell_type": "code",
   "execution_count": 8,
   "id": "friendly-yield",
   "metadata": {},
   "outputs": [],
   "source": [
    "def analyze_sentence(sentence: str, used_words: Set[str]=set()) -> Optional[dict]:\n",
    "    sentence = re.sub('«|»', '', sentence)\n",
    "    sentence = re.sub('\\xa0', ' ', sentence).strip()\n",
    "    sentence_words = sentence.split()\n",
    "    if 8 <= len(sentence_words) <= 25:\n",
    "        complex_words = get_complex_word_list(sentence_words=sentence_words)\n",
    "        using_word_id = choose_word_id(complex_words, used_words)\n",
    "        if using_word_id is not None:\n",
    "            return {\n",
    "                'sentence': sentence,\n",
    "                'using_word_id': using_word_id,\n",
    "                'complex_words': complex_words\n",
    "            }\n",
    "    return None"
   ]
  },
  {
   "cell_type": "markdown",
   "id": "continental-hawaii",
   "metadata": {},
   "source": [
    "Протестируем"
   ]
  },
  {
   "cell_type": "code",
   "execution_count": 9,
   "id": "constant-maximum",
   "metadata": {},
   "outputs": [
    {
     "name": "stdout",
     "output_type": "stream",
     "text": [
      "{'sentence': 'Написанные для детей произведения о необыкновенных приключениях земнойдевочки Алисы погружают читателя в мир фантастики и сказок.', 'using_word_id': 2, 'complex_words': [{'index': 0, 'word': 'Написанные', 'difficulty': 0.52, 'distortions': ['Нописанные', 'Написаные', 'Нописаные', 'Написонные', 'Написоные']}, {'index': 6, 'word': 'приключениях', 'difficulty': 0.61, 'distortions': ['преключениях']}, {'index': 9, 'word': 'погружают', 'difficulty': 0.71, 'distortions': ['пагружают']}, {'index': 13, 'word': 'фантастики', 'difficulty': 0.63, 'distortions': ['фонтастики', 'фонтастыки', 'фантастыки']}]}\n",
      "None\n"
     ]
    }
   ],
   "source": [
    "print(analyze_sentence(sentence='Написанные для детей произведения о необыкновенных приключениях земной' +\n",
    "                            'девочки Алисы погружают читателя в мир фантастики и сказок.',\n",
    "                      used_words={'приключениях'}))\n",
    "print(analyze_sentence(sentence='Простые слова.'))"
   ]
  },
  {
   "cell_type": "markdown",
   "id": "developed-pakistan",
   "metadata": {},
   "source": [
    "### Хранение предложений"
   ]
  },
  {
   "cell_type": "markdown",
   "id": "printable-disco",
   "metadata": {},
   "source": [
    "Напишем примеры классов с реализацией сохранения и чтения информации о предложениях в выбранном формате."
   ]
  },
  {
   "cell_type": "code",
   "execution_count": 10,
   "id": "normal-decline",
   "metadata": {},
   "outputs": [],
   "source": [
    "import json\n",
    "from itertools import islice\n",
    "\n",
    "class JSONLCreator:\n",
    "    fullname = ''\n",
    "    number_of_sentences = 0\n",
    "    \n",
    "    def __init__(self, dirname: str='jsonl', filename: str='output.jsonl'):\n",
    "        self.fullname = os.path.join(dirname, filename)\n",
    "        os.makedirs(dirname, exist_ok=True)\n",
    "        open(self.fullname, 'w', encoding='utf-8').close()\n",
    "        \n",
    "    def _add_content(self, content: Optional[dict]) -> None:\n",
    "        with open(self.fullname, 'a', encoding='utf-8') as outfile:\n",
    "            json.dump(content, outfile, ensure_ascii=False)\n",
    "            outfile.write('\\n')\n",
    "\n",
    "    def add_sentence_info(self, sentence: Optional[dict]) -> None:\n",
    "        self._add_content(content=sentence)\n",
    "        self.number_of_sentences += 1\n",
    "            \n",
    "    def end_file(self): \n",
    "        meta_info = {'number_of_sentences': self.number_of_sentences}\n",
    "        self._add_content(content=meta_info)\n",
    "        \n",
    "        \n",
    "class JSONLReader:\n",
    "    fullname = ''\n",
    "    number_of_sentences = 0\n",
    "    \n",
    "    def __init__(self, dirname: str='jsonl', filename: str='output.jsonl'):\n",
    "        self.fullname = os.path.join(dirname, filename)\n",
    "        meta_info = json.loads(self._get_last_line())\n",
    "        self.number_of_sentences = meta_info['number_of_sentences']\n",
    "                                     \n",
    "    def _get_last_line(self) -> str:                             \n",
    "        with open(self.fullname, 'rb') as file:\n",
    "            try:\n",
    "                file.seek(-2, os.SEEK_END)\n",
    "                while file.read(1) != b'\\n':\n",
    "                    file.seek(-2, os.SEEK_CUR)\n",
    "            except OSError:\n",
    "                \n",
    "                file.seek(0)\n",
    "            last_line = file.readline().decode()\n",
    "        return last_line\n",
    "    \n",
    "    def get_n_sentence_info(self, n) -> dict:\n",
    "        if not (0 <= n < self.number_of_sentences):\n",
    "            return None\n",
    "        with open(self.fullname, 'r', encoding='utf-8') as file:\n",
    "            sentence_info = json.loads(next(islice(file, n, None)))\n",
    "        return sentence_info"
   ]
  },
  {
   "cell_type": "markdown",
   "id": "least-collectible",
   "metadata": {},
   "source": [
    "Протестируем"
   ]
  },
  {
   "cell_type": "code",
   "execution_count": 11,
   "id": "directed-roots",
   "metadata": {},
   "outputs": [
    {
     "name": "stdout",
     "output_type": "stream",
     "text": [
      "2\n",
      "{'sentence': 'Написанные для детей произведения о необыкновенных приключениях земнойдевочки Алисы погружают читателя в мир фантастики и сказок.', 'using_word_id': 2, 'complex_words': [{'index': 0, 'word': 'Написанные', 'difficulty': 0.52, 'distortions': ['Нописанные', 'Написаные', 'Нописаные', 'Написонные', 'Написоные']}, {'index': 6, 'word': 'приключениях', 'difficulty': 0.61, 'distortions': ['преключениях']}, {'index': 9, 'word': 'погружают', 'difficulty': 0.71, 'distortions': ['пагружают']}, {'index': 13, 'word': 'фантастики', 'difficulty': 0.63, 'distortions': ['фонтастики', 'фонтастыки', 'фантастыки']}]}\n",
      "{'sentence': 'Тогда я позвонил в Минералогический музей Фридману, с которым я когда-то встречался на Памире.', 'using_word_id': 0, 'complex_words': [{'index': 4, 'word': 'Минералогический', 'difficulty': 0.88, 'distortions': ['Минералагический', 'Миниралогический', 'Минералогичиский', 'Менералогический', 'Минерологический']}]}\n",
      "None\n",
      "None\n"
     ]
    }
   ],
   "source": [
    "sentences = ['Написанные для детей произведения о необыкновенных приключениях земной' +\n",
    "                            'девочки Алисы погружают читателя в мир фантастики и сказок.',\n",
    "            'Тогда я позвонил в Минералогический музей Фридману, с которым я когда-то встречался на Памире.']\n",
    "\n",
    "jsonl_creator = JSONLCreator(filename='test.jsonl')\n",
    "for sentence in sentences:\n",
    "    jsonl_creator.add_sentence_info(analyze_sentence(sentence))\n",
    "jsonl_creator.end_file()\n",
    "\n",
    "jsonl_reader = JSONLReader(filename='test.jsonl')\n",
    "print(jsonl_reader.number_of_sentences)\n",
    "print(jsonl_reader.get_n_sentence_info(n=0))\n",
    "print(jsonl_reader.get_n_sentence_info(n=1))\n",
    "print(jsonl_reader.get_n_sentence_info(n=-1))\n",
    "print(jsonl_reader.get_n_sentence_info(n=2))"
   ]
  },
  {
   "cell_type": "markdown",
   "id": "peripheral-buyer",
   "metadata": {},
   "source": [
    "### Корпус текстов"
   ]
  },
  {
   "cell_type": "markdown",
   "id": "nasty-washer",
   "metadata": {},
   "source": [
    "Для нашего бота с говорящим названием \"Граммазека\": грамматика и Громозека - имя персонажа из серии книг об Алисе Селезнёвой Кира Булычёва, будем использовать корпус текста из вышеупомянутых книг.\n",
    "\n",
    "Скачаем и преобразуем нужный текст."
   ]
  },
  {
   "cell_type": "code",
   "execution_count": 12,
   "id": "outer-consolidation",
   "metadata": {},
   "outputs": [],
   "source": [
    "def save_alisa_selezneva_txt(dirname: str, new_filename: str) -> None:\n",
    "    fullname = os.path.join(dirname, new_filename)\n",
    "    \n",
    "    if not os.path.exists(fullname):\n",
    "        with open(os.path.join(dirname, 'alisa-selezneva-kompilyaciya-knigi-1-21.txt'), 'rb') as f:\n",
    "            text = f.read().decode('Windows-1251')\n",
    "            with open(fullname, 'wb') as ru:\n",
    "                ru.write(text.encode('utf-8'))\n",
    "    return fullname\n",
    "\n",
    "alisa_selezneva_fullname = save_alisa_selezneva_txt(dirname='datasets/texts/alisa_selezneva', \n",
    "                                                    new_filename='alisa_selezneva.txt')"
   ]
  },
  {
   "cell_type": "markdown",
   "id": "steady-smith",
   "metadata": {},
   "source": [
    "### Отбор предложений"
   ]
  },
  {
   "cell_type": "markdown",
   "id": "decent-frank",
   "metadata": {},
   "source": [
    "Проанализируем корпус текстов и сохраним подходящие предложения и информацию о них в обговоренным формате."
   ]
  },
  {
   "cell_type": "code",
   "execution_count": 13,
   "id": "sought-marriage",
   "metadata": {},
   "outputs": [],
   "source": [
    "def get_output_jsonl(filepath: str) -> str:\n",
    "    return '.'.join(os.path.basename(filepath).split('.')[:-1]) + '.jsonl'\n",
    "\n",
    "def save_sentences(filepath: str, output_jsonl: str=None, stop=None) -> str:\n",
    "    output_jsonl = output_jsonl if output_jsonl else get_output_jsonl(filepath)\n",
    "    jsonl_creator = JSONLCreator(filename=output_jsonl)\n",
    "    used_words = set()\n",
    "    with open(filepath, 'rb') as f:\n",
    "        for i, sentence in enumerate(tqdm(re.findall(r'.*?[.!\\?]', f.read().decode('utf-8')))):\n",
    "            sentence_info = analyze_sentence(sentence, used_words)\n",
    "            if sentence_info is None:\n",
    "                continue\n",
    "            used_words.add(sentence_info['complex_words'][sentence_info['using_word_id']]['word'])\n",
    "            jsonl_creator.add_sentence_info(sentence_info)\n",
    "            if stop and stop <= i:\n",
    "                break\n",
    "    jsonl_creator.end_file()\n",
    "    return output_jsonl"
   ]
  },
  {
   "cell_type": "code",
   "execution_count": 14,
   "id": "pursuant-willow",
   "metadata": {},
   "outputs": [
    {
     "name": "stderr",
     "output_type": "stream",
     "text": [
      "  0%|                                                                              | 52/129073 [00:00<24:41, 87.09it/s]\n"
     ]
    },
    {
     "data": {
      "text/plain": [
       "6"
      ]
     },
     "execution_count": 14,
     "metadata": {},
     "output_type": "execute_result"
    }
   ],
   "source": [
    "# example_jsonl = save_sentences(filepath=alisa_selezneva_fullname, output_jsonl='example.jsonl', stop=50)\n",
    "example_jsonl = 'example.jsonl'\n",
    "jsonl_reader = JSONLReader(filename=example_jsonl)\n",
    "jsonl_reader.number_of_sentences"
   ]
  },
  {
   "cell_type": "code",
   "execution_count": 15,
   "id": "related-perspective",
   "metadata": {},
   "outputs": [
    {
     "name": "stderr",
     "output_type": "stream",
     "text": [
      "100%|█████████████████████████████████████████████████████████████████████████| 129073/129073 [15:35<00:00, 137.98it/s]\n"
     ]
    }
   ],
   "source": [
    "# alisa_selezneva_jsonl = save_sentences(filepath=alisa_selezneva_fullname)\n",
    "alisa_selezneva_jsonl = get_output_jsonl(filepath=alisa_selezneva_fullname)"
   ]
  },
  {
   "cell_type": "markdown",
   "id": "endless-moldova",
   "metadata": {},
   "source": [
    "### Анализ результатов"
   ]
  },
  {
   "cell_type": "markdown",
   "id": "popular-timing",
   "metadata": {},
   "source": [
    "Посмотрим, что вышло в результате."
   ]
  },
  {
   "cell_type": "code",
   "execution_count": 16,
   "id": "linear-guyana",
   "metadata": {},
   "outputs": [],
   "source": [
    "def get_sentence_info_df(filename: str) -> pd.DataFrame:\n",
    "    jsonl_reader = JSONLReader(filename=filename)\n",
    "    print('number_of_sentences:', jsonl_reader.number_of_sentences)\n",
    "    text_df = pd.DataFrame(columns=list(['sentence', 'using_word', 'word_difficulty', 'distortions', 'distortions_amount']))\n",
    "    for n in tqdm(range(jsonl_reader.number_of_sentences)):\n",
    "        sentence_info = jsonl_reader.get_n_sentence_info(n)\n",
    "        using_word = sentence_info['complex_words'][sentence_info['using_word_id']]\n",
    "        row = {'sentence': sentence_info['sentence'],\n",
    "               'using_word': using_word['word'],\n",
    "               'word_difficulty':  using_word['difficulty'],\n",
    "               'distortions': using_word['distortions'],\n",
    "               'distortions_amount': len(using_word['distortions'])}\n",
    "        text_df = text_df.append(row, ignore_index=True)\n",
    "    return text_df"
   ]
  },
  {
   "cell_type": "code",
   "execution_count": 17,
   "id": "decimal-picture",
   "metadata": {},
   "outputs": [
    {
     "name": "stderr",
     "output_type": "stream",
     "text": [
      "  0%|                                                                              | 12/14759 [00:00<02:05, 117.74it/s]"
     ]
    },
    {
     "name": "stdout",
     "output_type": "stream",
     "text": [
      "number_of_sentences: 14759\n"
     ]
    },
    {
     "name": "stderr",
     "output_type": "stream",
     "text": [
      "100%|████████████████████████████████████████████████████████████████████████████| 14759/14759 [15:38<00:00, 15.73it/s]\n"
     ]
    },
    {
     "data": {
      "text/html": [
       "<div>\n",
       "<style scoped>\n",
       "    .dataframe tbody tr th:only-of-type {\n",
       "        vertical-align: middle;\n",
       "    }\n",
       "\n",
       "    .dataframe tbody tr th {\n",
       "        vertical-align: top;\n",
       "    }\n",
       "\n",
       "    .dataframe thead th {\n",
       "        text-align: right;\n",
       "    }\n",
       "</style>\n",
       "<table border=\"1\" class=\"dataframe\">\n",
       "  <thead>\n",
       "    <tr style=\"text-align: right;\">\n",
       "      <th></th>\n",
       "      <th>sentence</th>\n",
       "      <th>using_word</th>\n",
       "      <th>word_difficulty</th>\n",
       "      <th>distortions</th>\n",
       "      <th>distortions_amount</th>\n",
       "    </tr>\n",
       "  </thead>\n",
       "  <tbody>\n",
       "    <tr>\n",
       "      <th>0</th>\n",
       "      <td>Написанные для детей произведения о необыкнове...</td>\n",
       "      <td>погружают</td>\n",
       "      <td>0.71</td>\n",
       "      <td>[пагружают]</td>\n",
       "      <td>1</td>\n",
       "    </tr>\n",
       "    <tr>\n",
       "      <th>1</th>\n",
       "      <td>Шуша сказал, что пойдет в школу вместе с Алисо...</td>\n",
       "      <td>учительница</td>\n",
       "      <td>0.65</td>\n",
       "      <td>[учитильница, учытильница, учытельница]</td>\n",
       "      <td>3</td>\n",
       "    </tr>\n",
       "    <tr>\n",
       "      <th>2</th>\n",
       "      <td>По-моему, когда я уходил в первый раз в школу,...</td>\n",
       "      <td>По-моему</td>\n",
       "      <td>0.59</td>\n",
       "      <td>[По моему, Помоему, Па-моему, Памоему, Па моему]</td>\n",
       "      <td>5</td>\n",
       "    </tr>\n",
       "    <tr>\n",
       "      <th>3</th>\n",
       "      <td>Ей полезно будет знать, с каким несерьезным че...</td>\n",
       "      <td>несерьезным</td>\n",
       "      <td>0.85</td>\n",
       "      <td>[нисерьезным, несирьезным, несирьездным, несер...</td>\n",
       "      <td>5</td>\n",
       "    </tr>\n",
       "    <tr>\n",
       "      <th>4</th>\n",
       "      <td>Может быть, эти записки помогут учительнице во...</td>\n",
       "      <td>учительнице</td>\n",
       "      <td>0.65</td>\n",
       "      <td>[учытильнице, учытельнице, учитильнице]</td>\n",
       "      <td>3</td>\n",
       "    </tr>\n",
       "    <tr>\n",
       "      <th>...</th>\n",
       "      <td>...</td>\n",
       "      <td>...</td>\n",
       "      <td>...</td>\n",
       "      <td>...</td>\n",
       "      <td>...</td>\n",
       "    </tr>\n",
       "    <tr>\n",
       "      <th>14754</th>\n",
       "      <td>— Но учтите, что мое терпение не безгранично.</td>\n",
       "      <td>безгранично</td>\n",
       "      <td>0.90</td>\n",
       "      <td>[безгронично, бизгранично]</td>\n",
       "      <td>2</td>\n",
       "    </tr>\n",
       "    <tr>\n",
       "      <th>14755</th>\n",
       "      <td>— Ты сердишься, — сказал Чжан Цзолинь, — значи...</td>\n",
       "      <td>сердишься</td>\n",
       "      <td>0.57</td>\n",
       "      <td>[сердешься, сердышься]</td>\n",
       "      <td>2</td>\n",
       "    </tr>\n",
       "    <tr>\n",
       "      <th>14756</th>\n",
       "      <td>Мы поддались обманщику, а он со своими друзьям...</td>\n",
       "      <td>поддались</td>\n",
       "      <td>0.64</td>\n",
       "      <td>[подались, поддолись, падались, паддались]</td>\n",
       "      <td>4</td>\n",
       "    </tr>\n",
       "    <tr>\n",
       "      <th>14757</th>\n",
       "      <td>А друиды острова Элис — вовсе не друидами, а п...</td>\n",
       "      <td>тамошними</td>\n",
       "      <td>0.61</td>\n",
       "      <td>[тамашними]</td>\n",
       "      <td>1</td>\n",
       "    </tr>\n",
       "    <tr>\n",
       "      <th>14758</th>\n",
       "      <td>Читайте об этих приключениях Коры Орват в рома...</td>\n",
       "      <td>Галактическая</td>\n",
       "      <td>0.81</td>\n",
       "      <td>[Галоктическая, Голактическая, Галактичиская]</td>\n",
       "      <td>3</td>\n",
       "    </tr>\n",
       "  </tbody>\n",
       "</table>\n",
       "<p>14759 rows × 5 columns</p>\n",
       "</div>"
      ],
      "text/plain": [
       "                                                sentence     using_word  \\\n",
       "0      Написанные для детей произведения о необыкнове...      погружают   \n",
       "1      Шуша сказал, что пойдет в школу вместе с Алисо...    учительница   \n",
       "2      По-моему, когда я уходил в первый раз в школу,...       По-моему   \n",
       "3      Ей полезно будет знать, с каким несерьезным че...    несерьезным   \n",
       "4      Может быть, эти записки помогут учительнице во...    учительнице   \n",
       "...                                                  ...            ...   \n",
       "14754      — Но учтите, что мое терпение не безгранично.    безгранично   \n",
       "14755  — Ты сердишься, — сказал Чжан Цзолинь, — значи...      сердишься   \n",
       "14756  Мы поддались обманщику, а он со своими друзьям...      поддались   \n",
       "14757  А друиды острова Элис — вовсе не друидами, а п...      тамошними   \n",
       "14758  Читайте об этих приключениях Коры Орват в рома...  Галактическая   \n",
       "\n",
       "       word_difficulty                                        distortions  \\\n",
       "0                 0.71                                        [пагружают]   \n",
       "1                 0.65            [учитильница, учытильница, учытельница]   \n",
       "2                 0.59   [По моему, Помоему, Па-моему, Памоему, Па моему]   \n",
       "3                 0.85  [нисерьезным, несирьезным, несирьездным, несер...   \n",
       "4                 0.65            [учытильнице, учытельнице, учитильнице]   \n",
       "...                ...                                                ...   \n",
       "14754             0.90                         [безгронично, бизгранично]   \n",
       "14755             0.57                             [сердешься, сердышься]   \n",
       "14756             0.64         [подались, поддолись, падались, паддались]   \n",
       "14757             0.61                                        [тамашними]   \n",
       "14758             0.81      [Галоктическая, Голактическая, Галактичиская]   \n",
       "\n",
       "      distortions_amount  \n",
       "0                      1  \n",
       "1                      3  \n",
       "2                      5  \n",
       "3                      5  \n",
       "4                      3  \n",
       "...                  ...  \n",
       "14754                  2  \n",
       "14755                  2  \n",
       "14756                  4  \n",
       "14757                  1  \n",
       "14758                  3  \n",
       "\n",
       "[14759 rows x 5 columns]"
      ]
     },
     "execution_count": 17,
     "metadata": {},
     "output_type": "execute_result"
    }
   ],
   "source": [
    "alisa_selezneva_df = get_sentence_info_df(alisa_selezneva_jsonl)\n",
    "alisa_selezneva_df"
   ]
  },
  {
   "cell_type": "code",
   "execution_count": 18,
   "id": "medieval-pottery",
   "metadata": {},
   "outputs": [
    {
     "data": {
      "text/html": [
       "<div>\n",
       "<style scoped>\n",
       "    .dataframe tbody tr th:only-of-type {\n",
       "        vertical-align: middle;\n",
       "    }\n",
       "\n",
       "    .dataframe tbody tr th {\n",
       "        vertical-align: top;\n",
       "    }\n",
       "\n",
       "    .dataframe thead th {\n",
       "        text-align: right;\n",
       "    }\n",
       "</style>\n",
       "<table border=\"1\" class=\"dataframe\">\n",
       "  <thead>\n",
       "    <tr style=\"text-align: right;\">\n",
       "      <th></th>\n",
       "      <th>sentence</th>\n",
       "      <th>using_word</th>\n",
       "      <th>word_difficulty</th>\n",
       "      <th>distortions</th>\n",
       "      <th>distortions_amount</th>\n",
       "    </tr>\n",
       "  </thead>\n",
       "  <tbody>\n",
       "    <tr>\n",
       "      <th>3091</th>\n",
       "      <td>— Здесь мастеров нет, разница между Ларисой и ...</td>\n",
       "      <td>непринципиальная</td>\n",
       "      <td>1.0</td>\n",
       "      <td>[неприндципиальная, непринтципиальная, неприлн...</td>\n",
       "      <td>3</td>\n",
       "    </tr>\n",
       "    <tr>\n",
       "      <th>727</th>\n",
       "      <td>Из воды, метрах в двадцати от берега, черным у...</td>\n",
       "      <td>полузатопленной</td>\n",
       "      <td>1.0</td>\n",
       "      <td>[полузатопленой]</td>\n",
       "      <td>1</td>\n",
       "    </tr>\n",
       "    <tr>\n",
       "      <th>768</th>\n",
       "      <td>На обратном пути заехали на полузатопленную ба...</td>\n",
       "      <td>полузатопленную</td>\n",
       "      <td>1.0</td>\n",
       "      <td>[полузатопленую]</td>\n",
       "      <td>1</td>\n",
       "    </tr>\n",
       "    <tr>\n",
       "      <th>10699</th>\n",
       "      <td>Флаер опустился у полуразрушенной крепости, на...</td>\n",
       "      <td>полуразрушенной</td>\n",
       "      <td>1.0</td>\n",
       "      <td>[полуразрушиной, полуразрушеной, полурозрушенн...</td>\n",
       "      <td>5</td>\n",
       "    </tr>\n",
       "    <tr>\n",
       "      <th>3538</th>\n",
       "      <td>Там, посередине, на небольшом холмике, стоял п...</td>\n",
       "      <td>полуразрушенный</td>\n",
       "      <td>1.0</td>\n",
       "      <td>[полуразрушеный, полуразрушинный, полурозрушен...</td>\n",
       "      <td>5</td>\n",
       "    </tr>\n",
       "    <tr>\n",
       "      <th>12022</th>\n",
       "      <td>Подвал, оказывается, находился под большим пол...</td>\n",
       "      <td>полуразрушенным</td>\n",
       "      <td>1.0</td>\n",
       "      <td>[полуразрушиным, полурозрушенным, полурозрушен...</td>\n",
       "      <td>5</td>\n",
       "    </tr>\n",
       "    <tr>\n",
       "      <th>9149</th>\n",
       "      <td>Минут через десять они выехали на большой плац...</td>\n",
       "      <td>полуразрушенными</td>\n",
       "      <td>1.0</td>\n",
       "      <td>[полуразрушеными, полуразрушиными, полурозруше...</td>\n",
       "      <td>5</td>\n",
       "    </tr>\n",
       "    <tr>\n",
       "      <th>3834</th>\n",
       "      <td>Две руки трудились, две другие были предостере...</td>\n",
       "      <td>предостерегающе</td>\n",
       "      <td>1.0</td>\n",
       "      <td>[предостеригающе, предастерегающе, предостирег...</td>\n",
       "      <td>4</td>\n",
       "    </tr>\n",
       "    <tr>\n",
       "      <th>1388</th>\n",
       "      <td>Вокруг большой, с длинными, как спутанные воло...</td>\n",
       "      <td>протуберанцами</td>\n",
       "      <td>1.0</td>\n",
       "      <td>[протуберантцами, протубералнцами, протуберанд...</td>\n",
       "      <td>3</td>\n",
       "    </tr>\n",
       "    <tr>\n",
       "      <th>807</th>\n",
       "      <td>Так получилось, что я с детства люблю всяких ж...</td>\n",
       "      <td>радиоприемники</td>\n",
       "      <td>1.0</td>\n",
       "      <td>[радиопреемники, радеоприемники, родиоприемник...</td>\n",
       "      <td>4</td>\n",
       "    </tr>\n",
       "    <tr>\n",
       "      <th>9681</th>\n",
       "      <td>Тут из кухни выскочила шустрая симферопольская...</td>\n",
       "      <td>симферопольская</td>\n",
       "      <td>1.0</td>\n",
       "      <td>[семферопольская, симферопальская, симфирополь...</td>\n",
       "      <td>3</td>\n",
       "    </tr>\n",
       "    <tr>\n",
       "      <th>9761</th>\n",
       "      <td>На экране видеофона виднелось большеглазое тре...</td>\n",
       "      <td>симферопольской</td>\n",
       "      <td>1.0</td>\n",
       "      <td>[симфиропольской, семферопольской, симферопаль...</td>\n",
       "      <td>3</td>\n",
       "    </tr>\n",
       "    <tr>\n",
       "      <th>9706</th>\n",
       "      <td>Вы бы видели, какая радость охватила родных Ал...</td>\n",
       "      <td>симферопольскую</td>\n",
       "      <td>1.0</td>\n",
       "      <td>[симферопальскую, симфиропольскую, семферополь...</td>\n",
       "      <td>3</td>\n",
       "    </tr>\n",
       "    <tr>\n",
       "      <th>13826</th>\n",
       "      <td>— Он обернулся к столу, за которым уже сидел О...</td>\n",
       "      <td>скатерть-самобранка</td>\n",
       "      <td>1.0</td>\n",
       "      <td>[скатиртьсамобранка, скатерть самобранка, скат...</td>\n",
       "      <td>5</td>\n",
       "    </tr>\n",
       "    <tr>\n",
       "      <th>12404</th>\n",
       "      <td>Как-то богомол задумался, вышел на улицу и сто...</td>\n",
       "      <td>снегоуборочным</td>\n",
       "      <td>1.0</td>\n",
       "      <td>[снигоуборочным, снегауборочным, стнегоуборочным]</td>\n",
       "      <td>3</td>\n",
       "    </tr>\n",
       "    <tr>\n",
       "      <th>1953</th>\n",
       "      <td>Ведь им тоже соблазнительно испытать свою маши...</td>\n",
       "      <td>соблазнительно</td>\n",
       "      <td>1.0</td>\n",
       "      <td>[соблознительно, соблазнитильно, саблазднитель...</td>\n",
       "      <td>5</td>\n",
       "    </tr>\n",
       "    <tr>\n",
       "      <th>11221</th>\n",
       "      <td>— Досье на детей с неустойчивой психикой соста...</td>\n",
       "      <td>суперкомпьютером</td>\n",
       "      <td>1.0</td>\n",
       "      <td>[суперкомпьютиром, супиркомпьютером, суперкамп...</td>\n",
       "      <td>3</td>\n",
       "    </tr>\n",
       "    <tr>\n",
       "      <th>8555</th>\n",
       "      <td>Он был в скафандре, шлем откинут за спину, вид...</td>\n",
       "      <td>целеустремленный</td>\n",
       "      <td>1.0</td>\n",
       "      <td>[целиустремленный, цилеустремленный, цилеустре...</td>\n",
       "      <td>5</td>\n",
       "    </tr>\n",
       "    <tr>\n",
       "      <th>692</th>\n",
       "      <td>В яме было совсем темно, и только в неровном ч...</td>\n",
       "      <td>четырехугольнике</td>\n",
       "      <td>1.0</td>\n",
       "      <td>[читырехугольнике, четырехугальнике]</td>\n",
       "      <td>2</td>\n",
       "    </tr>\n",
       "    <tr>\n",
       "      <th>2493</th>\n",
       "      <td>Только наивные люди полагают, что день — это с...</td>\n",
       "      <td>четырехэтажного</td>\n",
       "      <td>1.0</td>\n",
       "      <td>[читырехэтажного, четырихэтажного]</td>\n",
       "      <td>2</td>\n",
       "    </tr>\n",
       "  </tbody>\n",
       "</table>\n",
       "</div>"
      ],
      "text/plain": [
       "                                                sentence           using_word  \\\n",
       "3091   — Здесь мастеров нет, разница между Ларисой и ...     непринципиальная   \n",
       "727    Из воды, метрах в двадцати от берега, черным у...      полузатопленной   \n",
       "768    На обратном пути заехали на полузатопленную ба...      полузатопленную   \n",
       "10699  Флаер опустился у полуразрушенной крепости, на...      полуразрушенной   \n",
       "3538   Там, посередине, на небольшом холмике, стоял п...      полуразрушенный   \n",
       "12022  Подвал, оказывается, находился под большим пол...      полуразрушенным   \n",
       "9149   Минут через десять они выехали на большой плац...     полуразрушенными   \n",
       "3834   Две руки трудились, две другие были предостере...      предостерегающе   \n",
       "1388   Вокруг большой, с длинными, как спутанные воло...       протуберанцами   \n",
       "807    Так получилось, что я с детства люблю всяких ж...       радиоприемники   \n",
       "9681   Тут из кухни выскочила шустрая симферопольская...      симферопольская   \n",
       "9761   На экране видеофона виднелось большеглазое тре...      симферопольской   \n",
       "9706   Вы бы видели, какая радость охватила родных Ал...      симферопольскую   \n",
       "13826  — Он обернулся к столу, за которым уже сидел О...  скатерть-самобранка   \n",
       "12404  Как-то богомол задумался, вышел на улицу и сто...       снегоуборочным   \n",
       "1953   Ведь им тоже соблазнительно испытать свою маши...       соблазнительно   \n",
       "11221  — Досье на детей с неустойчивой психикой соста...     суперкомпьютером   \n",
       "8555   Он был в скафандре, шлем откинут за спину, вид...     целеустремленный   \n",
       "692    В яме было совсем темно, и только в неровном ч...     четырехугольнике   \n",
       "2493   Только наивные люди полагают, что день — это с...      четырехэтажного   \n",
       "\n",
       "       word_difficulty                                        distortions  \\\n",
       "3091               1.0  [неприндципиальная, непринтципиальная, неприлн...   \n",
       "727                1.0                                   [полузатопленой]   \n",
       "768                1.0                                   [полузатопленую]   \n",
       "10699              1.0  [полуразрушиной, полуразрушеной, полурозрушенн...   \n",
       "3538               1.0  [полуразрушеный, полуразрушинный, полурозрушен...   \n",
       "12022              1.0  [полуразрушиным, полурозрушенным, полурозрушен...   \n",
       "9149               1.0  [полуразрушеными, полуразрушиными, полурозруше...   \n",
       "3834               1.0  [предостеригающе, предастерегающе, предостирег...   \n",
       "1388               1.0  [протуберантцами, протубералнцами, протуберанд...   \n",
       "807                1.0  [радиопреемники, радеоприемники, родиоприемник...   \n",
       "9681               1.0  [семферопольская, симферопальская, симфирополь...   \n",
       "9761               1.0  [симфиропольской, семферопольской, симферопаль...   \n",
       "9706               1.0  [симферопальскую, симфиропольскую, семферополь...   \n",
       "13826              1.0  [скатиртьсамобранка, скатерть самобранка, скат...   \n",
       "12404              1.0  [снигоуборочным, снегауборочным, стнегоуборочным]   \n",
       "1953               1.0  [соблознительно, соблазнитильно, саблазднитель...   \n",
       "11221              1.0  [суперкомпьютиром, супиркомпьютером, суперкамп...   \n",
       "8555               1.0  [целиустремленный, цилеустремленный, цилеустре...   \n",
       "692                1.0               [читырехугольнике, четырехугальнике]   \n",
       "2493               1.0                 [читырехэтажного, четырихэтажного]   \n",
       "\n",
       "      distortions_amount  \n",
       "3091                   3  \n",
       "727                    1  \n",
       "768                    1  \n",
       "10699                  5  \n",
       "3538                   5  \n",
       "12022                  5  \n",
       "9149                   5  \n",
       "3834                   4  \n",
       "1388                   3  \n",
       "807                    4  \n",
       "9681                   3  \n",
       "9761                   3  \n",
       "9706                   3  \n",
       "13826                  5  \n",
       "12404                  3  \n",
       "1953                   5  \n",
       "11221                  3  \n",
       "8555                   5  \n",
       "692                    2  \n",
       "2493                   2  "
      ]
     },
     "execution_count": 18,
     "metadata": {},
     "output_type": "execute_result"
    }
   ],
   "source": [
    "alisa_selezneva_df.sort_values(by=['word_difficulty', 'using_word']).tail(20)"
   ]
  },
  {
   "cell_type": "markdown",
   "id": "varied-railway",
   "metadata": {},
   "source": [
    "Всего отобралось 14759 предложений с таким распределением сложности выбранного слова:"
   ]
  },
  {
   "cell_type": "code",
   "execution_count": 19,
   "id": "ranging-photographer",
   "metadata": {},
   "outputs": [
    {
     "data": {
      "image/png": "[encoded data removed]",
      "text/plain": [
       "<Figure size 576x288 with 1 Axes>"
      ]
     },
     "metadata": {
      "needs_background": "light"
     },
     "output_type": "display_data"
    }
   ],
   "source": [
    "fig, ax = plt.subplots(figsize=(8, 4))\n",
    "\n",
    "sns.distplot(x=alisa_selezneva_df['word_difficulty'], label='1')\n",
    "\n",
    "ax.set_title('График распределения сложности выбранных слов')\n",
    "ax.set_ylabel('Плотность распределения')\n",
    "ax.set_xlabel('Сложность слова')\n",
    "\n",
    "plt.xlim(0.5, 1)\n",
    "plt.show()"
   ]
  },
  {
   "cell_type": "code",
   "execution_count": 20,
   "id": "reflected-blocking",
   "metadata": {},
   "outputs": [
    {
     "name": "stdout",
     "output_type": "stream",
     "text": [
      "Всего слов: 14759\n",
      "Слов без искажений: 0\n",
      "Слов с искажениями: 14759\n"
     ]
    },
    {
     "data": {
      "image/png": "[encoded data removed]",
      "text/plain": [
       "<Figure size 576x288 with 1 Axes>"
      ]
     },
     "metadata": {
      "needs_background": "light"
     },
     "output_type": "display_data"
    }
   ],
   "source": [
    "countplot_distortions_df(alisa_selezneva_df)"
   ]
  }
 ],
 "metadata": {
  "kernelspec": {
   "display_name": "Python 3",
   "language": "python",
   "name": "python3"
  },
  "language_info": {
   "codemirror_mode": {
    "name": "ipython",
    "version": 3
   },
   "file_extension": ".py",
   "mimetype": "text/x-python",
   "name": "python",
   "nbconvert_exporter": "python",
   "pygments_lexer": "ipython3",
   "version": "3.8.8"
  }
 },
 "nbformat": 4,
 "nbformat_minor": 5
}
