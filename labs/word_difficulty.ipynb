{
 "cells": [
  {
   "cell_type": "markdown",
   "metadata": {
    "id": "zv1icSoIXe_Z"
   },
   "source": [
    "# Реализация функции определения сложности слова (Гареева)"
   ]
  },
  {
   "cell_type": "markdown",
   "metadata": {},
   "source": [
    "Для определения сложности слова напишем функцию, которая будет принимать на вход строку-слово и возвращать значение каждого параметра сложности от 0 до 1, где 0 - очень простое слово, 1 - очень сложное, и их среднюю сложность.\n",
    "\n",
    "Для этого напишем отдельно функции определения сложности каждого параметра, которые будут возвращать значение от 0 до 1."
   ]
  },
  {
   "cell_type": "code",
   "execution_count": 1,
   "metadata": {},
   "outputs": [],
   "source": [
    "import os\n",
    "import shutil\n",
    "import io\n",
    "import zipfile\n",
    "import requests\n",
    "import string\n",
    "import pandas as pd\n",
    "import numpy as np\n",
    "from typing import Optional, List\n",
    "import matplotlib.pyplot as plt\n",
    "import seaborn as sns\n",
    "from tqdm import tqdm\n",
    "import re\n",
    "from bs4 import BeautifulSoup\n",
    "import warnings\n",
    "\n",
    "warnings.filterwarnings('ignore')"
   ]
  },
  {
   "cell_type": "markdown",
   "metadata": {},
   "source": [
    "### Приведение слова к нужному формату"
   ]
  },
  {
   "cell_type": "markdown",
   "metadata": {},
   "source": [
    "Многие библиотеки, работающие со словами, и датасеты со словами, используют только определенные форматы: строчные буквы, нет лишних пробелов, нормальная форма. Нужно уметь преобразовывать любое слово к такому формату - для этого напишем функцию преобразования к читаемому виду и функцию, получающую нормальную форму слова и её часть речи.\n",
    "\n",
    "Для приведения слова к нормальной форме будем использовать библиотеку **pymorphy2** (https://pymorphy2.readthedocs.io/en/stable/index.html), которая может привести к нормальной форме даже несуществующее слово."
   ]
  },
  {
   "cell_type": "code",
   "execution_count": 2,
   "metadata": {},
   "outputs": [],
   "source": [
    "# %pip install pymorphy2"
   ]
  },
  {
   "cell_type": "code",
   "execution_count": 3,
   "metadata": {},
   "outputs": [],
   "source": [
    "import pymorphy2\n",
    "morph = pymorphy2.MorphAnalyzer()\n",
    "\n",
    "def transform_word(word: str) -> tuple:\n",
    "    delete_symbols = set(string.punctuation) - set('-') | set('«»…')\n",
    "    word = ''.join([w for w in word.replace(' ', '') if w not in delete_symbols])\n",
    "    word = re.sub('[a-zA-Z]|\\d', '', word)\n",
    "    is_capitalized = word[0].isupper() if word else False\n",
    "    return word.lower(), is_capitalized\n",
    "\n",
    "def get_word_info(word: str) -> tuple: \n",
    "    morph_parse = morph.parse(word)[0]\n",
    "    return word, morph_parse.normal_form, morph_parse.tag.POS "
   ]
  },
  {
   "cell_type": "markdown",
   "metadata": {},
   "source": [
    "Протестируем"
   ]
  },
  {
   "cell_type": "code",
   "execution_count": 4,
   "metadata": {},
   "outputs": [
    {
     "name": "stdout",
     "output_type": "stream",
     "text": [
      "('танцующая', False)\n",
      "('что-нибудь', True)\n",
      "('танцующая', 'танцующий', 'ADJF')\n",
      "('что-нибудь', 'что-нибудь', 'NPRO')\n"
     ]
    }
   ],
   "source": [
    "print(transform_word(word='танцующая'))\n",
    "print(transform_word(word='  \"ЧтО-НибУ1д Ь\" '))\n",
    "\n",
    "print(get_word_info(word=transform_word(word='танцующая')[0]))\n",
    "print(get_word_info(word=transform_word(word='  \"ЧтО-НибУ1д Ь\" ')[0]))"
   ]
  },
  {
   "cell_type": "markdown",
   "metadata": {},
   "source": [
    "### Датасеты"
   ]
  },
  {
   "cell_type": "markdown",
   "metadata": {},
   "source": [
    "Для работы с частотностью слов, скачаем открытый датасет (52138 слов) с большим количеством лемм (нормальных форм слова) с их частотностью (**Freq(ipm)**), приведем леммы к строчным буквам и оставим только нужные нам параметры (**Lemma, Freq(ipm)**), добавив параметр длины слова (**length**).\n",
    "\n",
    "О. Н. Ляшевская, С. А. Шаров НОВЫЙ ЧАСТОТНЫЙ СЛОВАРЬ РУССКОЙ ЛЕКСИКИ (http://dict.ruslang.ru/freq.php)"
   ]
  },
  {
   "cell_type": "code",
   "execution_count": 5,
   "metadata": {},
   "outputs": [],
   "source": [
    "def save_zip_csv(url: str, dirname: str, new_filename: str) -> None:\n",
    "    fullname = os.path.join(dirname, new_filename)\n",
    "    \n",
    "    if not os.path.exists(fullname):\n",
    "        r = requests.get(url)\n",
    "        with r, zipfile.ZipFile(io.BytesIO(r.content)) as archive:\n",
    "            archive.extractall(dirname)\n",
    "    return fullname"
   ]
  },
  {
   "cell_type": "code",
   "execution_count": 6,
   "metadata": {
    "colab": {
     "base_uri": "https://localhost:8080/",
     "height": 206
    },
    "id": "iCni6fgPXev-",
    "outputId": "96fb7bf8-701f-488d-8168-f326a603278e"
   },
   "outputs": [
    {
     "name": "stdout",
     "output_type": "stream",
     "text": [
      "<class 'pandas.core.frame.DataFrame'>\n",
      "Index: 51682 entries, а to ящур\n",
      "Data columns (total 2 columns):\n",
      " #   Column     Non-Null Count  Dtype  \n",
      "---  ------     --------------  -----  \n",
      " 0   Freq(ipm)  51682 non-null  float64\n",
      " 1   length     51682 non-null  int64  \n",
      "dtypes: float64(1), int64(1)\n",
      "memory usage: 1.2+ MB\n"
     ]
    },
    {
     "data": {
      "text/html": [
       "<div>\n",
       "<style scoped>\n",
       "    .dataframe tbody tr th:only-of-type {\n",
       "        vertical-align: middle;\n",
       "    }\n",
       "\n",
       "    .dataframe tbody tr th {\n",
       "        vertical-align: top;\n",
       "    }\n",
       "\n",
       "    .dataframe thead th {\n",
       "        text-align: right;\n",
       "    }\n",
       "</style>\n",
       "<table border=\"1\" class=\"dataframe\">\n",
       "  <thead>\n",
       "    <tr style=\"text-align: right;\">\n",
       "      <th></th>\n",
       "      <th>Freq(ipm)</th>\n",
       "      <th>length</th>\n",
       "    </tr>\n",
       "    <tr>\n",
       "      <th>Lemma</th>\n",
       "      <th></th>\n",
       "      <th></th>\n",
       "    </tr>\n",
       "  </thead>\n",
       "  <tbody>\n",
       "    <tr>\n",
       "      <th>ненавидеть</th>\n",
       "      <td>44.1</td>\n",
       "      <td>10</td>\n",
       "    </tr>\n",
       "    <tr>\n",
       "      <th>человечность</th>\n",
       "      <td>4.4</td>\n",
       "      <td>12</td>\n",
       "    </tr>\n",
       "    <tr>\n",
       "      <th>спровадить</th>\n",
       "      <td>1.1</td>\n",
       "      <td>10</td>\n",
       "    </tr>\n",
       "    <tr>\n",
       "      <th>поднапрячься</th>\n",
       "      <td>0.4</td>\n",
       "      <td>12</td>\n",
       "    </tr>\n",
       "    <tr>\n",
       "      <th>химичка</th>\n",
       "      <td>0.4</td>\n",
       "      <td>7</td>\n",
       "    </tr>\n",
       "  </tbody>\n",
       "</table>\n",
       "</div>"
      ],
      "text/plain": [
       "              Freq(ipm)  length\n",
       "Lemma                          \n",
       "ненавидеть         44.1      10\n",
       "человечность        4.4      12\n",
       "спровадить          1.1      10\n",
       "поднапрячься        0.4      12\n",
       "химичка             0.4       7"
      ]
     },
     "execution_count": 6,
     "metadata": {},
     "output_type": "execute_result"
    }
   ],
   "source": [
    "fullname = save_zip_csv(url='http://dict.ruslang.ru/Freq2011.zip',\n",
    "                        dirname='datasets/freq',\n",
    "                        new_filename='freqrnc2011.csv')\n",
    "\n",
    "freq_df = pd.read_csv(fullname, sep='\\t')[['Lemma', 'Freq(ipm)']]\n",
    "freq_df['Lemma'] = freq_df['Lemma'].str.lower()\n",
    "freq_df['length'] = freq_df['Lemma'].str.len()\n",
    "freq_df = freq_df.drop_duplicates(subset=['Lemma'])\n",
    "freq_df = freq_df.set_index('Lemma')\n",
    "\n",
    "freq_df.info()\n",
    "freq_df.sample(5)"
   ]
  },
  {
   "cell_type": "markdown",
   "metadata": {},
   "source": [
    "Для работы с морфемами слов, скачаем открытый датасет (103526 слов) с большим количеством лемм (нормальных форм слова) с их морфологическим разбором, приведем леммы к строчным буквам и оставим только их с нужным нам разбором слова по составу (**Lemma, analysis**), добавив количество морфем (**count_morph**). \n",
    "\n",
    "А.Н. Тихонов. Словообразовательный словарь русского языка в двух томах. (http://speakrus.ru/dict2/index.htm)"
   ]
  },
  {
   "cell_type": "code",
   "execution_count": 7,
   "metadata": {},
   "outputs": [],
   "source": [
    "def save_zip_txt(url: str, dirname: str, new_filename: str) -> None:\n",
    "    fullname = os.path.join(dirname, new_filename)\n",
    "    \n",
    "    if not os.path.exists(fullname):\n",
    "        shutil.rmtree(dirname, ignore_errors=True)\n",
    "\n",
    "        r = requests.get(url)\n",
    "        with r, zipfile.ZipFile(io.BytesIO(r.content)) as archive:\n",
    "            archive.extractall(dirname)\n",
    "\n",
    "        for filename in os.listdir(dirname):\n",
    "            if filename.endswith('.txt'):\n",
    "                with open(os.path.join(dirname, filename), 'rb') as f:\n",
    "                    text = f.read().decode('cp1251')\n",
    "                    with open(fullname, 'wb') as ru:\n",
    "                        ru.write(text.encode('utf-8'))\n",
    "    return fullname"
   ]
  },
  {
   "cell_type": "code",
   "execution_count": 8,
   "metadata": {
    "scrolled": false
   },
   "outputs": [
    {
     "name": "stdout",
     "output_type": "stream",
     "text": [
      "<class 'pandas.core.frame.DataFrame'>\n",
      "Index: 101103 entries, -ка to ящурный\n",
      "Data columns (total 2 columns):\n",
      " #   Column       Non-Null Count   Dtype \n",
      "---  ------       --------------   ----- \n",
      " 0   analysis     101103 non-null  object\n",
      " 1   count_morph  101103 non-null  int64 \n",
      "dtypes: int64(1), object(1)\n",
      "memory usage: 2.3+ MB\n"
     ]
    },
    {
     "data": {
      "text/html": [
       "<div>\n",
       "<style scoped>\n",
       "    .dataframe tbody tr th:only-of-type {\n",
       "        vertical-align: middle;\n",
       "    }\n",
       "\n",
       "    .dataframe tbody tr th {\n",
       "        vertical-align: top;\n",
       "    }\n",
       "\n",
       "    .dataframe thead th {\n",
       "        text-align: right;\n",
       "    }\n",
       "</style>\n",
       "<table border=\"1\" class=\"dataframe\">\n",
       "  <thead>\n",
       "    <tr style=\"text-align: right;\">\n",
       "      <th></th>\n",
       "      <th>analysis</th>\n",
       "      <th>count_morph</th>\n",
       "    </tr>\n",
       "    <tr>\n",
       "      <th>Lemma</th>\n",
       "      <th></th>\n",
       "      <th></th>\n",
       "    </tr>\n",
       "  </thead>\n",
       "  <tbody>\n",
       "    <tr>\n",
       "      <th>шпунтина</th>\n",
       "      <td>шпунт/и'н/а</td>\n",
       "      <td>3</td>\n",
       "    </tr>\n",
       "    <tr>\n",
       "      <th>склеиться</th>\n",
       "      <td>с/кле'/и/ть/ся</td>\n",
       "      <td>5</td>\n",
       "    </tr>\n",
       "    <tr>\n",
       "      <th>ссаженный</th>\n",
       "      <td>с/са'ж/енн/ый</td>\n",
       "      <td>4</td>\n",
       "    </tr>\n",
       "    <tr>\n",
       "      <th>ловиться</th>\n",
       "      <td>лов/и'/ть/ся</td>\n",
       "      <td>4</td>\n",
       "    </tr>\n",
       "    <tr>\n",
       "      <th>поэтизация</th>\n",
       "      <td>поэт/из/а'ци/я</td>\n",
       "      <td>4</td>\n",
       "    </tr>\n",
       "  </tbody>\n",
       "</table>\n",
       "</div>"
      ],
      "text/plain": [
       "                  analysis  count_morph\n",
       "Lemma                                  \n",
       "шпунтина       шпунт/и'н/а            3\n",
       "склеиться   с/кле'/и/ть/ся            5\n",
       "ссаженный    с/са'ж/енн/ый            4\n",
       "ловиться      лов/и'/ть/ся            4\n",
       "поэтизация  поэт/из/а'ци/я            4"
      ]
     },
     "execution_count": 8,
     "metadata": {},
     "output_type": "execute_result"
    }
   ],
   "source": [
    "fullname = save_zip_txt(url='http://www.speakrus.ru/dict2/tikhonov.zip',\n",
    "                        dirname='datasets/tikhonov',\n",
    "                        new_filename='tikhonov.txt')\n",
    "        \n",
    "morph_df = pd.read_csv(fullname, sep='|', names=['Lemma', 'analysis'])\n",
    "morph_df['Lemma'] = morph_df['Lemma'].str.replace('\\d+', '').str.split().str[0].str.lower()\n",
    "morph_df['analysis'] = morph_df['analysis'].str.replace('\\d+', '').str.split(pat=',', n=1).str[0].str.split().str[0]\n",
    "morph_df['count_morph'] = morph_df['analysis'].str.count(pat='/') + 1\n",
    "morph_df = morph_df.drop_duplicates(subset=['Lemma'])\n",
    "morph_df = morph_df.set_index('Lemma')\n",
    "\n",
    "morph_df.info()\n",
    "morph_df.sample(5)"
   ]
  },
  {
   "cell_type": "markdown",
   "metadata": {},
   "source": [
    "### Фонетическая транскрипция"
   ]
  },
  {
   "cell_type": "markdown",
   "metadata": {},
   "source": [
    "Напишем функцию определения сложности параметра соотношения фонетической и графической сложности. (Чем сильнее несоотношение, тем больше параметр сложности.) \n",
    "\n",
    "Для этого напишем функцию создания транскрипции, пренебрегая обозначениями мягкости (они не влияют на неочевидность написания) и ударениями (будем считать, что любая гласная безударная), используя известные правила русского языка из открытых источников. (https://tutrus.com/fonetika/foneticheskiy-razbor-nachalnaya-shkola) Если буква имеет нетривиальную фонетическую запись или беззвучна, будем добавлять ей очко несовпадения. "
   ]
  },
  {
   "cell_type": "code",
   "execution_count": 9,
   "metadata": {},
   "outputs": [],
   "source": [
    "vowels = set('аяоёуюыиэе')\n",
    "consonants = set('бвгджзйклмнпрстфхцчшщ')\n",
    "marks = set('ъь')\n",
    "\n",
    "deaf_consonants = set('пфктшсхцчщ')\n",
    "voices_consonants = set('лмнрйбвгджз')\n",
    "\n",
    "ioted_vowels = { \n",
    "    'я' : {'one': 'а', 'two': 'йа'},\n",
    "    'ё' : {'one': 'о', 'two': 'йо'},\n",
    "    'ю' : {'one': 'у', 'two': 'йу'},\n",
    "    'е' : {'one': 'э', 'two': 'йэ'},\n",
    "}\n",
    "\n",
    "stress_vowels = {\n",
    "    'о': {'stress': 'о', 'not_stress': 'a'},\n",
    "    'е': {'stress': 'э', 'not_stress': 'и'},\n",
    "    'я': {'stress': 'а', 'not_stress': 'и'},\n",
    "}\n",
    "\n",
    "deaf_pairs = {\n",
    "    'б': 'п',\n",
    "    'в': 'ф',\n",
    "    'г': 'к',\n",
    "    'д': 'т',\n",
    "    'ж': 'ш',\n",
    "    'з': 'с'\n",
    "}\n",
    "\n",
    "simple_groups = { #abc -> ac\n",
    "    'с' : {'т': set('нл')}, # стн, стл \n",
    "    'н' : {'д': set('шц'), 'т': 'г'}, # ндш, ндц, нтг\n",
    "    'з' : {'д': set('нц')}, # здн, здц\n",
    "    'р' : {'д': set('цч')} # рдц, рдч \n",
    "}\n",
    "\n",
    "sh_groups = { # ab -> шb\n",
    "    'ч' : set('нт') # чн, чт\n",
    "}\n",
    "\n",
    "sch_groups = { # ab -> щ\n",
    "    'с' : 'ч', # сч\n",
    "    'з' : 'ч', # зч\n",
    "    'ж' : 'ч', # жч\n",
    "}\n",
    "\n",
    "def get_transcription(word: str) -> tuple:\n",
    "    diff = [0] * len(word)\n",
    "    transcription = ['!'] * len(word)\n",
    "    for i in range(len(word)):\n",
    "        c = word[i]\n",
    "        before_c = word[i - 1] if i > 0 else None\n",
    "        after_c = word[i + 1] if i < len(word) - 1 else None\n",
    "        after_after_c = word[i + 2] if i < len(word) - 2 else None\n",
    "        if c in vowels:\n",
    "            transcription[i] = c\n",
    "            diff[i] = 0\n",
    "            if c in ioted_vowels:\n",
    "                if i == 0 or before_c in vowels or before_c in marks:\n",
    "                    transcription[i] = ioted_vowels[c]['two']\n",
    "                    diff[i] = 2\n",
    "                else:\n",
    "                    transcription[i] = ioted_vowels[c]['one']\n",
    "                    diff[i] = 1\n",
    "            elif c == 'и':\n",
    "                if before_c == 'ь':\n",
    "                    transcription[i] = 'йи'\n",
    "                    diff[i] = 2\n",
    "                elif before_c in set('жшц'):\n",
    "                    transcription[i] = 'ы'\n",
    "                    diff[i] = 1\n",
    "                else:\n",
    "                    transcription[i] = 'и'\n",
    "                    diff[i] = 0\n",
    "            elif c in stress_vowels:\n",
    "                transcription[i] = stress_vowels[c]['not_stress']\n",
    "                diff[i] = 1\n",
    "        elif c in consonants:\n",
    "            transcription[i] = c\n",
    "            diff[i] = 0\n",
    "            if c in deaf_pairs:\n",
    "                if i == len(word) - 1 or after_c in deaf_consonants:\n",
    "                    transcription[i] = deaf_pairs[c]\n",
    "                    diff[i] = 1\n",
    "            if before_c and after_c and\\\n",
    "                before_c in simple_groups and\\\n",
    "                c in simple_groups[before_c] and\\\n",
    "                after_c in simple_groups[before_c][c]:\n",
    "                transcription[i] = ''\n",
    "                diff[i] = 1\n",
    "            if before_c in sh_groups and c in sh_groups[before_c]:\n",
    "                transcription[i - 1] = 'ш'\n",
    "                diff[i - 1] = 1\n",
    "            if before_c in sch_groups and c in sch_groups[before_c]:\n",
    "                transcription[i - 1] = 'щ'\n",
    "                diff[i - 1] = 1\n",
    "                transcription[i] = ''\n",
    "                diff[i] = 1\n",
    "            if before_c == 'л' and c == 'н' and after_c == 'ц':\n",
    "                transcription[i - 1] = ''\n",
    "                diff[i - 1] = 1\n",
    "            if before_c == 'в' and c == 'с' and after_c == 'т' and after_after_c == 'в':\n",
    "                transcription[i - 1] = ''\n",
    "                diff[i - 1] = 1\n",
    "            if i == 0 and c == 'с' and after_c in voices_consonants:\n",
    "                transcription[i] = 'з'\n",
    "                diff[i] = 1\n",
    "            if c == 'г' and after_c in deaf_consonants:\n",
    "                transcription[i] = 'x'\n",
    "                diff[i] = 1\n",
    "            if before_c == c:\n",
    "                transcription[i] = ''\n",
    "                diff[i] = 1\n",
    "        else:\n",
    "            transcription[i] = ''\n",
    "            diff[i] = 1\n",
    "    if word.endswith(('ого', 'его')):\n",
    "        transcription[-2] = 'в'\n",
    "        diff[-2] = 1\n",
    "    if word.endswith('тся'):\n",
    "        transcription[-3] = 'ц'\n",
    "        diff[-3] = 1\n",
    "        transcription[-2] = ''\n",
    "        diff[-2] = 1\n",
    "    if word.endswith('ться'):\n",
    "        transcription[-4] = 'ц'\n",
    "        diff[-4] = 1\n",
    "        transcription[-3] = ''\n",
    "        diff[-3] = 1\n",
    "        transcription[-2] = ''\n",
    "        diff[-2] = 1\n",
    "    return sum(diff), diff, transcription"
   ]
  },
  {
   "cell_type": "markdown",
   "metadata": {},
   "source": [
    "Протестируем"
   ]
  },
  {
   "cell_type": "code",
   "execution_count": 10,
   "metadata": {},
   "outputs": [
    {
     "name": "stdout",
     "output_type": "stream",
     "text": [
      "(3, [0, 1, 2, 0], ['п', 'a', 'йо', 'т']) [пай’от]\n",
      "(3, [0, 1, 2], ['ч', '', 'йи']) [ч’й’и]\n",
      "(3, [0, 0, 0, 1, 2], ['л', 'и', 'с', '', 'йи']) [лис’й’и]\n",
      "(1, [0, 0, 0, 1], ['г', 'р', 'и', 'п']) [гр’ип]\n",
      "(3, [0, 1, 1, 0, 0, 1], ['с', 'a', '', 'н', 'ц', 'э']) [сОнцэ]\n",
      "(1, [0, 0, 0, 1, 0], ['в', 'а', 'н', '', 'а']) [ван:а]\n",
      "(4, [0, 1, 0, 1, 1, 0, 1], ['к', 'a', 'н', 'э', 'ш', 'н', 'a']) [кан‘эшна]\n",
      "(3, [1, 1, 0, 0, 1, 0, 0, 0, 0, 0], ['щ', '', 'а', 'с', '', 'л', 'и', 'в', 'ы', 'й']) [щ‘асливый‘]\n",
      "(4, [0, 1, 0, 1, 1, 1], ['б', 'э', 'л', 'a', 'в', 'a']) [б’Элава]\n",
      "(4, [0, 0, 0, 1, 1, 1, 1], ['б', 'р', 'и', 'ц', '', '', 'а']) [бр’иц:а]\n"
     ]
    }
   ],
   "source": [
    "print(get_transcription(word='поёт'), '[пай’от]')\n",
    "print(get_transcription(word='чьи'), '[ч’й’и]')\n",
    "print(get_transcription(word='лисьи'), '[лис’й’и]')\n",
    "print(get_transcription(word='гриб'), '[гр’ип]')\n",
    "print(get_transcription(word='солнце'), '[сОнцэ]')\n",
    "print(get_transcription(word='ванна'), '[ван:а]')\n",
    "print(get_transcription(word='конечно'), '[кан‘эшна]')\n",
    "print(get_transcription(word='счастливый'), '[щ‘асливый‘]')\n",
    "print(get_transcription(word='белого'), '[б’Элава]')\n",
    "print(get_transcription(word='бриться'), '[бр’иц:а]')"
   ]
  },
  {
   "cell_type": "markdown",
   "metadata": {},
   "source": [
    "Функция получает транскрипции, которые могут расходиться с корректным результатом (например, из-за того, что мы не учитываем ударение), но достаточно хорошо определяет количество несовпадений.\n",
    "\n",
    "На основе датасета с частотами рассмотрим сложности транскрипции слова. Нарисуем столбчатую диаграмму вероятности каждого количества несовпадений транскрипции слова (считаем количество слов каждого количества несовпадений и делим на общее количество слов) и функцию её распределения."
   ]
  },
  {
   "cell_type": "code",
   "execution_count": 11,
   "metadata": {},
   "outputs": [
    {
     "data": {
      "image/png": "[encoded data removed]",
      "text/plain": [
       "<Figure size 1440x360 with 2 Axes>"
      ]
     },
     "metadata": {
      "needs_background": "light"
     },
     "output_type": "display_data"
    }
   ],
   "source": [
    "fig, ax = plt.subplots(figsize=(20, 5))\n",
    "ax2 = ax.twinx()\n",
    "\n",
    "df = freq_df.index.map(lambda word: get_transcription(word)[0])\n",
    "sns.barplot(x=df, y=df, estimator=lambda x: len(x) / len(df))\n",
    "sns.ecdfplot(x=df)\n",
    "ax.vlines(0, ymin=0, ymax=1, color='r', linestyle = '--')\n",
    "ax.vlines(5, ymin=0, ymax=1, color='r', linestyle = '--')\n",
    "\n",
    "ax.set_title('График распределения количества несовпадения транскрипции слова')\n",
    "ax.set_ylabel('Вероятность количества слов')\n",
    "ax2.set_ylabel('Распределение количества слов')\n",
    "ax.set_xlabel('Количество несовпадений фонетической транскрипции')\n",
    "plt.show()"
   ]
  },
  {
   "cell_type": "markdown",
   "metadata": {},
   "source": [
    "Методом экспертной оценки заметим, что мы можем выделить среднее фонетическое несовпадение в значении 2, а слова с несовпадением больше 5 очень мало.\n",
    "\n",
    "Нормализуем количество несовпадений от 0 до 1 по методу минимакс так, чтобы значение 0.5 соотносилось со средним значением. Для этого за минимум возьмем значение 0, за максимум 5.\n",
    "\n",
    "На вход будем принимать любую форму слова (не будем приводить к лемме), так как окончания могут иметь сложное произношение."
   ]
  },
  {
   "cell_type": "code",
   "execution_count": 12,
   "metadata": {},
   "outputs": [],
   "source": [
    "MIN_PHONEME = 0\n",
    "MAX_PHONEME = 5\n",
    "\n",
    "def word_phoneme_param(word: str) -> float:\n",
    "    diff, _, _= get_transcription(word)\n",
    "    normalize_phoneme = (diff - MIN_PHONEME) / (MAX_PHONEME - MIN_PHONEME)\n",
    "    return max(0, min(normalize_phoneme, 1))"
   ]
  },
  {
   "cell_type": "markdown",
   "metadata": {},
   "source": [
    "Протестируем"
   ]
  },
  {
   "cell_type": "code",
   "execution_count": 13,
   "metadata": {},
   "outputs": [
    {
     "name": "stdout",
     "output_type": "stream",
     "text": [
      "0\n",
      "0.4\n",
      "0.6\n",
      "1.0\n"
     ]
    }
   ],
   "source": [
    "print(word_phoneme_param(word='маги'))\n",
    "print(word_phoneme_param(word='я'))\n",
    "print(word_phoneme_param(word='поёт'))\n",
    "print(word_phoneme_param(word='абсолютность'))"
   ]
  },
  {
   "cell_type": "markdown",
   "metadata": {
    "id": "M41Q3Jo4qIwF"
   },
   "source": [
    "### Длина слова"
   ]
  },
  {
   "cell_type": "markdown",
   "metadata": {},
   "source": [
    "Напишем функцию определения сложности параметра длины слова. (Чем длиннее слово, тем больше должен быть параметр сложности слова по длине.) Для этого сделаем преданализ данных из вышеупомянутого датасета.\n",
    "\n",
    "Нарисуем столбчатую диаграмму вероятности каждой длины слова (считаем количество слов каждой длины и делим на общее количество слов) и функцию её распределения."
   ]
  },
  {
   "cell_type": "code",
   "execution_count": 14,
   "metadata": {},
   "outputs": [
    {
     "data": {
      "image/png": "[encoded data removed]",
      "text/plain": [
       "<Figure size 1440x360 with 2 Axes>"
      ]
     },
     "metadata": {
      "needs_background": "light"
     },
     "output_type": "display_data"
    }
   ],
   "source": [
    "fig, ax = plt.subplots(figsize=(20, 5))\n",
    "ax2 = ax.twinx()\n",
    "\n",
    "df = freq_df['length']\n",
    "df = df.append(pd.Series([0]))\n",
    "\n",
    "sns.barplot(x=df, y=df, estimator=lambda x: len(x) / len(df))\n",
    "sns.ecdfplot(x=df)\n",
    "ax.vlines(4, ymin=0, ymax=1, color='r', linestyle = '--')\n",
    "ax.vlines(14, ymin=0, ymax=1, color='r', linestyle = '--')\n",
    "\n",
    "ax.set_title('График распределения длин слова')\n",
    "ax.set_ylabel('Вероятность количества слов')\n",
    "ax2.set_ylabel('Распределение количества слов')\n",
    "ax.set_xlabel('Длина слова')\n",
    "plt.show()"
   ]
  },
  {
   "cell_type": "markdown",
   "metadata": {},
   "source": [
    "Методом экспертной оценки заметим, что мы можем выделить среднюю длину в значении 8-9, а слов короче 4 и длинее 14 очень мало.\n",
    "\n",
    "Нормализуем длину от 0 до 1 по методу минимакс так, чтобы значение 0.5 соотносилось со средним значением. Для этого за минимум возьмем значение 4, за максимум 14.\n",
    "\n",
    "На вход будем принимать любую форму слова (не будем приводить к лемме), так как слова удлиняемые сложными окончаниями, можно считать сложнее."
   ]
  },
  {
   "cell_type": "code",
   "execution_count": 15,
   "metadata": {
    "id": "5U0SMw-vXenP"
   },
   "outputs": [],
   "source": [
    "MIN_LENGTH = 4\n",
    "MAX_LENGTH = 14\n",
    "\n",
    "def word_length_param(word: str) -> float:\n",
    "    normalize_length = (len(word) - MIN_LENGTH) / (MAX_LENGTH - MIN_LENGTH)\n",
    "    return max(0, min(normalize_length, 1))"
   ]
  },
  {
   "cell_type": "markdown",
   "metadata": {},
   "source": [
    "Протестируем"
   ]
  },
  {
   "cell_type": "code",
   "execution_count": 16,
   "metadata": {
    "colab": {
     "base_uri": "https://localhost:8080/"
    },
    "id": "KUF66SsUhqg6",
    "outputId": "f8bf0787-cb2d-4ba5-b2a4-cd7de80dddc4"
   },
   "outputs": [
    {
     "name": "stdout",
     "output_type": "stream",
     "text": [
      "0\n",
      "0.1\n",
      "0.5\n",
      "1.0\n",
      "1\n"
     ]
    }
   ],
   "source": [
    "print(word_length_param(word='a'))\n",
    "print(word_length_param(word='aaaaa'))\n",
    "print(word_length_param(word='aaaaaaaaa'))\n",
    "print(word_length_param(word='aaaaaaaaaaaaaa'))\n",
    "print(word_length_param(word='aaaaaaaaaaaaaaaaaaaa'))"
   ]
  },
  {
   "cell_type": "markdown",
   "metadata": {
    "id": "WvmmOIV06ncM"
   },
   "source": [
    "### Частотность слова"
   ]
  },
  {
   "cell_type": "markdown",
   "metadata": {},
   "source": [
    "Напишем функцию определения сложности параметра частотности слова. (Чем больше частота использования слово, тем меньше должен быть параметр сложности слова по частотности.) Для этого сделаем преданализ данных из вышеупомянутого датасета."
   ]
  },
  {
   "cell_type": "markdown",
   "metadata": {},
   "source": [
    "Найдем минимальную и максимальную логарифмическую частотность слов."
   ]
  },
  {
   "cell_type": "code",
   "execution_count": 17,
   "metadata": {
    "colab": {
     "base_uri": "https://localhost:8080/"
    },
    "id": "KH6xZ-wkpXNJ",
    "outputId": "ba1ef9a7-0111-48df-db92-e2ac7ea819bc"
   },
   "outputs": [
    {
     "name": "stdout",
     "output_type": "stream",
     "text": [
      "Минимальная частотность (log1p): 0.33647223662121295\n",
      "Максимальная частотность (log1p): 10.485781381620873\n"
     ]
    }
   ],
   "source": [
    "print('Минимальная частотность (log1p):', np.log1p(freq_df['Freq(ipm)'].min()))\n",
    "print('Максимальная частотность (log1p):', np.log1p(freq_df['Freq(ipm)'].max()))"
   ]
  },
  {
   "cell_type": "markdown",
   "metadata": {},
   "source": [
    "Нарисуем функции плотности и распределения значения логарифма от частотности слов в различных промежутках, выводя примеры слов с минимальной и максимальной частотностью, чтобы определить лучшие границы для нормализации длины от 0 до 1 по методу минимакс."
   ]
  },
  {
   "cell_type": "code",
   "execution_count": 18,
   "metadata": {
    "id": "R3VZvwPR7Msq"
   },
   "outputs": [],
   "source": [
    "def show_freq_distplot(FROM, TO):\n",
    "    fig, ax = plt.subplots(figsize=(8, 4))\n",
    "    ax2 = ax.twinx()\n",
    "    \n",
    "    df = np.log1p(freq_df['Freq(ipm)'])\n",
    "    sns.distplot(x=df, hist=False, kde=True)\n",
    "    sns.ecdfplot(x=df)\n",
    "    ax.vlines(1, ymin=0, ymax=1, color='r', linestyle = '--')\n",
    "    ax.vlines(4, ymin=0, ymax=1, color='r', linestyle = '--')\n",
    "\n",
    "    ax.set_title('Распределение частотности слов (log1p) от ' + str(FROM) + ' до ' + str(TO))\n",
    "    ax.set_ylabel('Плотность (log1p)')\n",
    "    ax2.set_ylabel('Распределение частотности слов (log1p)')\n",
    "    ax.set_xlabel('Частотность слова (log1p)')\n",
    "\n",
    "    plt.xlim(FROM, TO)\n",
    "    plt.show()\n",
    "    \n",
    "    condition = ((FROM <= np.log1p(freq_df['Freq(ipm)'])) & (np.log1p(freq_df['Freq(ipm)']) <= TO))\n",
    "    sorted_freq_df = freq_df[condition].rename_axis('Lemma').sort_values(by=['Freq(ipm)', 'Lemma'])\n",
    "    print('Слова с минимальной частотностью:\\n', sorted_freq_df.head(5).index.values)\n",
    "    print('Слова с максимальной частотностью:\\n', sorted_freq_df.tail(5).index.values)"
   ]
  },
  {
   "cell_type": "code",
   "execution_count": 19,
   "metadata": {
    "colab": {
     "base_uri": "https://localhost:8080/",
     "height": 957
    },
    "id": "ACLllDp3vH4X",
    "outputId": "0a9d8d9e-c57f-4196-da06-865e115f0d05"
   },
   "outputs": [
    {
     "data": {
      "image/png": "[encoded data removed]",
      "text/plain": [
       "<Figure size 576x288 with 2 Axes>"
      ]
     },
     "metadata": {
      "needs_background": "light"
     },
     "output_type": "display_data"
    },
    {
     "name": "stdout",
     "output_type": "stream",
     "text": [
      "Слова с минимальной частотностью:\n",
      " ['абонементный' 'абсолютность' 'абсорбент' 'абстрагировать' 'абсцесс']\n",
      "Слова с максимальной частотностью:\n",
      " ['быть' 'я' 'не' 'в' 'и']\n"
     ]
    },
    {
     "data": {
      "image/png": "[encoded data removed]",
      "text/plain": [
       "<Figure size 576x288 with 2 Axes>"
      ]
     },
     "metadata": {
      "needs_background": "light"
     },
     "output_type": "display_data"
    },
    {
     "name": "stdout",
     "output_type": "stream",
     "text": [
      "Слова с минимальной частотностью:\n",
      " ['абонемент' 'аввакум' 'авиатор' 'автопортрет' 'автопром']\n",
      "Слова с максимальной частотностью:\n",
      " ['набор' 'производитель' 'пыль' 'философия' 'япония']\n"
     ]
    },
    {
     "data": {
      "image/png": "[encoded data removed]",
      "text/plain": [
       "<Figure size 576x288 with 2 Axes>"
      ]
     },
     "metadata": {
      "needs_background": "light"
     },
     "output_type": "display_data"
    },
    {
     "name": "stdout",
     "output_type": "stream",
     "text": [
      "Слова с минимальной частотностью:\n",
      " ['девять' 'объяснение' 'сдать' 'положительный' 'терпеть']\n",
      "Слова с максимальной частотностью:\n",
      " ['быть' 'я' 'не' 'в' 'и']\n"
     ]
    }
   ],
   "source": [
    "show_freq_distplot(FROM=0.3, TO=11)\n",
    "show_freq_distplot(FROM=1, TO=4)\n",
    "show_freq_distplot(FROM=4, TO=11)"
   ]
  },
  {
   "cell_type": "markdown",
   "metadata": {},
   "source": [
    "Методом экспертной оценки заметим, что оптимально взять за минимум значение логарифма 1, за максимум 4.\n",
    "\n",
    "На вход будем принимать нормальную форму слова (будем приводить к лемме), так как слова берутся из словаря с леммами. Если слова нет в словаре, то не будем учитывать данный параметр."
   ]
  },
  {
   "cell_type": "code",
   "execution_count": 20,
   "metadata": {
    "id": "sWzOCZJx65rZ"
   },
   "outputs": [],
   "source": [
    "MIN_FREQ_LOG = 1\n",
    "MAX_FREQ_LOG = 4\n",
    "\n",
    "def word_freq_param(lemma: str) -> Optional[float]:\n",
    "    if lemma not in freq_df.index:\n",
    "        return None\n",
    "    found_lemma = freq_df.loc[lemma]\n",
    "    freq = np.log1p(found_lemma['Freq(ipm)'].item())\n",
    "    normalize_freq = (freq - MIN_FREQ_LOG) / (MAX_FREQ_LOG - MIN_FREQ_LOG)\n",
    "    return 1 - max(0, min(normalize_freq, 1))"
   ]
  },
  {
   "cell_type": "markdown",
   "metadata": {},
   "source": [
    "Протестируем"
   ]
  },
  {
   "cell_type": "code",
   "execution_count": 21,
   "metadata": {
    "colab": {
     "base_uri": "https://localhost:8080/"
    },
    "id": "MaKdYGnn_INJ",
    "outputId": "7ac6bd9c-a5f8-4742-d298-712ae263f551"
   },
   "outputs": [
    {
     "name": "stdout",
     "output_type": "stream",
     "text": [
      "None\n",
      "0\n",
      "0.09223970638957713\n",
      "0.31849252075885903\n",
      "0.5340349090672099\n",
      "0.96712923711063\n",
      "1\n"
     ]
    }
   ],
   "source": [
    "print(word_freq_param(lemma='None'))\n",
    "print(word_freq_param(lemma='я'))\n",
    "print(word_freq_param(lemma='актриса'))\n",
    "print(word_freq_param(lemma='убирать'))\n",
    "print(word_freq_param(lemma='попугай'))\n",
    "print(word_freq_param(lemma='прогуливать'))\n",
    "print(word_freq_param(lemma='кулич'))"
   ]
  },
  {
   "cell_type": "markdown",
   "metadata": {
    "id": "W74McFCRp62O"
   },
   "source": [
    "### Часть речи слова"
   ]
  },
  {
   "cell_type": "markdown",
   "metadata": {},
   "source": [
    "Будем определять семантическую сложность через частеречную принадлежность. Для этого будем использовать библиотеку pymorphy2 (https://pymorphy2.readthedocs.io/en/stable/index.html), которая может попытаться определить частеречную принадлежность даже несуществующего слова.(https://pymorphy2.readthedocs.io/en/stable/user/grammemes.html)\n",
    "\n",
    "Разобьем слова на группы по семантической сложности (чем сложнее смысл, тем больше должен быть параметр сложности слова по части речи):\n",
    "- мало несущие в себе смысл (0): \n",
    "    - числительное (NUMR)\n",
    "    - наречие (ADVB)\n",
    "    - местоимение-существительное (NPRO)\n",
    "    - предикатив (PRED)\n",
    "    - предлог (PREP)\n",
    "    - союз (CONJ)\n",
    "    - частица (PRCL)\n",
    "    - междометие (INTJ)\n",
    "- изначально созданы для обозначения реальных и наглядных вещей (0.5): \n",
    "    - имя существительное (NOUN)\n",
    "    - имя прилагательное (полное - ADJF, краткое - ADJS)\n",
    "    - компаратив (COMP)\n",
    "    - глагол (личная форма - VERB, инфинитив - INFN)\n",
    "- имеющие сложные смысловые значения (1):\n",
    "    - причастие (полное - PRTF, краткое - PRTS)\n",
    "    - деепричастие (GRND)\n",
    "    \n",
    "На вход будем принимать уже часть речи."
   ]
  },
  {
   "cell_type": "code",
   "execution_count": 22,
   "metadata": {
    "id": "3zHykdhKrLMG"
   },
   "outputs": [],
   "source": [
    "simple_POS = {'NUMR', 'ADVB', 'NPRO', 'PRED', 'PREP', 'CONJ', 'PRCL', 'INTJ'}\n",
    "medium_POS = {'NOUN', 'ADJF', 'ADJS', 'COMP', 'VERB', 'INFN'}\n",
    "difficult_POS = {'PRTF', 'PRTS', 'GRND'}\n",
    "\n",
    "def word_POS_param(POS: str) -> Optional[float]:\n",
    "    if POS in simple_POS:\n",
    "        return 0\n",
    "    if POS in medium_POS:\n",
    "        return 0.5\n",
    "    if POS in difficult_POS:\n",
    "        return 1\n",
    "    return None"
   ]
  },
  {
   "cell_type": "markdown",
   "metadata": {},
   "source": [
    "Протестируем"
   ]
  },
  {
   "cell_type": "code",
   "execution_count": 23,
   "metadata": {
    "colab": {
     "base_uri": "https://localhost:8080/"
    },
    "id": "54PdZziP-24-",
    "outputId": "51cec1e7-55d2-40d1-ed39-b4bd1a1275d3",
    "scrolled": true
   },
   "outputs": [
    {
     "name": "stdout",
     "output_type": "stream",
     "text": [
      "None\n",
      "0\n",
      "0.5\n",
      "1\n"
     ]
    }
   ],
   "source": [
    "print(word_POS_param(POS=morph.parse('None')[0].tag.POS))\n",
    "print(word_POS_param(POS=morph.parse('я')[0].tag.POS))\n",
    "print(word_POS_param(POS=morph.parse('иду')[0].tag.POS))\n",
    "print(word_POS_param(POS=morph.parse('пританцовывая')[0].tag.POS))"
   ]
  },
  {
   "cell_type": "markdown",
   "metadata": {},
   "source": [
    "### Морфемный разбор слова"
   ]
  },
  {
   "cell_type": "markdown",
   "metadata": {},
   "source": [
    "Напишем функцию определения сложности параметра морфем слова. (Чем больше в слове морфем, тем больше должен быть параметр сложности слова по морфемам.) Для этого сделаем преданализ данных из вышеупомянутого датасета.\n",
    "\n",
    "Нарисуем столбчатую диаграмму вероятности каждого количества морфем слова (считаем количество слов каждого количества морфем и делим на общее количество слов) и функцию её распределения."
   ]
  },
  {
   "cell_type": "code",
   "execution_count": 24,
   "metadata": {},
   "outputs": [
    {
     "data": {
      "image/png": "[encoded data removed]",
      "text/plain": [
       "<Figure size 1440x360 with 2 Axes>"
      ]
     },
     "metadata": {
      "needs_background": "light"
     },
     "output_type": "display_data"
    }
   ],
   "source": [
    "fig, ax = plt.subplots(figsize=(20, 5))\n",
    "ax2 = ax.twinx()\n",
    "\n",
    "df = morph_df['count_morph']\n",
    "sns.barplot(x=df, y=df, estimator=lambda x: len(x) / len(df))\n",
    "sns.ecdfplot(x=df)\n",
    "ax.vlines(1 - 1, ymin=0, ymax=1, color='r', linestyle = '--')\n",
    "ax.vlines(7 - 1, ymin=0, ymax=1, color='r', linestyle = '--')\n",
    "\n",
    "ax.set_title('Количество слов c определенным количеством морфем')\n",
    "ax.set_ylabel('Вероятность количества слов')\n",
    "ax2.set_ylabel('Распределение количества слов')\n",
    "ax.set_xlabel('Количество морфем')\n",
    "plt.show()"
   ]
  },
  {
   "cell_type": "markdown",
   "metadata": {},
   "source": [
    "Методом экспертной оценки заметим, что мы можем выделить среднее количество морфем в значении 4, а морфем больше 7 очень мало.\n",
    "\n",
    "Нормализуем количество морфем от 0 до 1 по методу минимакс так, чтобы значение 0.5 соотносилось со средним значением. Для этого за минимум возьмем значение 1, за максимум 7.\n",
    "\n",
    "На вход будем принимать нормальную форму слова (будем приводить к лемме), так как слова берутся из словаря с леммами. Если слова нет в словаре, то не будем учитывать данный параметр."
   ]
  },
  {
   "cell_type": "code",
   "execution_count": 25,
   "metadata": {},
   "outputs": [],
   "source": [
    "MIN_MORPH = 1\n",
    "MAX_MORPH = 7\n",
    "\n",
    "def word_morph_param(lemma: str) -> Optional[float]:\n",
    "    if lemma not in morph_df.index:\n",
    "        return None\n",
    "    found_lemma = morph_df.loc[lemma]\n",
    "    count_morph = found_lemma['count_morph'].item()\n",
    "    normalize_morph = (count_morph - MIN_MORPH) / (MAX_MORPH - MIN_MORPH)\n",
    "    return max(0, min(normalize_morph, 1))"
   ]
  },
  {
   "cell_type": "markdown",
   "metadata": {},
   "source": [
    "Протестируем"
   ]
  },
  {
   "cell_type": "code",
   "execution_count": 26,
   "metadata": {},
   "outputs": [
    {
     "name": "stdout",
     "output_type": "stream",
     "text": [
      "None\n",
      "0\n",
      "0.16666666666666666\n",
      "0.5\n",
      "0.6666666666666666\n",
      "1.0\n"
     ]
    }
   ],
   "source": [
    "print(word_morph_param(lemma='None'))\n",
    "print(word_morph_param(lemma='я'))\n",
    "print(word_morph_param(lemma='стол'))\n",
    "print(word_morph_param(lemma='припрыгивать'))\n",
    "print(word_morph_param(lemma='пританцовывать'))\n",
    "print(word_morph_param(lemma='авиационноспортивный'))"
   ]
  },
  {
   "cell_type": "markdown",
   "metadata": {},
   "source": [
    "### Финальная функция определения сложности слова"
   ]
  },
  {
   "cell_type": "markdown",
   "metadata": {},
   "source": [
    "Объединим все параметры сложности слова и возьмем среднее значение от их результата - это и будет общая сложность слова от 0 до 1. Если параметр не удалось оценить, будем его игнорировать.\n",
    "\n",
    "Было решено не использовать параметр части речи слова, так как разбиение на 0, 0.5 и 1, где 0.5 принадлежит самым распространённым частям речи - глаголам, существительным и прилагательных, получается очень грубым и слишком \"уравнивает\" результаты."
   ]
  },
  {
   "cell_type": "code",
   "execution_count": 27,
   "metadata": {},
   "outputs": [],
   "source": [
    "def word_difficulty(word: str) -> dict:\n",
    "    word, lemma, POS = get_word_info(word)\n",
    "    params = {'word_phoneme_param': word_phoneme_param(word),\n",
    "              'word_length_param': word_length_param(word),\n",
    "              'word_freq_param': word_freq_param(lemma),\n",
    "              #'word_POS_param': word_POS_param(POS),\n",
    "              'word_morph_param': word_morph_param(lemma)}\n",
    "    difficulty = np.mean([param for param in params.values() if param is not None])\n",
    "    return {'lemma': lemma, 'difficulty': difficulty, 'params': params}"
   ]
  },
  {
   "cell_type": "markdown",
   "metadata": {},
   "source": [
    "Протестируем"
   ]
  },
  {
   "cell_type": "code",
   "execution_count": 28,
   "metadata": {},
   "outputs": [
    {
     "data": {
      "text/html": [
       "<div>\n",
       "<style scoped>\n",
       "    .dataframe tbody tr th:only-of-type {\n",
       "        vertical-align: middle;\n",
       "    }\n",
       "\n",
       "    .dataframe tbody tr th {\n",
       "        vertical-align: top;\n",
       "    }\n",
       "\n",
       "    .dataframe thead th {\n",
       "        text-align: right;\n",
       "    }\n",
       "</style>\n",
       "<table border=\"1\" class=\"dataframe\">\n",
       "  <thead>\n",
       "    <tr style=\"text-align: right;\">\n",
       "      <th></th>\n",
       "      <th>lemma</th>\n",
       "      <th>difficulty</th>\n",
       "      <th>word_freq_param</th>\n",
       "      <th>word_length_param</th>\n",
       "      <th>word_morph_param</th>\n",
       "      <th>word_phoneme_param</th>\n",
       "    </tr>\n",
       "  </thead>\n",
       "  <tbody>\n",
       "    <tr>\n",
       "      <th>я</th>\n",
       "      <td>я</td>\n",
       "      <td>0.100000</td>\n",
       "      <td>0.0</td>\n",
       "      <td>0.0</td>\n",
       "      <td>0.0</td>\n",
       "      <td>0.4</td>\n",
       "    </tr>\n",
       "    <tr>\n",
       "      <th>стол</th>\n",
       "      <td>стол</td>\n",
       "      <td>0.091667</td>\n",
       "      <td>0.0</td>\n",
       "      <td>0.0</td>\n",
       "      <td>0.166667</td>\n",
       "      <td>0.2</td>\n",
       "    </tr>\n",
       "    <tr>\n",
       "      <th>припрыгивала</th>\n",
       "      <td>припрыгивать</td>\n",
       "      <td>0.433333</td>\n",
       "      <td>None</td>\n",
       "      <td>0.8</td>\n",
       "      <td>0.5</td>\n",
       "      <td>0.0</td>\n",
       "    </tr>\n",
       "    <tr>\n",
       "      <th>пританцовывать</th>\n",
       "      <td>пританцовывать</td>\n",
       "      <td>0.755716</td>\n",
       "      <td>0.956199</td>\n",
       "      <td>1.0</td>\n",
       "      <td>0.666667</td>\n",
       "      <td>0.4</td>\n",
       "    </tr>\n",
       "    <tr>\n",
       "      <th>авиационноспортивный</th>\n",
       "      <td>авиационноспортивный</td>\n",
       "      <td>1.000000</td>\n",
       "      <td>None</td>\n",
       "      <td>1.0</td>\n",
       "      <td>1.0</td>\n",
       "      <td>1.0</td>\n",
       "    </tr>\n",
       "    <tr>\n",
       "      <th>знакочередующийся</th>\n",
       "      <td>знакочередоваться</td>\n",
       "      <td>1.000000</td>\n",
       "      <td>None</td>\n",
       "      <td>1.0</td>\n",
       "      <td>None</td>\n",
       "      <td>1.0</td>\n",
       "    </tr>\n",
       "  </tbody>\n",
       "</table>\n",
       "</div>"
      ],
      "text/plain": [
       "                                     lemma  difficulty word_freq_param  \\\n",
       "я                                        я    0.100000             0.0   \n",
       "стол                                  стол    0.091667             0.0   \n",
       "припрыгивала                  припрыгивать    0.433333            None   \n",
       "пританцовывать              пританцовывать    0.755716        0.956199   \n",
       "авиационноспортивный  авиационноспортивный    1.000000            None   \n",
       "знакочередующийся        знакочередоваться    1.000000            None   \n",
       "\n",
       "                      word_length_param word_morph_param  word_phoneme_param  \n",
       "я                                   0.0              0.0                 0.4  \n",
       "стол                                0.0         0.166667                 0.2  \n",
       "припрыгивала                        0.8              0.5                 0.0  \n",
       "пританцовывать                      1.0         0.666667                 0.4  \n",
       "авиационноспортивный                1.0              1.0                 1.0  \n",
       "знакочередующийся                   1.0             None                 1.0  "
      ]
     },
     "execution_count": 28,
     "metadata": {},
     "output_type": "execute_result"
    }
   ],
   "source": [
    "text_df = pd.DataFrame(columns=['lemma', 'difficulty'])\n",
    "for word in ['я', 'стол', 'припрыгивала', 'пританцовывать', 'авиационноспортивный', 'знакочередующийся']:\n",
    "    difficulty = word_difficulty(word)\n",
    "    info = {'lemma': difficulty['lemma'],\n",
    "            'difficulty': difficulty['difficulty']}\n",
    "    info.update(difficulty['params'])\n",
    "    row = pd.Series(info, name=word)\n",
    "    text_df = text_df.append(row)\n",
    "text_df"
   ]
  },
  {
   "cell_type": "markdown",
   "metadata": {},
   "source": [
    "### Проверка работы функции"
   ]
  },
  {
   "cell_type": "markdown",
   "metadata": {},
   "source": [
    "Напишем функции для создания датасета сложности из текстового документа со словами и визуализации плотности распределения их сложности."
   ]
  },
  {
   "cell_type": "code",
   "execution_count": 29,
   "metadata": {},
   "outputs": [],
   "source": [
    "def distplot_text_df(text_dfs: List[pd.DataFrame], labels: List[str]=[], FROM: int=0, TO: int=1) -> None:\n",
    "    fig, ax = plt.subplots(figsize=(8, 4))\n",
    "    for text_df in text_dfs:\n",
    "        sns.distplot(x=text_df['difficulty'], label='1')\n",
    "\n",
    "    ax.set_title('Сложность слова от ' + str(FROM) + ' до ' + str(TO))\n",
    "    ax.set_ylabel('Плотность распределения')\n",
    "    ax.set_xlabel('Сложность слова')\n",
    "\n",
    "    plt.xlim(FROM, TO)\n",
    "    plt.legend(labels=labels)\n",
    "    plt.show()\n",
    "\n",
    "def analyze_text(filepath: str, stop=None, unique=True, show_plot=True) -> pd.DataFrame:\n",
    "    text_df = pd.DataFrame(columns=['lemma', 'difficulty'])\n",
    "    with open(filepath, 'rb') as f:\n",
    "        for i, word in enumerate(tqdm(f.read().decode('utf-8').split())):\n",
    "            word = transform_word(word)[0]\n",
    "            if word and (not unique or word not in text_df.index):\n",
    "                difficulty = word_difficulty(word)\n",
    "                info = {'lemma': difficulty['lemma'],\n",
    "                        'difficulty': difficulty['difficulty']}\n",
    "                info.update(difficulty['params'])\n",
    "                row = pd.Series(info, name=word)\n",
    "                text_df = text_df.append(row)\n",
    "            if stop and stop <= i:\n",
    "                break\n",
    "    if show_plot:\n",
    "        distplot_text_df([text_df], labels=[os.path.basename(filepath)])\n",
    "    return text_df"
   ]
  },
  {
   "cell_type": "markdown",
   "metadata": {},
   "source": [
    "Возьмем небольшой текст, чтобы мы могли протестировать сложность слов. Например, отрывок из 'Алисы в стране чудес' Льюиса Кэрролла."
   ]
  },
  {
   "cell_type": "code",
   "execution_count": 30,
   "metadata": {},
   "outputs": [],
   "source": [
    "alice_in_wonderland_fullname = save_zip_txt(url='https://royallib.com/get/txt/keroll_lyuis/alisa_v_strane_chudes.zip',\n",
    "                                     dirname='datasets/texts/alice_in_wonderland/',\n",
    "                                     new_filename='alice_in_wonderland.txt')"
   ]
  },
  {
   "cell_type": "code",
   "execution_count": 31,
   "metadata": {},
   "outputs": [
    {
     "name": "stderr",
     "output_type": "stream",
     "text": [
      "  3%|██▋                                                                          | 1000/28613 [00:10<04:38, 99.24it/s]\n"
     ]
    },
    {
     "data": {
      "image/png": "[encoded data removed]",
      "text/plain": [
       "<Figure size 576x288 with 1 Axes>"
      ]
     },
     "metadata": {
      "needs_background": "light"
     },
     "output_type": "display_data"
    },
    {
     "data": {
      "text/html": [
       "<div>\n",
       "<style scoped>\n",
       "    .dataframe tbody tr th:only-of-type {\n",
       "        vertical-align: middle;\n",
       "    }\n",
       "\n",
       "    .dataframe tbody tr th {\n",
       "        vertical-align: top;\n",
       "    }\n",
       "\n",
       "    .dataframe thead th {\n",
       "        text-align: right;\n",
       "    }\n",
       "</style>\n",
       "<table border=\"1\" class=\"dataframe\">\n",
       "  <thead>\n",
       "    <tr style=\"text-align: right;\">\n",
       "      <th></th>\n",
       "      <th>lemma</th>\n",
       "      <th>difficulty</th>\n",
       "      <th>word_freq_param</th>\n",
       "      <th>word_length_param</th>\n",
       "      <th>word_morph_param</th>\n",
       "      <th>word_phoneme_param</th>\n",
       "    </tr>\n",
       "    <tr>\n",
       "      <th>word</th>\n",
       "      <th></th>\n",
       "      <th></th>\n",
       "      <th></th>\n",
       "      <th></th>\n",
       "      <th></th>\n",
       "      <th></th>\n",
       "    </tr>\n",
       "  </thead>\n",
       "  <tbody>\n",
       "    <tr>\n",
       "      <th>а</th>\n",
       "      <td>а</td>\n",
       "      <td>0.000000</td>\n",
       "      <td>0</td>\n",
       "      <td>0.0</td>\n",
       "      <td>None</td>\n",
       "      <td>0.0</td>\n",
       "    </tr>\n",
       "    <tr>\n",
       "      <th>бы</th>\n",
       "      <td>бы</td>\n",
       "      <td>0.000000</td>\n",
       "      <td>0</td>\n",
       "      <td>0.0</td>\n",
       "      <td>0</td>\n",
       "      <td>0.0</td>\n",
       "    </tr>\n",
       "    <tr>\n",
       "      <th>вы</th>\n",
       "      <td>вы</td>\n",
       "      <td>0.000000</td>\n",
       "      <td>0</td>\n",
       "      <td>0.0</td>\n",
       "      <td>None</td>\n",
       "      <td>0.0</td>\n",
       "    </tr>\n",
       "    <tr>\n",
       "      <th>да</th>\n",
       "      <td>да</td>\n",
       "      <td>0.000000</td>\n",
       "      <td>0</td>\n",
       "      <td>0.0</td>\n",
       "      <td>None</td>\n",
       "      <td>0.0</td>\n",
       "    </tr>\n",
       "    <tr>\n",
       "      <th>за</th>\n",
       "      <td>за</td>\n",
       "      <td>0.000000</td>\n",
       "      <td>0</td>\n",
       "      <td>0.0</td>\n",
       "      <td>0</td>\n",
       "      <td>0.0</td>\n",
       "    </tr>\n",
       "    <tr>\n",
       "      <th>...</th>\n",
       "      <td>...</td>\n",
       "      <td>...</td>\n",
       "      <td>...</td>\n",
       "      <td>...</td>\n",
       "      <td>...</td>\n",
       "      <td>...</td>\n",
       "    </tr>\n",
       "    <tr>\n",
       "      <th>увеличительным</th>\n",
       "      <td>увеличительный</td>\n",
       "      <td>0.816667</td>\n",
       "      <td>1</td>\n",
       "      <td>1.0</td>\n",
       "      <td>0.666667</td>\n",
       "      <td>0.6</td>\n",
       "    </tr>\n",
       "    <tr>\n",
       "      <th>бессменно</th>\n",
       "      <td>бессменно</td>\n",
       "      <td>0.833333</td>\n",
       "      <td>1</td>\n",
       "      <td>0.5</td>\n",
       "      <td>None</td>\n",
       "      <td>1.0</td>\n",
       "    </tr>\n",
       "    <tr>\n",
       "      <th>оксфордском</th>\n",
       "      <td>оксфордский</td>\n",
       "      <td>0.833333</td>\n",
       "      <td>1</td>\n",
       "      <td>0.7</td>\n",
       "      <td>None</td>\n",
       "      <td>0.8</td>\n",
       "    </tr>\n",
       "    <tr>\n",
       "      <th>сфотографировать</th>\n",
       "      <td>сфотографировать</td>\n",
       "      <td>0.843754</td>\n",
       "      <td>0.741683</td>\n",
       "      <td>1.0</td>\n",
       "      <td>0.833333</td>\n",
       "      <td>0.8</td>\n",
       "    </tr>\n",
       "    <tr>\n",
       "      <th>юмористическом</th>\n",
       "      <td>юмористический</td>\n",
       "      <td>0.849306</td>\n",
       "      <td>0.897222</td>\n",
       "      <td>1.0</td>\n",
       "      <td>0.5</td>\n",
       "      <td>1.0</td>\n",
       "    </tr>\n",
       "  </tbody>\n",
       "</table>\n",
       "<p>630 rows × 6 columns</p>\n",
       "</div>"
      ],
      "text/plain": [
       "                             lemma  difficulty word_freq_param  \\\n",
       "word                                                             \n",
       "а                                а    0.000000               0   \n",
       "бы                              бы    0.000000               0   \n",
       "вы                              вы    0.000000               0   \n",
       "да                              да    0.000000               0   \n",
       "за                              за    0.000000               0   \n",
       "...                            ...         ...             ...   \n",
       "увеличительным      увеличительный    0.816667               1   \n",
       "бессменно                бессменно    0.833333               1   \n",
       "оксфордском            оксфордский    0.833333               1   \n",
       "сфотографировать  сфотографировать    0.843754        0.741683   \n",
       "юмористическом      юмористический    0.849306        0.897222   \n",
       "\n",
       "                  word_length_param word_morph_param  word_phoneme_param  \n",
       "word                                                                      \n",
       "а                               0.0             None                 0.0  \n",
       "бы                              0.0                0                 0.0  \n",
       "вы                              0.0             None                 0.0  \n",
       "да                              0.0             None                 0.0  \n",
       "за                              0.0                0                 0.0  \n",
       "...                             ...              ...                 ...  \n",
       "увеличительным                  1.0         0.666667                 0.6  \n",
       "бессменно                       0.5             None                 1.0  \n",
       "оксфордском                     0.7             None                 0.8  \n",
       "сфотографировать                1.0         0.833333                 0.8  \n",
       "юмористическом                  1.0              0.5                 1.0  \n",
       "\n",
       "[630 rows x 6 columns]"
      ]
     },
     "execution_count": 31,
     "metadata": {},
     "output_type": "execute_result"
    }
   ],
   "source": [
    "text_df = analyze_text(filepath=alice_in_wonderland_fullname, stop=1000)\n",
    "text_df.rename_axis('word').sort_values(by=['difficulty', 'word'])"
   ]
  },
  {
   "cell_type": "markdown",
   "metadata": {},
   "source": [
    "Рассмотрим плотность распределения сложности слов на основе списка слов разных уровней знания русского языка для иностранцев. Возьмем самый простой список слов - a1 и один из самых сложных - c1. (http://www.tolstyslovar.com/ru/a1)\n",
    "\n",
    "Cохраним данные в формате .txt, распарсив страницы со списками."
   ]
  },
  {
   "cell_type": "code",
   "execution_count": 32,
   "metadata": {},
   "outputs": [],
   "source": [
    "def save_words(level:str):\n",
    "    dirname = 'datasets/word_levels'\n",
    "    fullname = os.path.join(dirname, str(level) + '.txt')\n",
    "    \n",
    "    if not os.path.exists(fullname):\n",
    "        html = requests.get(os.path.join('http://www.tolstyslovar.com/ru', level)).content\n",
    "        soup = BeautifulSoup(html, 'html.parser')\n",
    "\n",
    "        word_list = []\n",
    "        for word in soup.findAll(attrs={'class': 'word'}):\n",
    "            word_list.append(word.text)\n",
    "\n",
    "        os.makedirs(dirname, exist_ok=True)\n",
    "        with open(fullname, 'wb') as ru:\n",
    "            ru.write(' '.join(word_list).encode('utf-8'))\n",
    "    return fullname\n",
    "\n",
    "a1_level_path = save_words(level='a1')\n",
    "c1_level_path = save_words(level='c1')"
   ]
  },
  {
   "cell_type": "markdown",
   "metadata": {},
   "source": [
    "Найдем сложности слов каждого списка и сравним их плотности распределения."
   ]
  },
  {
   "cell_type": "code",
   "execution_count": 33,
   "metadata": {},
   "outputs": [
    {
     "name": "stderr",
     "output_type": "stream",
     "text": [
      "100%|████████████████████████████████████████████████████████████████████████████████| 964/964 [00:10<00:00, 93.58it/s]\n",
      "100%|██████████████████████████████████████████████████████████████████████████████| 1463/1463 [00:16<00:00, 90.72it/s]\n"
     ]
    },
    {
     "data": {
      "image/png": "[encoded data removed]",
      "text/plain": [
       "<Figure size 576x288 with 1 Axes>"
      ]
     },
     "metadata": {
      "needs_background": "light"
     },
     "output_type": "display_data"
    }
   ],
   "source": [
    "a1_text_df = analyze_text(filepath=a1_level_path, show_plot=False)\n",
    "c1_text_df = analyze_text(filepath=c1_level_path, show_plot=False)\n",
    "distplot_text_df([a1_text_df, c1_text_df], labels=['words level a1', 'words level c1'])"
   ]
  },
  {
   "cell_type": "markdown",
   "metadata": {},
   "source": [
    "На основе графиком видно, что наша функция определения сложности слова работает корректно. Действительно слова для начального уровня русского языка в основном простые, а слова высокого уровня - сложные."
   ]
  },
  {
   "cell_type": "markdown",
   "metadata": {},
   "source": [
    "# Весь нужный код"
   ]
  },
  {
   "cell_type": "code",
   "execution_count": 34,
   "metadata": {},
   "outputs": [],
   "source": [
    "import os\n",
    "import shutil\n",
    "import io\n",
    "import zipfile\n",
    "import requests\n",
    "import string\n",
    "import pandas as pd\n",
    "import numpy as np\n",
    "from typing import Optional, List\n",
    "import matplotlib.pyplot as plt\n",
    "import seaborn as sns\n",
    "from tqdm import tqdm\n",
    "import re\n",
    "from bs4 import BeautifulSoup\n",
    "import warnings\n",
    "\n",
    "warnings.filterwarnings('ignore')\n",
    "\n",
    "# Константы\n",
    "import pymorphy2\n",
    "morph = pymorphy2.MorphAnalyzer()\n",
    "\n",
    "MIN_PHONEME = 0\n",
    "MAX_PHONEME = 5\n",
    "\n",
    "MIN_LENGTH = 4\n",
    "MAX_LENGTH = 14\n",
    "\n",
    "MIN_FREQ_LOG = 1\n",
    "MAX_FREQ_LOG = 4\n",
    "\n",
    "simple_POS = {'NUMR', 'ADVB', 'NPRO', 'PRED', 'PREP', 'CONJ', 'PRCL', 'INTJ'}\n",
    "medium_POS = {'NOUN', 'ADJF', 'ADJS', 'COMP', 'VERB', 'INFN'}\n",
    "difficult_POS = {'PRTF', 'PRTS', 'GRND'}\n",
    "\n",
    "MIN_MORPH = 1\n",
    "MAX_MORPH = 7\n",
    "\n",
    "\n",
    "# Датасеты\n",
    "def save_zip_csv(url: str, dirname: str, new_filename: str) -> None:\n",
    "    fullname = os.path.join(dirname, new_filename)\n",
    "    \n",
    "    if not os.path.exists(fullname):\n",
    "        r = requests.get(url)\n",
    "        with r, zipfile.ZipFile(io.BytesIO(r.content)) as archive:\n",
    "            archive.extractall(dirname)\n",
    "    return fullname\n",
    "\n",
    "def save_zip_txt(url: str, dirname: str, new_filename: str) -> None:\n",
    "    fullname = os.path.join(dirname, new_filename)\n",
    "    \n",
    "    if not os.path.exists(fullname):\n",
    "        shutil.rmtree(dirname, ignore_errors=True)\n",
    "\n",
    "        r = requests.get(url)\n",
    "        with r, zipfile.ZipFile(io.BytesIO(r.content)) as archive:\n",
    "            archive.extractall(dirname)\n",
    "\n",
    "        for filename in os.listdir(dirname):\n",
    "            if filename.endswith('.txt'):\n",
    "                with open(os.path.join(dirname, filename), 'rb') as f:\n",
    "                    text = f.read().decode('cp1251')\n",
    "                    with open(fullname, 'wb') as ru:\n",
    "                        ru.write(text.encode('utf-8'))\n",
    "    return fullname\n",
    "\n",
    "def save_words(level:str):\n",
    "    dirname = 'datasets/word_levels'\n",
    "    fullname = os.path.join(dirname, str(level) + '.txt')\n",
    "    \n",
    "    if not os.path.exists(fullname):\n",
    "        html = requests.get(os.path.join('http://www.tolstyslovar.com/ru', level)).content\n",
    "        soup = BeautifulSoup(html, 'html.parser')\n",
    "\n",
    "        word_list = []\n",
    "        for word in soup.findAll(attrs={'class': 'word'}):\n",
    "            word_list.append(word.text)\n",
    "\n",
    "        os.makedirs(dirname, exist_ok=True)\n",
    "        with open(fullname, 'wb') as ru:\n",
    "            ru.write(' '.join(word_list).encode('utf-8'))\n",
    "    return fullname\n",
    "\n",
    "a1_level_path = save_words(level='a1')\n",
    "c1_level_path = save_words(level='c1')\n",
    "\n",
    "fullname = save_zip_csv(url='http://dict.ruslang.ru/Freq2011.zip',\n",
    "                        dirname='datasets/freq',\n",
    "                        new_filename='freqrnc2011.csv')\n",
    "freq_df = pd.read_csv(fullname, sep='\\t')[['Lemma', 'Freq(ipm)']]\n",
    "freq_df['Lemma'] = freq_df['Lemma'].str.lower()\n",
    "freq_df['length'] = freq_df['Lemma'].str.len()\n",
    "freq_df = freq_df.drop_duplicates(subset=['Lemma'])\n",
    "freq_df = freq_df.set_index('Lemma')\n",
    "\n",
    "fullname = save_zip_txt(url='http://www.speakrus.ru/dict2/tikhonov.zip',\n",
    "                        dirname='datasets/tikhonov',\n",
    "                        new_filename='tikhonov.txt')        \n",
    "morph_df = pd.read_csv(fullname, sep='|', names=['Lemma', 'analysis'])\n",
    "morph_df['Lemma'] = morph_df['Lemma'].str.replace('\\d+', '').str.split().str[0].str.lower()\n",
    "morph_df['analysis'] = morph_df['analysis'].str.replace('\\d+', '').str.split(pat=',', n=1).str[0].str.split().str[0]\n",
    "morph_df['count_morph'] = morph_df['analysis'].str.count(pat='/') + 1\n",
    "morph_df = morph_df.drop_duplicates(subset=['Lemma'])\n",
    "morph_df = morph_df.set_index('Lemma')\n",
    "\n",
    "a1_level_path = save_words(level='a1')\n",
    "c1_level_path = save_words(level='c1')\n",
    "\n",
    "\n",
    "# Вспомогательные функции\n",
    "def transform_word(word: str) -> tuple:\n",
    "    delete_symbols = set(string.punctuation) - set('-') | set('«»…')\n",
    "    word = ''.join([w for w in word.replace(' ', '') if w not in delete_symbols])\n",
    "    word = re.sub('[a-zA-Z]|\\d', '', word)\n",
    "    is_capitalized = word[0].isupper() if word else False\n",
    "    return word.lower(), is_capitalized\n",
    "\n",
    "def get_word_info(word: str) -> tuple: \n",
    "    morph_parse = morph.parse(word)[0]\n",
    "    return word, morph_parse.normal_form, morph_parse.tag.POS \n",
    "\n",
    "vowels = set('аяоёуюыиэе')\n",
    "consonants = set('бвгджзйклмнпрстфхцчшщ')\n",
    "marks = set('ъь')\n",
    "\n",
    "deaf_consonants = set('пфктшсхцчщ')\n",
    "voices_consonants = set('лмнрйбвгджз')\n",
    "\n",
    "ioted_vowels = { \n",
    "    'я' : {'one': 'а', 'two': 'йа'},\n",
    "    'ё' : {'one': 'о', 'two': 'йо'},\n",
    "    'ю' : {'one': 'у', 'two': 'йу'},\n",
    "    'е' : {'one': 'э', 'two': 'йэ'},\n",
    "}\n",
    "\n",
    "stress_vowels = {\n",
    "    'о': {'stress': 'о', 'not_stress': 'a'},\n",
    "    'е': {'stress': 'э', 'not_stress': 'и'},\n",
    "    'я': {'stress': 'а', 'not_stress': 'и'},\n",
    "}\n",
    "\n",
    "deaf_pairs = {\n",
    "    'б': 'п',\n",
    "    'в': 'ф',\n",
    "    'г': 'к',\n",
    "    'д': 'т',\n",
    "    'ж': 'ш',\n",
    "    'з': 'с'\n",
    "}\n",
    "\n",
    "simple_groups = { #abc -> ac\n",
    "    'с' : {'т': set('нл')}, # стн, стл \n",
    "    'н' : {'д': set('шц'), 'т': 'г'}, # ндш, ндц, нтг\n",
    "    'з' : {'д': set('нц')}, # здн, здц\n",
    "    'р' : {'д': set('цч')} # рдц, рдч \n",
    "}\n",
    "\n",
    "sh_groups = { # ab -> шb\n",
    "    'ч' : set('нт') # чн, чт\n",
    "}\n",
    "\n",
    "sch_groups = { # ab -> щ\n",
    "    'с' : 'ч', # сч\n",
    "    'з' : 'ч', # зч\n",
    "    'ж' : 'ч', # жч\n",
    "}\n",
    "\n",
    "def get_transcription(word: str) -> tuple:\n",
    "    diff = [0] * len(word)\n",
    "    transcription = ['!'] * len(word)\n",
    "    for i in range(len(word)):\n",
    "        c = word[i]\n",
    "        before_c = word[i - 1] if i > 0 else None\n",
    "        after_c = word[i + 1] if i < len(word) - 1 else None\n",
    "        after_after_c = word[i + 2] if i < len(word) - 2 else None\n",
    "        if c in vowels:\n",
    "            transcription[i] = c\n",
    "            diff[i] = 0\n",
    "            if c in ioted_vowels:\n",
    "                if i == 0 or before_c in vowels or before_c in marks:\n",
    "                    transcription[i] = ioted_vowels[c]['two']\n",
    "                    diff[i] = 2\n",
    "                else:\n",
    "                    transcription[i] = ioted_vowels[c]['one']\n",
    "                    diff[i] = 1\n",
    "            elif c == 'и':\n",
    "                if before_c == 'ь':\n",
    "                    transcription[i] = 'йи'\n",
    "                    diff[i] = 2\n",
    "                elif before_c in set('жшц'):\n",
    "                    transcription[i] = 'ы'\n",
    "                    diff[i] = 1\n",
    "                else:\n",
    "                    transcription[i] = 'и'\n",
    "                    diff[i] = 0\n",
    "            elif c in stress_vowels:\n",
    "                transcription[i] = stress_vowels[c]['not_stress']\n",
    "                diff[i] = 1\n",
    "        elif c in consonants:\n",
    "            transcription[i] = c\n",
    "            diff[i] = 0\n",
    "            if c in deaf_pairs:\n",
    "                if i == len(word) - 1 or after_c in deaf_consonants:\n",
    "                    transcription[i] = deaf_pairs[c]\n",
    "                    diff[i] = 1\n",
    "            if before_c and after_c and\\\n",
    "                before_c in simple_groups and\\\n",
    "                c in simple_groups[before_c] and\\\n",
    "                after_c in simple_groups[before_c][c]:\n",
    "                transcription[i] = ''\n",
    "                diff[i] = 1\n",
    "            if before_c in sh_groups and c in sh_groups[before_c]:\n",
    "                transcription[i - 1] = 'ш'\n",
    "                diff[i - 1] = 1\n",
    "            if before_c in sch_groups and c in sch_groups[before_c]:\n",
    "                transcription[i - 1] = 'щ'\n",
    "                diff[i - 1] = 1\n",
    "                transcription[i] = ''\n",
    "                diff[i] = 1\n",
    "            if before_c == 'л' and c == 'н' and after_c == 'ц':\n",
    "                transcription[i - 1] = ''\n",
    "                diff[i - 1] = 1\n",
    "            if before_c == 'в' and c == 'с' and after_c == 'т' and after_after_c == 'в':\n",
    "                transcription[i - 1] = ''\n",
    "                diff[i - 1] = 1\n",
    "            if i == 0 and c == 'с' and after_c in voices_consonants:\n",
    "                transcription[i] = 'з'\n",
    "                diff[i] = 1\n",
    "            if c == 'г' and after_c in deaf_consonants:\n",
    "                transcription[i] = 'x'\n",
    "                diff[i] = 1\n",
    "            if before_c == c:\n",
    "                transcription[i] = ''\n",
    "                diff[i] = 1\n",
    "        else:\n",
    "            transcription[i] = ''\n",
    "            diff[i] = 1\n",
    "    if word.endswith(('ого', 'его')):\n",
    "        transcription[-2] = 'в'\n",
    "        diff[-2] = 1\n",
    "    if word.endswith('тся'):\n",
    "        transcription[-3] = 'ц'\n",
    "        diff[-3] = 1\n",
    "        transcription[-2] = ''\n",
    "        diff[-2] = 1\n",
    "    if word.endswith('ться'):\n",
    "        transcription[-4] = 'ц'\n",
    "        diff[-4] = 1\n",
    "        transcription[-3] = ''\n",
    "        diff[-3] = 1\n",
    "        transcription[-2] = ''\n",
    "        diff[-2] = 1\n",
    "    return sum(diff), diff, transcription\n",
    "\n",
    "def word_phoneme_param(word: str) -> float:\n",
    "    diff, _, _= get_transcription(word)\n",
    "    normalize_phoneme = (diff - MIN_PHONEME) / (MAX_PHONEME - MIN_PHONEME)\n",
    "    return max(0, min(normalize_phoneme, 1))\n",
    "\n",
    "def word_length_param(word: str) -> float:\n",
    "    normalize_length = (len(word) - MIN_LENGTH) / (MAX_LENGTH - MIN_LENGTH)\n",
    "    return max(0, min(normalize_length, 1))\n",
    "\n",
    "def word_freq_param(lemma: str) -> Optional[float]:\n",
    "    if lemma not in freq_df.index:\n",
    "        return None\n",
    "    found_lemma = freq_df.loc[lemma]\n",
    "    freq = np.log1p(found_lemma['Freq(ipm)'].item())\n",
    "    normalize_freq = (freq - MIN_FREQ_LOG) / (MAX_FREQ_LOG - MIN_FREQ_LOG)\n",
    "    return 1 - max(0, min(normalize_freq, 1))\n",
    "\n",
    "def word_POS_param(POS: str) -> Optional[float]:\n",
    "    if POS in simple_POS:\n",
    "        return 0\n",
    "    if POS in medium_POS:\n",
    "        return 0.5\n",
    "    if POS in difficult_POS:\n",
    "        return 1\n",
    "    return None\n",
    "\n",
    "def word_morph_param(lemma: str) -> Optional[float]:\n",
    "    if lemma not in morph_df.index:\n",
    "        return None\n",
    "    found_lemma = morph_df.loc[lemma]\n",
    "    count_morph = found_lemma['count_morph'].item()\n",
    "    normalize_morph = (count_morph - MIN_MORPH) / (MAX_MORPH - MIN_MORPH)\n",
    "    return max(0, min(normalize_morph, 1))\n",
    "\n",
    "\n",
    "# Основная функция сложности слова\n",
    "def word_difficulty(word: str) -> dict:\n",
    "    word, lemma, POS = get_word_info(word)\n",
    "    params = {'word_phoneme_param': word_phoneme_param(word),\n",
    "              'word_length_param': word_length_param(word),\n",
    "              'word_freq_param': word_freq_param(lemma),\n",
    "              #'word_POS_param': word_POS_param(POS),\n",
    "              'word_morph_param': word_morph_param(lemma)}\n",
    "    difficulty = np.mean([param for param in params.values() if param is not None])\n",
    "    return {'lemma': lemma, 'difficulty': difficulty, 'params': params}\n",
    "\n",
    "\n",
    "# Функции анализа .txt\n",
    "def distplot_text_df(text_dfs: List[pd.DataFrame], labels: List[str]=[], FROM: int=0, TO: int=1) -> None:\n",
    "    fig, ax = plt.subplots(figsize=(8, 4))\n",
    "    for text_df in text_dfs:\n",
    "        sns.distplot(x=text_df['difficulty'], label='1')\n",
    "\n",
    "    ax.set_title('Сложность слова от ' + str(FROM) + ' до ' + str(TO))\n",
    "    ax.set_ylabel('Плотность распределения')\n",
    "    ax.set_xlabel('Сложность слова')\n",
    "\n",
    "    plt.xlim(FROM, TO)\n",
    "    plt.legend(labels=labels)\n",
    "    plt.show()\n",
    "\n",
    "def analyze_text(filepath: str, stop=None, unique=True, show_plot=True) -> pd.DataFrame:\n",
    "    text_df = pd.DataFrame(columns=['lemma', 'difficulty'])\n",
    "    with open(filepath, 'rb') as f:\n",
    "        for i, word in enumerate(tqdm(f.read().decode('utf-8').split())):\n",
    "            word = transform_word(word)[0]\n",
    "            if word and (not unique or word not in text_df.index):\n",
    "                difficulty = word_difficulty(word)\n",
    "                info = {'lemma': difficulty['lemma'],\n",
    "                        'difficulty': difficulty['difficulty']}\n",
    "                info.update(difficulty['params'])\n",
    "                row = pd.Series(info, name=word)\n",
    "                text_df = text_df.append(row)\n",
    "            if stop and stop <= i:\n",
    "                break\n",
    "    if show_plot:\n",
    "        distplot_text_df([text_df], labels=[os.path.basename(filepath)])\n",
    "    return text_df"
   ]
  }
 ],
 "metadata": {
  "colab": {
   "collapsed_sections": [],
   "name": "курсач.ipynb",
   "provenance": []
  },
  "kernelspec": {
   "display_name": "Python 3",
   "language": "python",
   "name": "python3"
  },
  "language_info": {
   "codemirror_mode": {
    "name": "ipython",
    "version": 3
   },
   "file_extension": ".py",
   "mimetype": "text/x-python",
   "name": "python",
   "nbconvert_exporter": "python",
   "pygments_lexer": "ipython3",
   "version": "3.8.8"
  }
 },
 "nbformat": 4,
 "nbformat_minor": 1
}
