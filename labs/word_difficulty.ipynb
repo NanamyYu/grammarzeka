{
 "cells": [
  {
   "cell_type": "markdown",
   "metadata": {
    "id": "zv1icSoIXe_Z"
   },
   "source": [
    "# Реализация функции определения сложности слова (Гареева)"
   ]
  },
  {
   "cell_type": "markdown",
   "metadata": {},
   "source": [
    "Для определения сложности слова напишем функцию, которая будет принимать на вход строку-слово и возвращать значение каждого параметра сложности от 0 до 1, где 0 - очень простое слово, 1 - очень сложное, и их среднюю сложность.\n",
    "\n",
    "Для этого напишем отдельно функции определения сложности каждого параметра, которые будут возвращать значение от 0 до 1."
   ]
  },
  {
   "cell_type": "code",
   "execution_count": 1,
   "metadata": {},
   "outputs": [],
   "source": [
    "import os\n",
    "import shutil\n",
    "import io\n",
    "import zipfile\n",
    "import requests\n",
    "import string\n",
    "import pandas as pd\n",
    "import numpy as np\n",
    "from typing import Optional\n",
    "import matplotlib.pyplot as plt\n",
    "import seaborn as sns\n",
    "import warnings\n",
    "\n",
    "warnings.filterwarnings('ignore')"
   ]
  },
  {
   "cell_type": "markdown",
   "metadata": {},
   "source": [
    "### Приведение слова к нужному формату"
   ]
  },
  {
   "cell_type": "markdown",
   "metadata": {},
   "source": [
    "Многие библиотеки, работающие со словами, и датасеты со словами, используют только определенные форматы: строчные буквы, нет лишних пробелов, нормальная форма. Нужно уметь преобразовывать любое слово к такому формату - для этого напишем функцию преобразования, которая к тому же определяет часть речи слова.\n",
    "\n",
    "Для приведения слова к нормальной форме будем использовать библиотеку **pymorphy2** (https://pymorphy2.readthedocs.io/en/stable/index.html), которая может привести к нормальной форме даже несуществующее слово."
   ]
  },
  {
   "cell_type": "code",
   "execution_count": 2,
   "metadata": {},
   "outputs": [],
   "source": [
    "# %pip install pymorphy2"
   ]
  },
  {
   "cell_type": "code",
   "execution_count": 3,
   "metadata": {},
   "outputs": [],
   "source": [
    "import pymorphy2\n",
    "morph = pymorphy2.MorphAnalyzer()\n",
    "\n",
    "def transform_word(word: str) -> tuple:\n",
    "    word = word.lower().strip()\n",
    "    morph_parse = morph.parse(word)[0]\n",
    "    return word, morph_parse.normal_form, morph_parse.tag.POS "
   ]
  },
  {
   "cell_type": "markdown",
   "metadata": {},
   "source": [
    "Протестируем"
   ]
  },
  {
   "cell_type": "code",
   "execution_count": 4,
   "metadata": {},
   "outputs": [
    {
     "name": "stdout",
     "output_type": "stream",
     "text": [
      "('танцующий', 'танцующий', 'ADJF')\n",
      "('кошкой', 'кошка', 'NOUN')\n"
     ]
    }
   ],
   "source": [
    "print(transform_word(word='танцующий'))\n",
    "print(transform_word(word='  кОшКоЙ '))"
   ]
  },
  {
   "cell_type": "markdown",
   "metadata": {},
   "source": [
    "### Датасеты"
   ]
  },
  {
   "cell_type": "markdown",
   "metadata": {},
   "source": [
    "Для работы с частотностью слов, скачаем открытый датасет (52138 слов) с большим количеством лемм (нормальных форм слова) с их частотностью (**Freq(ipm)**), приведем леммы к строчным буквам и оставим только нужные нам параметры (**Lemma, Freq(ipm)**), добавив параметр длины слова (**length**).\n",
    "\n",
    "О. Н. Ляшевская, С. А. Шаров НОВЫЙ ЧАСТОТНЫЙ СЛОВАРЬ РУССКОЙ ЛЕКСИКИ (http://dict.ruslang.ru/freq.php)"
   ]
  },
  {
   "cell_type": "code",
   "execution_count": 5,
   "metadata": {
    "colab": {
     "base_uri": "https://localhost:8080/",
     "height": 206
    },
    "id": "iCni6fgPXev-",
    "outputId": "96fb7bf8-701f-488d-8168-f326a603278e"
   },
   "outputs": [
    {
     "name": "stdout",
     "output_type": "stream",
     "text": [
      "<class 'pandas.core.frame.DataFrame'>\n",
      "RangeIndex: 52138 entries, 0 to 52137\n",
      "Data columns (total 3 columns):\n",
      " #   Column     Non-Null Count  Dtype  \n",
      "---  ------     --------------  -----  \n",
      " 0   Lemma      52138 non-null  object \n",
      " 1   Freq(ipm)  52138 non-null  float64\n",
      " 2   length     52138 non-null  int64  \n",
      "dtypes: float64(1), int64(1), object(1)\n",
      "memory usage: 1.2+ MB\n"
     ]
    },
    {
     "data": {
      "text/html": [
       "<div>\n",
       "<style scoped>\n",
       "    .dataframe tbody tr th:only-of-type {\n",
       "        vertical-align: middle;\n",
       "    }\n",
       "\n",
       "    .dataframe tbody tr th {\n",
       "        vertical-align: top;\n",
       "    }\n",
       "\n",
       "    .dataframe thead th {\n",
       "        text-align: right;\n",
       "    }\n",
       "</style>\n",
       "<table border=\"1\" class=\"dataframe\">\n",
       "  <thead>\n",
       "    <tr style=\"text-align: right;\">\n",
       "      <th></th>\n",
       "      <th>Lemma</th>\n",
       "      <th>Freq(ipm)</th>\n",
       "      <th>length</th>\n",
       "    </tr>\n",
       "  </thead>\n",
       "  <tbody>\n",
       "    <tr>\n",
       "      <th>375</th>\n",
       "      <td>азимут</td>\n",
       "      <td>1.6</td>\n",
       "      <td>6</td>\n",
       "    </tr>\n",
       "    <tr>\n",
       "      <th>45410</th>\n",
       "      <td>терние</td>\n",
       "      <td>1.2</td>\n",
       "      <td>6</td>\n",
       "    </tr>\n",
       "    <tr>\n",
       "      <th>44291</th>\n",
       "      <td>стряпня</td>\n",
       "      <td>1.0</td>\n",
       "      <td>7</td>\n",
       "    </tr>\n",
       "    <tr>\n",
       "      <th>40870</th>\n",
       "      <td>сдержаться</td>\n",
       "      <td>6.4</td>\n",
       "      <td>10</td>\n",
       "    </tr>\n",
       "    <tr>\n",
       "      <th>28651</th>\n",
       "      <td>отходчивый</td>\n",
       "      <td>0.6</td>\n",
       "      <td>10</td>\n",
       "    </tr>\n",
       "  </tbody>\n",
       "</table>\n",
       "</div>"
      ],
      "text/plain": [
       "            Lemma  Freq(ipm)  length\n",
       "375        азимут        1.6       6\n",
       "45410      терние        1.2       6\n",
       "44291     стряпня        1.0       7\n",
       "40870  сдержаться        6.4      10\n",
       "28651  отходчивый        0.6      10"
      ]
     },
     "execution_count": 5,
     "metadata": {},
     "output_type": "execute_result"
    }
   ],
   "source": [
    "dirname = 'datasets/freq'\n",
    "r = requests.get('http://dict.ruslang.ru/Freq2011.zip')\n",
    "with r, zipfile.ZipFile(io.BytesIO(r.content)) as archive:\n",
    "    archive.extractall(dirname)\n",
    "\n",
    "freq_df = pd.read_csv(os.path.join(dirname, 'freqrnc2011.csv'), sep='\\t')[['Lemma', 'Freq(ipm)']]\n",
    "freq_df['Lemma'] = freq_df['Lemma'].str.lower()\n",
    "freq_df['length'] = freq_df['Lemma'].str.len()\n",
    "\n",
    "freq_df.info()\n",
    "freq_df.sample(5)"
   ]
  },
  {
   "cell_type": "markdown",
   "metadata": {},
   "source": [
    "Для работы с морфемами слов, скачаем открытый датасет (103526 слов) с большим количеством лемм (нормальных форм слова) с их морфологическим разбором, приведем леммы к строчным буквам и оставим только их с нужным нам разбором слова по составу (**Lemma, analysis**), добавив количество морфем (**count_morph**). \n",
    "\n",
    "А.Н. Тихонов. Словообразовательный словарь русского языка в двух томах. (http://speakrus.ru/dict2/index.htm)"
   ]
  },
  {
   "cell_type": "code",
   "execution_count": 6,
   "metadata": {
    "scrolled": false
   },
   "outputs": [
    {
     "name": "stdout",
     "output_type": "stream",
     "text": [
      "<class 'pandas.core.frame.DataFrame'>\n",
      "RangeIndex: 103526 entries, 0 to 103525\n",
      "Data columns (total 3 columns):\n",
      " #   Column       Non-Null Count   Dtype \n",
      "---  ------       --------------   ----- \n",
      " 0   Lemma        103526 non-null  object\n",
      " 1   analysis     103526 non-null  object\n",
      " 2   count_morph  103526 non-null  int64 \n",
      "dtypes: int64(1), object(2)\n",
      "memory usage: 2.4+ MB\n"
     ]
    },
    {
     "data": {
      "text/html": [
       "<div>\n",
       "<style scoped>\n",
       "    .dataframe tbody tr th:only-of-type {\n",
       "        vertical-align: middle;\n",
       "    }\n",
       "\n",
       "    .dataframe tbody tr th {\n",
       "        vertical-align: top;\n",
       "    }\n",
       "\n",
       "    .dataframe thead th {\n",
       "        text-align: right;\n",
       "    }\n",
       "</style>\n",
       "<table border=\"1\" class=\"dataframe\">\n",
       "  <thead>\n",
       "    <tr style=\"text-align: right;\">\n",
       "      <th></th>\n",
       "      <th>Lemma</th>\n",
       "      <th>analysis</th>\n",
       "      <th>count_morph</th>\n",
       "    </tr>\n",
       "  </thead>\n",
       "  <tbody>\n",
       "    <tr>\n",
       "      <th>78498</th>\n",
       "      <td>ревизовать</td>\n",
       "      <td>ревиз/ова'/ть</td>\n",
       "      <td>3</td>\n",
       "    </tr>\n",
       "    <tr>\n",
       "      <th>24399</th>\n",
       "      <td>замоноличивать</td>\n",
       "      <td>за/моно/ли'ч/ива/ть</td>\n",
       "      <td>5</td>\n",
       "    </tr>\n",
       "    <tr>\n",
       "      <th>35501</th>\n",
       "      <td>культкомиссия</td>\n",
       "      <td>культ/коми'сси/я</td>\n",
       "      <td>3</td>\n",
       "    </tr>\n",
       "    <tr>\n",
       "      <th>71533</th>\n",
       "      <td>прогон</td>\n",
       "      <td>про/го'н/</td>\n",
       "      <td>3</td>\n",
       "    </tr>\n",
       "    <tr>\n",
       "      <th>56871</th>\n",
       "      <td>педант</td>\n",
       "      <td>педа'нт/</td>\n",
       "      <td>2</td>\n",
       "    </tr>\n",
       "  </tbody>\n",
       "</table>\n",
       "</div>"
      ],
      "text/plain": [
       "                Lemma             analysis  count_morph\n",
       "78498      ревизовать        ревиз/ова'/ть            3\n",
       "24399  замоноличивать  за/моно/ли'ч/ива/ть            5\n",
       "35501   культкомиссия     культ/коми'сси/я            3\n",
       "71533          прогон            про/го'н/            3\n",
       "56871          педант             педа'нт/            2"
      ]
     },
     "execution_count": 6,
     "metadata": {},
     "output_type": "execute_result"
    }
   ],
   "source": [
    "dirname = 'datasets/tikhonov'\n",
    "fullname = os.path.join(dirname, 'tikhonov.txt')\n",
    "\n",
    "shutil.rmtree(dirname, ignore_errors=True)\n",
    "\n",
    "r = requests.get('http://www.speakrus.ru/dict2/tikhonov.zip')\n",
    "with r, zipfile.ZipFile(io.BytesIO(r.content)) as archive:\n",
    "    archive.extractall(dirname)\n",
    "\n",
    "with open(os.path.join(dirname, os.listdir(dirname)[0]), 'rb') as f:\n",
    "    text = f.read().decode('cp1251')\n",
    "    with open(fullname, 'wb') as ru:\n",
    "        ru.write(text.encode('utf-8'))\n",
    "        \n",
    "morph_df = pd.read_csv(fullname, sep='|', names=['Lemma', 'analysis'])\n",
    "morph_df['Lemma'] = morph_df['Lemma'].str.replace('\\d+', '').str.split().str[0].str.lower()\n",
    "morph_df['analysis'] = morph_df['analysis'].str.replace('\\d+', '').str.split(pat=',', n=1).str[0].str.split().str[0]\n",
    "morph_df['count_morph'] = morph_df['analysis'].str.count(pat='/') + 1\n",
    "\n",
    "morph_df.info()\n",
    "morph_df.sample(5)"
   ]
  },
  {
   "cell_type": "markdown",
   "metadata": {},
   "source": [
    "### Фонетическая транскрипция"
   ]
  },
  {
   "cell_type": "markdown",
   "metadata": {},
   "source": [
    "Напишем функцию определения сложности параметра соотношения фонетической и графической сложности. (Чем сильнее несоотношение, тем больше параметр сложности.) \n",
    "\n",
    "Для этого напишем функцию создания транскрипции, пренебрегая обозначениями мягкости (они не влияют на неочевидность написания) и ударениями (будем считать, что любая гласная безударная), используя известные правила русского языка из открытых источников. (https://tutrus.com/fonetika/foneticheskiy-razbor-nachalnaya-shkola) Если буква имеет нетривиальную фонетическую запись или беззвучна, будем добавлять ей очко сложности. "
   ]
  },
  {
   "cell_type": "code",
   "execution_count": 7,
   "metadata": {},
   "outputs": [],
   "source": [
    "vowels = set('аяоёуюыиэе')\n",
    "consonants = set('бвгджзйклмнпрстфхцчшщ')\n",
    "marks = set('ъь')\n",
    "\n",
    "deaf_consonants = set('пфктшсхцчщ')\n",
    "voices_consonants = set('лмнрйбвгджз')\n",
    "\n",
    "ioted_vowels = { \n",
    "    'я' : {'one': 'а', 'two': 'йа'},\n",
    "    'ё' : {'one': 'о', 'two': 'йо'},\n",
    "    'ю' : {'one': 'у', 'two': 'йу'},\n",
    "    'е' : {'one': 'э', 'two': 'йэ'},\n",
    "}\n",
    "\n",
    "stress_vowels = {\n",
    "    'о': {'stress': 'о', 'not_stress': 'a'},\n",
    "    'е': {'stress': 'э', 'not_stress': 'и'},\n",
    "    'я': {'stress': 'а', 'not_stress': 'и'},\n",
    "}\n",
    "\n",
    "deaf_pairs = {\n",
    "    'б': 'п',\n",
    "    'в': 'ф',\n",
    "    'г': 'к',\n",
    "    'д': 'т',\n",
    "    'ж': 'ш',\n",
    "    'з': 'с'\n",
    "}\n",
    "\n",
    "simple_groups = { #abc -> ac\n",
    "    'с' : {'т': set('нл')}, # стн, стл \n",
    "    'н' : {'д': set('шц'), 'т': 'г'}, # ндш, ндц, нтг\n",
    "    'з' : {'д': set('нц')}, # здн, здц\n",
    "    'р' : {'д': set('цч')} # рдц, рдч \n",
    "}\n",
    "\n",
    "sh_groups = { # ab -> шb\n",
    "    'ч' : set('нт') # чн, чт\n",
    "}\n",
    "\n",
    "sch_groups = { # ab -> щ\n",
    "    'с' : 'ч', # сч\n",
    "    'з' : 'ч', # зч\n",
    "    'ж' : 'ч', # жч\n",
    "}\n",
    "\n",
    "def get_transcription(word: str) -> tuple:\n",
    "    difficulty = [0] * len(word)\n",
    "    transcription = ['!'] * len(word)\n",
    "    for i in range(len(word)):\n",
    "        c = word[i]\n",
    "        before_c = word[i - 1] if i > 0 else None\n",
    "        after_c = word[i + 1] if i < len(word) - 1 else None\n",
    "        after_after_c = word[i + 2] if i < len(word) - 2 else None\n",
    "        if c in vowels:\n",
    "            transcription[i] = c\n",
    "            difficulty[i] = 0\n",
    "            if c in ioted_vowels:\n",
    "                if i == 0 or before_c in vowels or before_c in marks:\n",
    "                    transcription[i] = ioted_vowels[c]['two']\n",
    "                    difficulty[i] = 2\n",
    "                else:\n",
    "                    transcription[i] = ioted_vowels[c]['one']\n",
    "                    difficulty[i] = 1\n",
    "            elif c == 'и':\n",
    "                if before_c == 'ь':\n",
    "                    transcription[i] = 'йи'\n",
    "                    difficulty[i] = 2\n",
    "                elif before_c in set('жшц'):\n",
    "                    transcription[i] = 'ы'\n",
    "                    difficulty[i] = 1\n",
    "                else:\n",
    "                    transcription[i] = 'и'\n",
    "                    difficulty[i] = 0\n",
    "            elif c in stress_vowels:\n",
    "                transcription[i] = stress_vowels[c]['not_stress']\n",
    "                difficulty[i] = 1\n",
    "        elif c in consonants:\n",
    "            transcription[i] = c\n",
    "            difficulty[i] = 0\n",
    "            if c in deaf_pairs:\n",
    "                if i == len(word) - 1 or after_c in deaf_consonants:\n",
    "                    transcription[i] = deaf_pairs[c]\n",
    "                    difficulty[i] = 1\n",
    "            if before_c and after_c and\\\n",
    "                before_c in simple_groups and\\\n",
    "                c in simple_groups[before_c] and\\\n",
    "                after_c in simple_groups[before_c][c]:\n",
    "                transcription[i] = ''\n",
    "                difficulty[i] = 1\n",
    "            if before_c in sh_groups and c in sh_groups[before_c]:\n",
    "                transcription[i - 1] = 'ш'\n",
    "                difficulty[i - 1] = 1\n",
    "            if before_c in sch_groups and c in sch_groups[before_c]:\n",
    "                transcription[i - 1] = 'щ'\n",
    "                difficulty[i - 1] = 1\n",
    "                transcription[i] = ''\n",
    "                difficulty[i] = 1\n",
    "            if before_c == 'л' and c == 'н' and after_c == 'ц':\n",
    "                transcription[i - 1] = ''\n",
    "                difficulty[i - 1] = 1\n",
    "            if before_c == 'в' and c == 'с' and after_c == 'т' and after_after_c == 'в':\n",
    "                transcription[i - 1] = ''\n",
    "                difficulty[i - 1] = 1\n",
    "            if i == 0 and c == 'с' and after_c in voices_consonants:\n",
    "                transcription[i] = 'з'\n",
    "                difficulty[i] = 1\n",
    "            if c == 'г' and after_c in deaf_consonants:\n",
    "                transcription[i] = 'x'\n",
    "                difficulty[i] = 1\n",
    "            if before_c == c:\n",
    "                transcription[i] = ''\n",
    "                difficulty[i] = 1\n",
    "        else:\n",
    "            transcription[i] = ''\n",
    "            difficulty[i] = 1\n",
    "    if word.endswith(('ого', 'его')):\n",
    "        transcription[-2] = 'в'\n",
    "        difficulty[-2] = 1\n",
    "    if word.endswith('тся'):\n",
    "        transcription[-3] = 'ц'\n",
    "        difficulty[-3] = 1\n",
    "        transcription[-2] = ''\n",
    "        difficulty[-2] = 1\n",
    "    if word.endswith('ться'):\n",
    "        transcription[-4] = 'ц'\n",
    "        difficulty[-4] = 1\n",
    "        transcription[-3] = ''\n",
    "        difficulty[-3] = 1\n",
    "        transcription[-2] = ''\n",
    "        difficulty[-2] = 1\n",
    "    return sum(difficulty), difficulty, transcription"
   ]
  },
  {
   "cell_type": "markdown",
   "metadata": {},
   "source": [
    "Протестируем"
   ]
  },
  {
   "cell_type": "code",
   "execution_count": 8,
   "metadata": {},
   "outputs": [
    {
     "name": "stdout",
     "output_type": "stream",
     "text": [
      "(3, [0, 1, 2, 0], ['п', 'a', 'йо', 'т']) [пай’от]\n",
      "(3, [0, 1, 2], ['ч', '', 'йи']) [ч’й’и]\n",
      "(3, [0, 0, 0, 1, 2], ['л', 'и', 'с', '', 'йи']) [лис’й’и]\n",
      "(1, [0, 0, 0, 1], ['г', 'р', 'и', 'п']) [гр’ип]\n",
      "(3, [0, 1, 1, 0, 0, 1], ['с', 'a', '', 'н', 'ц', 'э']) [сОнцэ]\n",
      "(1, [0, 0, 0, 1, 0], ['в', 'а', 'н', '', 'а']) [ван:а]\n",
      "(4, [0, 1, 0, 1, 1, 0, 1], ['к', 'a', 'н', 'э', 'ш', 'н', 'a']) [кан‘эшна]\n",
      "(3, [1, 1, 0, 0, 1, 0, 0, 0, 0, 0], ['щ', '', 'а', 'с', '', 'л', 'и', 'в', 'ы', 'й']) [щ‘асливый‘]\n",
      "(4, [0, 1, 0, 1, 1, 1], ['б', 'э', 'л', 'a', 'в', 'a']) [б’Элава]\n",
      "(4, [0, 0, 0, 1, 1, 1, 1], ['б', 'р', 'и', 'ц', '', '', 'а']) [бр’иц:а]\n"
     ]
    }
   ],
   "source": [
    "print(get_transcription(word='поёт'), '[пай’от]')\n",
    "print(get_transcription(word='чьи'), '[ч’й’и]')\n",
    "print(get_transcription(word='лисьи'), '[лис’й’и]')\n",
    "print(get_transcription(word='гриб'), '[гр’ип]')\n",
    "print(get_transcription(word='солнце'), '[сОнцэ]')\n",
    "print(get_transcription(word='ванна'), '[ван:а]')\n",
    "print(get_transcription(word='конечно'), '[кан‘эшна]')\n",
    "print(get_transcription(word='счастливый'), '[щ‘асливый‘]')\n",
    "print(get_transcription(word='белого'), '[б’Элава]')\n",
    "print(get_transcription(word='бриться'), '[бр’иц:а]')"
   ]
  },
  {
   "cell_type": "markdown",
   "metadata": {},
   "source": [
    "Функция получает транскрипции, которые могут расходиться с корректным результатом (например, из-за того, что мы не учитываем ударение), но достаточно хорошо определяет сложность.\n",
    "\n",
    "Нарисуем столбчатую диаграмму сложности транскрипции слова на основе датасета с частотами, чтобы посмотреть распределение и сделать корректную функцию определения сложности параметра транскрипции слова."
   ]
  },
  {
   "cell_type": "code",
   "execution_count": 9,
   "metadata": {},
   "outputs": [
    {
     "data": {
      "image/png": "[encoded data removed]",
      "text/plain": [
       "<Figure size 1440x360 with 1 Axes>"
      ]
     },
     "metadata": {
      "needs_background": "light"
     },
     "output_type": "display_data"
    }
   ],
   "source": [
    "fig, ax = plt.subplots(figsize=(20, 5))\n",
    "\n",
    "sns.countplot(x=freq_df['Lemma'].apply(lambda word: get_transcription(word)[0]))\n",
    "\n",
    "ax.set_title('Количество слов определенной сложности фонетической транскрипции')\n",
    "ax.set_ylabel('Количество слов')\n",
    "ax.set_xlabel('Сложность фонетической транскрипции')\n",
    "\n",
    "plt.show()"
   ]
  },
  {
   "cell_type": "markdown",
   "metadata": {},
   "source": [
    "Заметим, что мы можем выделить примерно нормальное распределение со средним в значении 2, а слов длиннее 5 очень мало.\n",
    "\n",
    "Нормализуем длину от 0 до 1 по методу минимакс так, чтобы значение 0.5 соотносилось со средним значением. Для этого за минимум возьмем значение 0, за максимум 5.\n",
    "\n",
    "На вход будем принимать любую форму слова (не будем приводить к лемме), так как окончания могут иметь сложное произношение."
   ]
  },
  {
   "cell_type": "code",
   "execution_count": 10,
   "metadata": {},
   "outputs": [],
   "source": [
    "MIN_PHONEME = 0\n",
    "MAX_PHONEME = 5\n",
    "\n",
    "def word_phoneme_param(word: str) -> float:\n",
    "    difficulty, _, _= get_transcription(word)\n",
    "    normalize_phoneme = (difficulty - MIN_PHONEME) / (MAX_PHONEME - MIN_PHONEME)\n",
    "    return max(0, min(normalize_phoneme, 1))"
   ]
  },
  {
   "cell_type": "markdown",
   "metadata": {},
   "source": [
    "Протестируем"
   ]
  },
  {
   "cell_type": "code",
   "execution_count": 11,
   "metadata": {},
   "outputs": [
    {
     "name": "stdout",
     "output_type": "stream",
     "text": [
      "0\n",
      "0.4\n",
      "0.6\n",
      "1.0\n"
     ]
    }
   ],
   "source": [
    "print(word_phoneme_param(word='маги'))\n",
    "print(word_phoneme_param(word='я'))\n",
    "print(word_phoneme_param(word='поёт'))\n",
    "print(word_phoneme_param(word='абсолютность'))"
   ]
  },
  {
   "cell_type": "markdown",
   "metadata": {
    "id": "M41Q3Jo4qIwF"
   },
   "source": [
    "### Длина слова"
   ]
  },
  {
   "cell_type": "markdown",
   "metadata": {},
   "source": [
    "Напишем функцию определения сложности параметра длины слова. (Чем длиннее слово, тем больше должен быть параметр сложности слова по длине.) Для этого сделаем преданализ данных из вышеупомянутого датасета.\n",
    "\n",
    "Нарисуем столбчатую диаграмму длин слова, чтобы посмотреть распределение и сделать корректную функцию определения сложности параметра длины слова."
   ]
  },
  {
   "cell_type": "code",
   "execution_count": 12,
   "metadata": {
    "colab": {
     "base_uri": "https://localhost:8080/",
     "height": 258
    },
    "id": "BPgFvdVZr12L",
    "outputId": "e02fddc8-e8eb-4bcd-d8ad-c730f76f077b"
   },
   "outputs": [
    {
     "data": {
      "image/png": "[encoded data removed]",
      "text/plain": [
       "<Figure size 1440x360 with 1 Axes>"
      ]
     },
     "metadata": {
      "needs_background": "light"
     },
     "output_type": "display_data"
    }
   ],
   "source": [
    "fig, ax = plt.subplots(figsize=(20, 5))\n",
    "\n",
    "sns.countplot(x=freq_df['length'])\n",
    "\n",
    "ax.set_title('Количество слов определенной длинны')\n",
    "ax.set_ylabel('Количество слов')\n",
    "ax.set_xlabel('Длина слова')\n",
    "\n",
    "plt.show()"
   ]
  },
  {
   "cell_type": "markdown",
   "metadata": {},
   "source": [
    "Заметим, что мы можем выделить примерно нормальное распределение со средним в значении 8-9, а слов длиннее 14 очень мало.\n",
    "\n",
    "Нормализуем длину от 0 до 1 по методу минимакс так, чтобы значение 0.5 соотносилось со средним значением. Для этого за минимум возьмем значение 4, за максимум 14.\n",
    "\n",
    "На вход будем принимать любую форму слова (не будем приводить к лемме), так как слова удлиняемые сложными окончаниями, можно считать сложнее."
   ]
  },
  {
   "cell_type": "code",
   "execution_count": 13,
   "metadata": {
    "id": "5U0SMw-vXenP"
   },
   "outputs": [],
   "source": [
    "MIN_LENGTH = 4\n",
    "MAX_LENGTH = 14\n",
    "\n",
    "def word_length_param(word: str) -> float:\n",
    "    normalize_length = (len(word) - MIN_LENGTH) / (MAX_LENGTH - MIN_LENGTH)\n",
    "    return max(0, min(normalize_length, 1))"
   ]
  },
  {
   "cell_type": "markdown",
   "metadata": {},
   "source": [
    "Протестируем"
   ]
  },
  {
   "cell_type": "code",
   "execution_count": 14,
   "metadata": {
    "colab": {
     "base_uri": "https://localhost:8080/"
    },
    "id": "KUF66SsUhqg6",
    "outputId": "f8bf0787-cb2d-4ba5-b2a4-cd7de80dddc4"
   },
   "outputs": [
    {
     "name": "stdout",
     "output_type": "stream",
     "text": [
      "0\n",
      "0.1\n",
      "0.5\n",
      "1.0\n",
      "1\n"
     ]
    }
   ],
   "source": [
    "print(word_length_param(word='a'))\n",
    "print(word_length_param(word='aaaaa'))\n",
    "print(word_length_param(word='aaaaaaaaa'))\n",
    "print(word_length_param(word='aaaaaaaaaaaaaa'))\n",
    "print(word_length_param(word='aaaaaaaaaaaaaaaaaaaa'))"
   ]
  },
  {
   "cell_type": "markdown",
   "metadata": {
    "id": "WvmmOIV06ncM"
   },
   "source": [
    "### Частотность слова"
   ]
  },
  {
   "cell_type": "markdown",
   "metadata": {},
   "source": [
    "Напишем функцию определения сложности параметра частотности слова. (Чем больше частота использования слово, тем меньше должен быть параметр сложности слова по частотности.) Для этого сделаем преданализ данных из вышеупомянутого датасета."
   ]
  },
  {
   "cell_type": "markdown",
   "metadata": {},
   "source": [
    "Найдем минимальную и максимальную частотность слов."
   ]
  },
  {
   "cell_type": "code",
   "execution_count": 15,
   "metadata": {
    "colab": {
     "base_uri": "https://localhost:8080/"
    },
    "id": "KH6xZ-wkpXNJ",
    "outputId": "ba1ef9a7-0111-48df-db92-e2ac7ea819bc"
   },
   "outputs": [
    {
     "name": "stdout",
     "output_type": "stream",
     "text": [
      "Минимальная частотность: 0.4\n",
      "Максимальная частотность: 35801.8\n"
     ]
    }
   ],
   "source": [
    "print('Минимальная частотность:', freq_df['Freq(ipm)'].min())\n",
    "print('Максимальная частотность:', freq_df['Freq(ipm)'].max())"
   ]
  },
  {
   "cell_type": "markdown",
   "metadata": {},
   "source": [
    "Построим графики со словами в различных промежутках частотности, выводя примеры слов с минимальной и максимальной частотностью, чтобы определить лучшие границы для нормализации длины от 0 до 1 по методу минимакс."
   ]
  },
  {
   "cell_type": "code",
   "execution_count": 16,
   "metadata": {
    "id": "R3VZvwPR7Msq"
   },
   "outputs": [],
   "source": [
    "def show_freq_distplot(FROM, TO):\n",
    "    condition = ((FROM <= freq_df['Freq(ipm)']) & (freq_df['Freq(ipm)'] <= TO))\n",
    "\n",
    "    fig, ax = plt.subplots(figsize=(8, 4))\n",
    "    sns.distplot(x=freq_df[condition]['Freq(ipm)'])\n",
    "\n",
    "    ax.set_title('Распределение частоты слов от ' + str(FROM) + ' до ' + str(TO))\n",
    "    ax.set_ylabel('Плотность')\n",
    "    ax.set_xlabel('Часота слова')\n",
    "\n",
    "    plt.show()\n",
    "    \n",
    "    sorted_freq_df = freq_df[condition].sort_values(by=['Freq(ipm)', 'Lemma'])\n",
    "    print('Слова с минимальной частотностью:\\n', sorted_freq_df.head(5)['Lemma'].values)\n",
    "    print('Слова с максимальной частотностью:\\n', sorted_freq_df.tail(5)['Lemma'].values)"
   ]
  },
  {
   "cell_type": "code",
   "execution_count": 17,
   "metadata": {
    "colab": {
     "base_uri": "https://localhost:8080/",
     "height": 957
    },
    "id": "ACLllDp3vH4X",
    "outputId": "0a9d8d9e-c57f-4196-da06-865e115f0d05"
   },
   "outputs": [
    {
     "data": {
      "image/png": "[encoded data removed]",
      "text/plain": [
       "<Figure size 576x288 with 1 Axes>"
      ]
     },
     "metadata": {
      "needs_background": "light"
     },
     "output_type": "display_data"
    },
    {
     "name": "stdout",
     "output_type": "stream",
     "text": [
      "Слова с минимальной частотностью:\n",
      " ['абонементный' 'абсолютность' 'абсорбент' 'абстрагировать' 'абсцесс']\n",
      "Слова с максимальной частотностью:\n",
      " ['я' 'на' 'не' 'в' 'и']\n"
     ]
    },
    {
     "data": {
      "image/png": "[encoded data removed]",
      "text/plain": [
       "<Figure size 576x288 with 1 Axes>"
      ]
     },
     "metadata": {
      "needs_background": "light"
     },
     "output_type": "display_data"
    },
    {
     "name": "stdout",
     "output_type": "stream",
     "text": [
      "Слова с минимальной частотностью:\n",
      " ['абонементный' 'абсолютность' 'абсорбент' 'абстрагировать' 'абсцесс']\n",
      "Слова с максимальной частотностью:\n",
      " ['тем' 'толкнуть' 'турция' 'убирать' 'чубайс']\n"
     ]
    },
    {
     "data": {
      "image/png": "[encoded data removed]",
      "text/plain": [
       "<Figure size 576x288 with 1 Axes>"
      ]
     },
     "metadata": {
      "needs_background": "light"
     },
     "output_type": "display_data"
    },
    {
     "name": "stdout",
     "output_type": "stream",
     "text": [
      "Слова с минимальной частотностью:\n",
      " ['автоматически' 'аэродром' 'буфет' 'винтовка' 'жажда']\n",
      "Слова с максимальной частотностью:\n",
      " ['я' 'на' 'не' 'в' 'и']\n"
     ]
    }
   ],
   "source": [
    "show_freq_distplot(FROM=0.4, TO=35802)\n",
    "show_freq_distplot(FROM=0.4, TO=20)\n",
    "show_freq_distplot(FROM=20, TO=35802)"
   ]
  },
  {
   "cell_type": "markdown",
   "metadata": {},
   "source": [
    "Нормального распределения не вышло, но достаточно понятные результаты выходят в границах от 0.4 до 20.\n",
    "\n",
    "На вход будем принимать нормальную форму слова (будем приводить к лемме), так как слова берутся из словаря с леммами. Если слова нет в словаре, то не будем учитывать данный параметр."
   ]
  },
  {
   "cell_type": "code",
   "execution_count": 18,
   "metadata": {
    "id": "sWzOCZJx65rZ"
   },
   "outputs": [],
   "source": [
    "MIN_FREQ = 0.4\n",
    "MAX_FREQ = 20\n",
    "\n",
    "def word_freq_param(lemma: str) -> Optional[float]:\n",
    "    found_lemma = freq_df[freq_df['Lemma'] == lemma]\n",
    "    if found_lemma.empty:\n",
    "        return None\n",
    "    freq = found_lemma['Freq(ipm)'].head(1).item()\n",
    "    normalize_freq = (freq - MIN_FREQ) / (MAX_FREQ - MIN_FREQ)\n",
    "    return 1 - max(0, min(normalize_freq, 1))"
   ]
  },
  {
   "cell_type": "markdown",
   "metadata": {},
   "source": [
    "Протестируем"
   ]
  },
  {
   "cell_type": "code",
   "execution_count": 19,
   "metadata": {
    "colab": {
     "base_uri": "https://localhost:8080/"
    },
    "id": "MaKdYGnn_INJ",
    "outputId": "7ac6bd9c-a5f8-4742-d298-712ae263f551"
   },
   "outputs": [
    {
     "name": "stdout",
     "output_type": "stream",
     "text": [
      "None\n",
      "0\n",
      "0.0\n",
      "0.5102040816326532\n",
      "0.9489795918367347\n",
      "1\n"
     ]
    }
   ],
   "source": [
    "print(word_freq_param(lemma='None'))\n",
    "print(word_freq_param(lemma='я'))\n",
    "print(word_freq_param(lemma='убирать'))\n",
    "print(word_freq_param(lemma='попугай'))\n",
    "print(word_freq_param(lemma='кулич'))\n",
    "print(word_freq_param(lemma='касситерит'))"
   ]
  },
  {
   "cell_type": "markdown",
   "metadata": {
    "id": "W74McFCRp62O"
   },
   "source": [
    "### Часть речи слова"
   ]
  },
  {
   "cell_type": "markdown",
   "metadata": {},
   "source": [
    "Будем определять семантическую сложность через частеречную принадлежность. Для этого будем использовать библиотеку pymorphy2 (https://pymorphy2.readthedocs.io/en/stable/index.html), которая может попытаться определить частеречную принадлежность даже несуществующего слова.(https://pymorphy2.readthedocs.io/en/stable/user/grammemes.html)\n",
    "\n",
    "Разобьем слова на группы по семантической сложности (чем сложнее смысл, тем больше должен быть параметр сложности слова по части речи):\n",
    "- мало несущие в себе смысл (0): \n",
    "    - числительное (NUMR)\n",
    "    - наречие (ADVB)\n",
    "    - местоимение-существительное (NPRO)\n",
    "    - предикатив (PRED)\n",
    "    - предлог (PREP)\n",
    "    - союз (CONJ)\n",
    "    - частица (PRCL)\n",
    "    - междометие (INTJ)\n",
    "- изначально созданы для обозначения реальных и наглядных вещей (0.5): \n",
    "    - имя существительное (NOUN)\n",
    "    - имя прилагательное (полное - ADJF, краткое - ADJS)\n",
    "    - компаратив (COMP)\n",
    "    - глагол (личная форма - VERB, инфинитив - INFN)\n",
    "- имеющие сложные смысловые значения (1):\n",
    "    - причастие (полное - PRTF, краткое - PRTS)\n",
    "    - деепричастие (GRND)\n",
    "    \n",
    "На вход будем принимать уже часть речи."
   ]
  },
  {
   "cell_type": "code",
   "execution_count": 20,
   "metadata": {
    "id": "3zHykdhKrLMG"
   },
   "outputs": [],
   "source": [
    "simple_POS = {'NUMR', 'ADVB', 'NPRO', 'PRED', 'PREP', 'CONJ', 'PRCL', 'INTJ'}\n",
    "medium_POS = {'NOUN', 'ADJF', 'ADJS', 'COMP', 'VERB', 'INFN'}\n",
    "difficult_POS = {'PRTF', 'PRTS', 'GRND'}\n",
    "\n",
    "def word_POS_param(POS: str) -> Optional[float]:\n",
    "    if POS in simple_POS:\n",
    "        return 0\n",
    "    if POS in medium_POS:\n",
    "        return 0.5\n",
    "    if POS in difficult_POS:\n",
    "        return 1\n",
    "    return None"
   ]
  },
  {
   "cell_type": "markdown",
   "metadata": {},
   "source": [
    "Протестируем"
   ]
  },
  {
   "cell_type": "code",
   "execution_count": 21,
   "metadata": {
    "colab": {
     "base_uri": "https://localhost:8080/"
    },
    "id": "54PdZziP-24-",
    "outputId": "51cec1e7-55d2-40d1-ed39-b4bd1a1275d3",
    "scrolled": true
   },
   "outputs": [
    {
     "name": "stdout",
     "output_type": "stream",
     "text": [
      "None\n",
      "0\n",
      "0.5\n",
      "1\n"
     ]
    }
   ],
   "source": [
    "print(word_POS_param(POS=morph.parse('None')[0].tag.POS))\n",
    "print(word_POS_param(POS=morph.parse('я')[0].tag.POS))\n",
    "print(word_POS_param(POS=morph.parse('иду')[0].tag.POS))\n",
    "print(word_POS_param(POS=morph.parse('пританцовывая')[0].tag.POS))"
   ]
  },
  {
   "cell_type": "markdown",
   "metadata": {},
   "source": [
    "### Морфемный разбор слова"
   ]
  },
  {
   "cell_type": "markdown",
   "metadata": {},
   "source": [
    "Напишем функцию определения сложности параметра морфем слова. (Чем больше в слове морфем, тем больше должен быть параметр сложности слова по морфемам.) Для этого сделаем преданализ данных из вышеупомянутого датасета."
   ]
  },
  {
   "cell_type": "code",
   "execution_count": 22,
   "metadata": {},
   "outputs": [
    {
     "data": {
      "image/png": "[encoded data removed]",
      "text/plain": [
       "<Figure size 1440x360 with 1 Axes>"
      ]
     },
     "metadata": {
      "needs_background": "light"
     },
     "output_type": "display_data"
    }
   ],
   "source": [
    "fig, ax = plt.subplots(figsize=(20, 5))\n",
    "\n",
    "sns.countplot(x=morph_df['count_morph'])\n",
    "\n",
    "ax.set_title('Количество слов с определенном количеством морфем')\n",
    "ax.set_ylabel('Количество слов')\n",
    "ax.set_xlabel('Количество морфем')\n",
    "\n",
    "plt.show()"
   ]
  },
  {
   "cell_type": "markdown",
   "metadata": {},
   "source": [
    "Заметим, что мы можем выделить примерно нормальное распределение со средним в значении 4, а морфем больше 7 очень мало.\n",
    "\n",
    "Нормализуем длину от 0 до 1 по методу минимакс так, чтобы значение 0.5 соотносилось со средним значением. Для этого за минимум возьмем значение 1, за максимум 7.\n",
    "\n",
    "На вход будем принимать нормальную форму слова (будем приводить к лемме), так как слова берутся из словаря с леммами. Если слова нет в словаре, то не будем учитывать данный параметр."
   ]
  },
  {
   "cell_type": "code",
   "execution_count": 23,
   "metadata": {},
   "outputs": [],
   "source": [
    "MIN_MORPH = 1\n",
    "MAX_MORPH = 7\n",
    "\n",
    "def word_morph_param(lemma: str) -> Optional[float]:\n",
    "    found_lemma = morph_df[morph_df['Lemma'] == lemma]\n",
    "    if found_lemma.empty:\n",
    "        return None\n",
    "    count_morph = found_lemma['count_morph'].head(1).item()\n",
    "    normalize_morph = (count_morph - MIN_MORPH) / (MAX_MORPH - MIN_MORPH)\n",
    "    return max(0, min(normalize_morph, 1))"
   ]
  },
  {
   "cell_type": "markdown",
   "metadata": {},
   "source": [
    "Протестируем"
   ]
  },
  {
   "cell_type": "code",
   "execution_count": 24,
   "metadata": {},
   "outputs": [
    {
     "name": "stdout",
     "output_type": "stream",
     "text": [
      "None\n",
      "0\n",
      "0.16666666666666666\n",
      "0.5\n",
      "0.6666666666666666\n",
      "1.0\n"
     ]
    }
   ],
   "source": [
    "print(word_morph_param(lemma='None'))\n",
    "print(word_morph_param(lemma='я'))\n",
    "print(word_morph_param(lemma='стол'))\n",
    "print(word_morph_param(lemma='припрыгивать'))\n",
    "print(word_morph_param(lemma='пританцовывать'))\n",
    "print(word_morph_param(lemma='авиационноспортивный'))"
   ]
  },
  {
   "cell_type": "markdown",
   "metadata": {},
   "source": [
    "### Финальная функция определения сложности слова"
   ]
  },
  {
   "cell_type": "markdown",
   "metadata": {},
   "source": [
    "Объединим все параметры сложности слова и возьмем среднее значение от их результата - это и будет общая сложность слова от 0 до 1."
   ]
  },
  {
   "cell_type": "code",
   "execution_count": 25,
   "metadata": {},
   "outputs": [],
   "source": [
    "def word_difficulty(word: str) -> dict:\n",
    "    word, lemma, POS = transform_word(word)\n",
    "    params = {'word_phoneme_param': word_phoneme_param(word),\n",
    "              'word_length_param': word_length_param(word),\n",
    "              'word_freq_param': word_freq_param(lemma),\n",
    "              'word_POS_param': word_POS_param(POS),\n",
    "              'word_morph_param': word_morph_param(lemma)}\n",
    "    difficulty = np.mean([param for param in params.values() if param is not None])\n",
    "    return {'difficulty': difficulty, 'params': params}"
   ]
  },
  {
   "cell_type": "markdown",
   "metadata": {},
   "source": [
    "Возьмем небольшой текст, чтобы мы могли протестировать сложность слов. Например, цитату из 'Алисы в стране чудес' Льюиса Кэрролла."
   ]
  },
  {
   "cell_type": "code",
   "execution_count": 26,
   "metadata": {},
   "outputs": [
    {
     "data": {
      "text/html": [
       "<div>\n",
       "<style scoped>\n",
       "    .dataframe tbody tr th:only-of-type {\n",
       "        vertical-align: middle;\n",
       "    }\n",
       "\n",
       "    .dataframe tbody tr th {\n",
       "        vertical-align: top;\n",
       "    }\n",
       "\n",
       "    .dataframe thead th {\n",
       "        text-align: right;\n",
       "    }\n",
       "</style>\n",
       "<table border=\"1\" class=\"dataframe\">\n",
       "  <thead>\n",
       "    <tr style=\"text-align: right;\">\n",
       "      <th></th>\n",
       "      <th>word</th>\n",
       "      <th>difficulty</th>\n",
       "      <th>word_POS_param</th>\n",
       "      <th>word_freq_param</th>\n",
       "      <th>word_length_param</th>\n",
       "      <th>word_morph_param</th>\n",
       "      <th>word_phoneme_param</th>\n",
       "    </tr>\n",
       "  </thead>\n",
       "  <tbody>\n",
       "    <tr>\n",
       "      <th>21</th>\n",
       "      <td>а</td>\n",
       "      <td>0.000000</td>\n",
       "      <td>0.0</td>\n",
       "      <td>0.0</td>\n",
       "      <td>0.0</td>\n",
       "      <td>None</td>\n",
       "      <td>0.0</td>\n",
       "    </tr>\n",
       "    <tr>\n",
       "      <th>92</th>\n",
       "      <td>бы</td>\n",
       "      <td>0.000000</td>\n",
       "      <td>0</td>\n",
       "      <td>0</td>\n",
       "      <td>0.0</td>\n",
       "      <td>0</td>\n",
       "      <td>0.0</td>\n",
       "    </tr>\n",
       "    <tr>\n",
       "      <th>367</th>\n",
       "      <td>вам</td>\n",
       "      <td>0.000000</td>\n",
       "      <td>0</td>\n",
       "      <td>0</td>\n",
       "      <td>0.0</td>\n",
       "      <td>None</td>\n",
       "      <td>0.0</td>\n",
       "    </tr>\n",
       "    <tr>\n",
       "      <th>365</th>\n",
       "      <td>вы</td>\n",
       "      <td>0.000000</td>\n",
       "      <td>0</td>\n",
       "      <td>0</td>\n",
       "      <td>0.0</td>\n",
       "      <td>None</td>\n",
       "      <td>0.0</td>\n",
       "    </tr>\n",
       "    <tr>\n",
       "      <th>297</th>\n",
       "      <td>да</td>\n",
       "      <td>0.000000</td>\n",
       "      <td>0</td>\n",
       "      <td>0</td>\n",
       "      <td>0.0</td>\n",
       "      <td>None</td>\n",
       "      <td>0.0</td>\n",
       "    </tr>\n",
       "    <tr>\n",
       "      <th>...</th>\n",
       "      <td>...</td>\n",
       "      <td>...</td>\n",
       "      <td>...</td>\n",
       "      <td>...</td>\n",
       "      <td>...</td>\n",
       "      <td>...</td>\n",
       "      <td>...</td>\n",
       "    </tr>\n",
       "    <tr>\n",
       "      <th>745</th>\n",
       "      <td>изнеможение</td>\n",
       "      <td>0.735578</td>\n",
       "      <td>0.5</td>\n",
       "      <td>0.811224</td>\n",
       "      <td>0.7</td>\n",
       "      <td>0.666667</td>\n",
       "      <td>1.0</td>\n",
       "    </tr>\n",
       "    <tr>\n",
       "      <th>369</th>\n",
       "      <td>невежественная</td>\n",
       "      <td>0.774490</td>\n",
       "      <td>0.5</td>\n",
       "      <td>0.872449</td>\n",
       "      <td>1.0</td>\n",
       "      <td>0.5</td>\n",
       "      <td>1.0</td>\n",
       "    </tr>\n",
       "    <tr>\n",
       "      <th>739</th>\n",
       "      <td>вскарабкаться</td>\n",
       "      <td>0.786803</td>\n",
       "      <td>0.5</td>\n",
       "      <td>0.867347</td>\n",
       "      <td>0.9</td>\n",
       "      <td>0.666667</td>\n",
       "      <td>1.0</td>\n",
       "    </tr>\n",
       "    <tr>\n",
       "      <th>426</th>\n",
       "      <td>заплетающимся</td>\n",
       "      <td>0.857007</td>\n",
       "      <td>1</td>\n",
       "      <td>0.918367</td>\n",
       "      <td>0.9</td>\n",
       "      <td>0.666667</td>\n",
       "      <td>0.8</td>\n",
       "    </tr>\n",
       "    <tr>\n",
       "      <th>493</th>\n",
       "      <td>свешивающихся</td>\n",
       "      <td>0.897007</td>\n",
       "      <td>1</td>\n",
       "      <td>0.918367</td>\n",
       "      <td>0.9</td>\n",
       "      <td>0.666667</td>\n",
       "      <td>1.0</td>\n",
       "    </tr>\n",
       "  </tbody>\n",
       "</table>\n",
       "<p>853 rows × 7 columns</p>\n",
       "</div>"
      ],
      "text/plain": [
       "               word  difficulty word_POS_param word_freq_param  \\\n",
       "21                а    0.000000            0.0             0.0   \n",
       "92               бы    0.000000              0               0   \n",
       "367             вам    0.000000              0               0   \n",
       "365              вы    0.000000              0               0   \n",
       "297              да    0.000000              0               0   \n",
       "..              ...         ...            ...             ...   \n",
       "745     изнеможение    0.735578            0.5        0.811224   \n",
       "369  невежественная    0.774490            0.5        0.872449   \n",
       "739   вскарабкаться    0.786803            0.5        0.867347   \n",
       "426   заплетающимся    0.857007              1        0.918367   \n",
       "493   свешивающихся    0.897007              1        0.918367   \n",
       "\n",
       "     word_length_param word_morph_param  word_phoneme_param  \n",
       "21                 0.0             None                 0.0  \n",
       "92                 0.0                0                 0.0  \n",
       "367                0.0             None                 0.0  \n",
       "365                0.0             None                 0.0  \n",
       "297                0.0             None                 0.0  \n",
       "..                 ...              ...                 ...  \n",
       "745                0.7         0.666667                 1.0  \n",
       "369                1.0              0.5                 1.0  \n",
       "739                0.9         0.666667                 1.0  \n",
       "426                0.9         0.666667                 0.8  \n",
       "493                0.9         0.666667                 1.0  \n",
       "\n",
       "[853 rows x 7 columns]"
      ]
     },
     "execution_count": 26,
     "metadata": {},
     "output_type": "execute_result"
    }
   ],
   "source": [
    "text_df = pd.DataFrame(columns=list(['word', 'difficulty']))\n",
    "\n",
    "with open('files/AliceInWonderland.txt', 'rb') as f:\n",
    "    delete_symbols = set(string.punctuation)\n",
    "    delete_symbols.remove('-')\n",
    "    for word in f.read().decode('utf-8').split():\n",
    "        word = ''.join([w for w in word.lower().replace(' ', '') if w not in delete_symbols])\n",
    "        if word and text_df[text_df['word'] == word].empty:\n",
    "            difficulty = word_difficulty(word)\n",
    "            row = {'word': word,\n",
    "                   'difficulty': difficulty['difficulty'], }\n",
    "            row.update(difficulty['params'])\n",
    "            text_df = text_df.append(row, ignore_index=True)\n",
    "text_df.sort_values(by=['difficulty', 'word'])"
   ]
  },
  {
   "cell_type": "code",
   "execution_count": 27,
   "metadata": {},
   "outputs": [
    {
     "data": {
      "image/png": "[encoded data removed]",
      "text/plain": [
       "<Figure size 576x288 with 1 Axes>"
      ]
     },
     "metadata": {
      "needs_background": "light"
     },
     "output_type": "display_data"
    }
   ],
   "source": [
    "fig, ax = plt.subplots(figsize=(8, 4))\n",
    "sns.distplot(x=text_df['difficulty'])\n",
    "\n",
    "ax.set_title('Сложность слова')\n",
    "ax.set_ylabel('Плотность')\n",
    "ax.set_xlabel('Сложность слова')\n",
    "\n",
    "plt.show()"
   ]
  },
  {
   "cell_type": "markdown",
   "metadata": {},
   "source": [
    "# Весь нужный код"
   ]
  },
  {
   "cell_type": "code",
   "execution_count": 28,
   "metadata": {},
   "outputs": [],
   "source": [
    "import requests\n",
    "import zipfile\n",
    "import io\n",
    "import pandas as pd\n",
    "import numpy as np\n",
    "import os\n",
    "import shutil\n",
    "from typing import Optional\n",
    "import warnings\n",
    "import pymorphy2\n",
    "warnings.filterwarnings('ignore')\n",
    "\n",
    "# Константы\n",
    "morph = pymorphy2.MorphAnalyzer()\n",
    "\n",
    "MIN_PHONEME = 0\n",
    "MAX_PHONEME = 5\n",
    "\n",
    "MIN_LENGTH = 4\n",
    "MAX_LENGTH = 14\n",
    "\n",
    "MIN_FREQ = 0.4\n",
    "MAX_FREQ = 20\n",
    "\n",
    "simple_POS = {'NUMR', 'ADVB', 'NPRO', 'PRED', 'PREP', 'CONJ', 'PRCL', 'INTJ'}\n",
    "medium_POS = {'NOUN', 'ADJF', 'ADJS', 'COMP', 'VERB', 'INFN'}\n",
    "difficult_POS = {'PRTF', 'PRTS', 'GRND'}\n",
    "\n",
    "MIN_MORPH = 1\n",
    "MAX_MORPH = 7\n",
    "\n",
    "# Датасеты\n",
    "dirname = 'datasets/freq'\n",
    "r = requests.get('http://dict.ruslang.ru/Freq2011.zip')\n",
    "with r, zipfile.ZipFile(io.BytesIO(r.content)) as archive:\n",
    "    archive.extractall(dirname)\n",
    "freq_df = pd.read_csv(os.path.join(dirname, 'freqrnc2011.csv'), sep='\\t')[['Lemma', 'Freq(ipm)']]\n",
    "freq_df['Lemma'] = freq_df['Lemma'].str.lower()\n",
    "freq_df['length'] = freq_df['Lemma'].str.len()\n",
    "\n",
    "dirname = 'datasets/tikhonov'\n",
    "fullname = os.path.join(dirname, 'tikhonov.txt')\n",
    "shutil.rmtree(dirname, ignore_errors=True)\n",
    "r = requests.get('http://www.speakrus.ru/dict2/tikhonov.zip')\n",
    "with r, zipfile.ZipFile(io.BytesIO(r.content)) as archive:\n",
    "    archive.extractall(dirname)\n",
    "with open(os.path.join(dirname, os.listdir(dirname)[0]), 'rb') as f:\n",
    "    text = f.read().decode('cp1251')\n",
    "    with open(fullname, 'wb') as ru:\n",
    "        ru.write(text.encode('utf-8'))    \n",
    "morph_df = pd.read_csv(fullname, sep='|', names=['Lemma', 'analysis'])\n",
    "morph_df['Lemma'] = morph_df['Lemma'].str.replace('\\d+', '').str.split().str[0].str.lower()\n",
    "morph_df['analysis'] = morph_df['analysis'].str.replace('\\d+', '').str.split(pat=',', n=1).str[0].str.split().str[0]\n",
    "morph_df['count_morph'] = morph_df['analysis'].str.count(pat='/') + 1\n",
    "\n",
    "# Вспомогательные функции\n",
    "def transform_word(word: str) -> tuple:\n",
    "    word = word.lower().strip()\n",
    "    morph_parse = morph.parse(word)[0]\n",
    "    return word, morph_parse.normal_form, morph_parse.tag.POS \n",
    "\n",
    "vowels = set('аяоёуюыиэе')\n",
    "consonants = set('бвгджзйклмнпрстфхцчшщ')\n",
    "marks = set('ъь')\n",
    "\n",
    "deaf_consonants = set('пфктшсхцчщ')\n",
    "voices_consonants = set('лмнрйбвгджз')\n",
    "\n",
    "ioted_vowels = { \n",
    "    'я' : {'one': 'а', 'two': 'йа'},\n",
    "    'ё' : {'one': 'о', 'two': 'йо'},\n",
    "    'ю' : {'one': 'у', 'two': 'йу'},\n",
    "    'е' : {'one': 'э', 'two': 'йэ'},\n",
    "}\n",
    "\n",
    "stress_vowels = {\n",
    "    'о': {'stress': 'о', 'not_stress': 'a'},\n",
    "    'е': {'stress': 'э', 'not_stress': 'и'},\n",
    "    'я': {'stress': 'а', 'not_stress': 'и'},\n",
    "}\n",
    "\n",
    "deaf_pairs = {\n",
    "    'б': 'п',\n",
    "    'в': 'ф',\n",
    "    'г': 'к',\n",
    "    'д': 'т',\n",
    "    'ж': 'ш',\n",
    "    'з': 'с'\n",
    "}\n",
    "\n",
    "simple_groups = { #abc -> ac\n",
    "    'с' : {'т': set('нл')}, # стн, стл \n",
    "    'н' : {'д': set('шц'), 'т': 'г'}, # ндш, ндц, нтг\n",
    "    'з' : {'д': set('нц')}, # здн, здц\n",
    "    'р' : {'д': set('цч')} # рдц, рдч \n",
    "}\n",
    "\n",
    "sh_groups = { # ab -> шb\n",
    "    'ч' : set('нт') # чн, чт\n",
    "}\n",
    "\n",
    "sch_groups = { # ab -> щ\n",
    "    'с' : 'ч', # сч\n",
    "    'з' : 'ч', # зч\n",
    "    'ж' : 'ч', # жч\n",
    "}\n",
    "\n",
    "def get_transcription(word: str) -> tuple:\n",
    "    difficulty = [0] * len(word)\n",
    "    transcription = ['!'] * len(word)\n",
    "    for i in range(len(word)):\n",
    "        c = word[i]\n",
    "        before_c = word[i - 1] if i > 0 else None\n",
    "        after_c = word[i + 1] if i < len(word) - 1 else None\n",
    "        after_after_c = word[i + 2] if i < len(word) - 2 else None\n",
    "        if c in vowels:\n",
    "            transcription[i] = c\n",
    "            difficulty[i] = 0\n",
    "            if c in ioted_vowels:\n",
    "                if i == 0 or before_c in vowels or before_c in marks:\n",
    "                    transcription[i] = ioted_vowels[c]['two']\n",
    "                    difficulty[i] = 2\n",
    "                else:\n",
    "                    transcription[i] = ioted_vowels[c]['one']\n",
    "                    difficulty[i] = 1\n",
    "            elif c == 'и':\n",
    "                if before_c == 'ь':\n",
    "                    transcription[i] = 'йи'\n",
    "                    difficulty[i] = 2\n",
    "                elif before_c in set('жшц'):\n",
    "                    transcription[i] = 'ы'\n",
    "                    difficulty[i] = 1\n",
    "                else:\n",
    "                    transcription[i] = 'и'\n",
    "                    difficulty[i] = 0\n",
    "            elif c in stress_vowels:\n",
    "                transcription[i] = stress_vowels[c]['not_stress']\n",
    "                difficulty[i] = 1\n",
    "        elif c in consonants:\n",
    "            transcription[i] = c\n",
    "            difficulty[i] = 0\n",
    "            if c in deaf_pairs:\n",
    "                if i == len(word) - 1 or after_c in deaf_consonants:\n",
    "                    transcription[i] = deaf_pairs[c]\n",
    "                    difficulty[i] = 1\n",
    "            if before_c and after_c and\\\n",
    "                before_c in simple_groups and\\\n",
    "                c in simple_groups[before_c] and\\\n",
    "                after_c in simple_groups[before_c][c]:\n",
    "                transcription[i] = ''\n",
    "                difficulty[i] = 1\n",
    "            if before_c in sh_groups and c in sh_groups[before_c]:\n",
    "                transcription[i - 1] = 'ш'\n",
    "                difficulty[i - 1] = 1\n",
    "            if before_c in sch_groups and c in sch_groups[before_c]:\n",
    "                transcription[i - 1] = 'щ'\n",
    "                difficulty[i - 1] = 1\n",
    "                transcription[i] = ''\n",
    "                difficulty[i] = 1\n",
    "            if before_c == 'л' and c == 'н' and after_c == 'ц':\n",
    "                transcription[i - 1] = ''\n",
    "                difficulty[i - 1] = 1\n",
    "            if before_c == 'в' and c == 'с' and after_c == 'т' and after_after_c == 'в':\n",
    "                transcription[i - 1] = ''\n",
    "                difficulty[i - 1] = 1\n",
    "            if i == 0 and c == 'с' and after_c in voices_consonants:\n",
    "                transcription[i] = 'з'\n",
    "                difficulty[i] = 1\n",
    "            if c == 'г' and after_c in deaf_consonants:\n",
    "                transcription[i] = 'x'\n",
    "                difficulty[i] = 1\n",
    "            if before_c == c:\n",
    "                transcription[i] = ''\n",
    "                difficulty[i] = 1\n",
    "        else:\n",
    "            transcription[i] = ''\n",
    "            difficulty[i] = 1\n",
    "    if word.endswith(('ого', 'его')):\n",
    "        transcription[-2] = 'в'\n",
    "        difficulty[-2] = 1\n",
    "    if word.endswith('тся'):\n",
    "        transcription[-3] = 'ц'\n",
    "        difficulty[-3] = 1\n",
    "        transcription[-2] = ''\n",
    "        difficulty[-2] = 1\n",
    "    if word.endswith('ться'):\n",
    "        transcription[-4] = 'ц'\n",
    "        difficulty[-4] = 1\n",
    "        transcription[-3] = ''\n",
    "        difficulty[-3] = 1\n",
    "        transcription[-2] = ''\n",
    "        difficulty[-2] = 1\n",
    "    return sum(difficulty), difficulty, transcription\n",
    "\n",
    "def word_phoneme_param(word: str) -> float:\n",
    "    difficulty, _, _= get_transcription(word)\n",
    "    normalize_phoneme = (difficulty - MIN_PHONEME) / (MAX_PHONEME - MIN_PHONEME)\n",
    "    return max(0, min(normalize_phoneme, 1))\n",
    "\n",
    "def word_length_param(word: str) -> float:\n",
    "    normalize_length = (len(word) - MIN_LENGTH) / (MAX_LENGTH - MIN_LENGTH)\n",
    "    return max(0, min(normalize_length, 1))\n",
    "\n",
    "def word_freq_param(lemma: str) -> Optional[float]:\n",
    "    found_lemma = freq_df[freq_df['Lemma'] == lemma]\n",
    "    if found_lemma.empty:\n",
    "        return None\n",
    "    freq = found_lemma['Freq(ipm)'].head(1).item()\n",
    "    normalize_freq = (freq - MIN_FREQ) / (MAX_FREQ - MIN_FREQ)\n",
    "    return 1 - max(0, min(normalize_freq, 1))\n",
    "\n",
    "def word_POS_param(POS: str) -> Optional[float]:\n",
    "    if POS in simple_POS:\n",
    "        return 0\n",
    "    if POS in medium_POS:\n",
    "        return 0.5\n",
    "    if POS in difficult_POS:\n",
    "        return 1\n",
    "    return None\n",
    "\n",
    "def word_morph_param(lemma: str) -> Optional[float]:\n",
    "    found_lemma = morph_df[morph_df['Lemma'] == lemma]\n",
    "    if found_lemma.empty:\n",
    "        return None\n",
    "    count_morph = found_lemma['count_morph'].head(1).item()\n",
    "    normalize_morph = (count_morph - MIN_MORPH) / (MAX_MORPH - MIN_MORPH)\n",
    "    return max(0, min(normalize_morph, 1))\n",
    "\n",
    "# Главная функция\n",
    "def word_difficulty(word: str) -> dict:\n",
    "    word, lemma, POS = transform_word(word)\n",
    "    params = {'word_phoneme_param': word_phoneme_param(word),\n",
    "              'word_length_param': word_length_param(word),\n",
    "              'word_freq_param': word_freq_param(lemma),\n",
    "              'word_POS_param': word_POS_param(POS),\n",
    "              'word_morph_param': word_morph_param(lemma)}\n",
    "    difficulty = np.mean([param for param in params.values() if param is not None])\n",
    "    return {'difficulty': difficulty, 'params': params}"
   ]
  }
 ],
 "metadata": {
  "colab": {
   "collapsed_sections": [],
   "name": "курсач.ipynb",
   "provenance": []
  },
  "kernelspec": {
   "display_name": "Python 3",
   "language": "python",
   "name": "python3"
  },
  "language_info": {
   "codemirror_mode": {
    "name": "ipython",
    "version": 3
   },
   "file_extension": ".py",
   "mimetype": "text/x-python",
   "name": "python",
   "nbconvert_exporter": "python",
   "pygments_lexer": "ipython3",
   "version": "3.8.8"
  }
 },
 "nbformat": 4,
 "nbformat_minor": 1
}
